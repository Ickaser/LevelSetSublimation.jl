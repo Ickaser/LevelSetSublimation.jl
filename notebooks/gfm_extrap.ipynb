{
 "cells": [
  {
   "cell_type": "code",
   "execution_count": 1,
   "metadata": {},
   "outputs": [],
   "source": [
    "import sympy as sym"
   ]
  },
  {
   "cell_type": "code",
   "execution_count": 17,
   "metadata": {},
   "outputs": [],
   "source": [
    "xp, xip, xi, xim, xim2 = sym.symbols(\"x_p x_{i+1} x_i x_{i-1} x_{i-2}\")\n",
    "r, rp, ri, rim, rim2, rip = sym.symbols(\"r r_p r_i r_{i-1} r_{i-2} r_{i+1}\", positive=True)\n",
    "Tp, Tip, Ti, Tim, Tim2 = sym.symbols(\"T_p T_{i+1} T_i T_{i-1} T_{i-2}\")\n",
    "x, T = sym.symbols(\"x T\")\n",
    "th, thl, thr, h = sym.symbols(\"theta theta_l theta_r h\")\n",
    "kp, km, k = sym.symbols(\"k^+ k^- k\")\n",
    "\n",
    "ln = sym.log\n",
    "\n",
    "dT, dk = sym.symbols(\"dT dk\")\n",
    "Q, Kv, Kw, Tw, Tsh = sym.symbols(\"Q K_v K_{gl} T_{gl} T_{sh}\")\n",
    "\n"
   ]
  },
  {
   "attachments": {},
   "cell_type": "markdown",
   "metadata": {},
   "source": [
    "## Linear extrapolation, second order finite diff, Cartesian\n",
    "\n",
    "### North cell"
   ]
  },
  {
   "attachments": {},
   "cell_type": "markdown",
   "metadata": {},
   "source": [
    "#### $\\theta > \\Delta z $"
   ]
  },
  {
   "cell_type": "code",
   "execution_count": 3,
   "metadata": {},
   "outputs": [
    {
     "data": {
      "text/latex": [
       "$\\displaystyle T_{i} \\left(- \\frac{k}{h^{2}} - \\frac{k}{h^{2} \\theta}\\right) + \\frac{T_{p} k}{h^{2} \\theta} + \\frac{T_{i-1} k}{h^{2}}$"
      ],
      "text/plain": [
       "T_i*(-k/h**2 - k/(h**2*theta)) + T_p*k/(h**2*theta) + T_{i-1}*k/h**2"
      ]
     },
     "metadata": {},
     "output_type": "display_data"
    },
    {
     "data": {
      "text/latex": [
       "$\\displaystyle \\frac{T_{i} k \\left(- \\theta - 1\\right)}{h^{2} \\theta}$"
      ],
      "text/plain": [
       "T_i*k*(-theta - 1)/(h**2*theta)"
      ]
     },
     "metadata": {},
     "output_type": "display_data"
    },
    {
     "data": {
      "text/latex": [
       "$\\displaystyle \\frac{T_{i-1} k}{h^{2}}$"
      ],
      "text/plain": [
       "T_{i-1}*k/h**2"
      ]
     },
     "metadata": {},
     "output_type": "display_data"
    },
    {
     "data": {
      "text/latex": [
       "$\\displaystyle 0$"
      ],
      "text/plain": [
       "0"
      ]
     },
     "metadata": {},
     "output_type": "display_data"
    },
    {
     "data": {
      "text/latex": [
       "$\\displaystyle \\frac{T_{p} k}{h^{2} \\theta}$"
      ],
      "text/plain": [
       "T_p*k/(h**2*theta)"
      ]
     },
     "metadata": {},
     "output_type": "display_data"
    }
   ],
   "source": [
    "t1 = Tp  *(x-xi) / (xp-xi  )\n",
    "t2 = Ti  *(x-xp) / (xi-xp )\n",
    "\n",
    "y = t1 + t2 \n",
    "Tg = y.subs(x, xip)\n",
    "# Tg\n",
    "Tg = Tg.subs(xim, -h)\n",
    "Tg = Tg.subs(xi, 0)\n",
    "Tg = Tg.subs(xp, th*h)\n",
    "Tg = Tg.subs(xip, h)\n",
    "# sym.collect(sym.simplify(fdiff), Ti)\n",
    "\n",
    "fdiff = k*(Tg - 2*Ti + Tim)/h/h\n",
    "fdiff = sym.collect(sym.collect(sym.expand(fdiff), Ti), Tim)  #* h*h*th*(th+1)\n",
    "display(fdiff)\n",
    "display(Ti* fdiff.coeff(Ti).simplify())\n",
    "display(Tim* fdiff.coeff(Tim).simplify())\n",
    "display(Tip* fdiff.coeff(Tip).simplify())\n",
    "display(Tp* fdiff.coeff(Tp).simplify())"
   ]
  },
  {
   "attachments": {},
   "cell_type": "markdown",
   "metadata": {},
   "source": [
    "#### $\\theta < \\Delta z$"
   ]
  },
  {
   "cell_type": "code",
   "execution_count": 4,
   "metadata": {},
   "outputs": [
    {
     "data": {
      "text/latex": [
       "$\\displaystyle - \\frac{2 T_{i} k}{h^{2}} + \\frac{2 T_{p} k}{h^{2} \\theta + h^{2}} + T_{i-1} \\left(- \\frac{k \\theta}{- h^{2} \\theta - h^{2}} + \\frac{k}{- h^{2} \\theta - h^{2}} + \\frac{k}{h^{2}}\\right)$"
      ],
      "text/plain": [
       "-2*T_i*k/h**2 + 2*T_p*k/(h**2*theta + h**2) + T_{i-1}*(-k*theta/(-h**2*theta - h**2) + k/(-h**2*theta - h**2) + k/h**2)"
      ]
     },
     "metadata": {},
     "output_type": "display_data"
    },
    {
     "data": {
      "text/latex": [
       "$\\displaystyle - \\frac{2 T_{i} k}{h^{2}}$"
      ],
      "text/plain": [
       "-2*T_i*k/h**2"
      ]
     },
     "metadata": {},
     "output_type": "display_data"
    },
    {
     "data": {
      "text/latex": [
       "$\\displaystyle \\frac{2 T_{i-1} k \\theta}{h^{2} \\left(\\theta + 1\\right)}$"
      ],
      "text/plain": [
       "2*T_{i-1}*k*theta/(h**2*(theta + 1))"
      ]
     },
     "metadata": {},
     "output_type": "display_data"
    },
    {
     "data": {
      "text/latex": [
       "$\\displaystyle \\frac{2 T_{p} k}{h^{2} \\left(\\theta + 1\\right)}$"
      ],
      "text/plain": [
       "2*T_p*k/(h**2*(theta + 1))"
      ]
     },
     "metadata": {},
     "output_type": "display_data"
    }
   ],
   "source": [
    "t1 = Tp  *(x-xim) / (xp-xim  )\n",
    "t2 = Tim *(x-xp) / ( xim-xp )\n",
    "\n",
    "y = t1 + t2 \n",
    "Tg = y.subs(x, xip)\n",
    "\n",
    "Tg = Tg.subs(xim, -h)\n",
    "Tg = Tg.subs(xi, 0)\n",
    "Tg = Tg.subs(xp, th*h)\n",
    "Tg = Tg.subs(xip, h)\n",
    "\n",
    "fdiff = k*(Tg - 2*Ti + Tim)/h/h\n",
    "# sym.collect(sym.simplify(fdiff), Ti)\n",
    "fdiff = sym.collect(sym.collect(sym.expand(fdiff), Ti), Tim)  #* h*h*th*(th+1)\n",
    "\n",
    "display(fdiff)\n",
    "display(Ti* fdiff.coeff(Ti).simplify())\n",
    "display(Tim* fdiff.coeff(Tim).simplify())\n",
    "display(Tp* fdiff.coeff(Tp).simplify())"
   ]
  },
  {
   "attachments": {},
   "cell_type": "markdown",
   "metadata": {},
   "source": [
    "#### South ghost from Neumann, north ghost from Stefan"
   ]
  },
  {
   "cell_type": "code",
   "execution_count": 47,
   "metadata": {},
   "outputs": [
    {
     "data": {
      "text/latex": [
       "$\\displaystyle \\frac{2 Q}{h} - \\frac{2 T_{i} k}{h^{2} \\theta} + \\frac{2 T_{p} k}{h^{2} \\theta}$"
      ],
      "text/plain": [
       "2*Q/h - 2*T_i*k/(h**2*theta) + 2*T_p*k/(h**2*theta)"
      ]
     },
     "metadata": {},
     "output_type": "display_data"
    },
    {
     "data": {
      "text/latex": [
       "$\\displaystyle - \\frac{2 T_{i} k}{h^{2} \\theta}$"
      ],
      "text/plain": [
       "-2*T_i*k/(h**2*theta)"
      ]
     },
     "metadata": {},
     "output_type": "display_data"
    },
    {
     "data": {
      "text/latex": [
       "$\\displaystyle 0$"
      ],
      "text/plain": [
       "0"
      ]
     },
     "metadata": {},
     "output_type": "display_data"
    },
    {
     "data": {
      "text/latex": [
       "$\\displaystyle \\frac{2 T_{p} k}{h^{2} \\theta}$"
      ],
      "text/plain": [
       "2*T_p*k/(h**2*theta)"
      ]
     },
     "metadata": {},
     "output_type": "display_data"
    }
   ],
   "source": [
    "t1 = Tp  *(x-xi) / (-th*h  )\n",
    "t2 = Ti  *(x-xp) / (th*h )\n",
    "\n",
    "\n",
    "y = t1 + t2 \n",
    "Tgn = y.subs(x, xim)\n",
    "\n",
    "Tgn = Tgn.subs(xim, -h)\n",
    "Tgn = Tgn.subs(xi, 0)\n",
    "Tgn = Tgn.subs(xp, -th*h)\n",
    "Tgn = Tgn.subs(xip, h)\n",
    "\n",
    "Tgs = Tgn + 2*h*Q/k\n",
    "# Tg\n",
    "fdiff = (k*(Tgn-2*Ti+Tgs)/h/h)\n",
    "# sym.collect(sym.simplify(fdiff), Ti)\n",
    "fdiff = sym.collect(sym.collect(sym.expand(fdiff), Ti), Tim)  #* h*h*th*(th+1)\n",
    "display(fdiff)\n",
    "display(Ti* (fdiff.coeff(Ti).simplify()).expand())\n",
    "display(Tim* fdiff.coeff(Tim).simplify())\n",
    "display(Tp* fdiff.coeff(Tp).simplify())"
   ]
  },
  {
   "attachments": {},
   "cell_type": "markdown",
   "metadata": {},
   "source": [
    "#### North ghost from Stefan, south ghost from Robin"
   ]
  },
  {
   "cell_type": "code",
   "execution_count": 52,
   "metadata": {},
   "outputs": [
    {
     "data": {
      "text/latex": [
       "$\\displaystyle \\frac{2 K_{v} T_{sh}}{h} + T_{i} \\left(- \\frac{2 K_{v}}{h} - \\frac{2 k}{h^{2} \\theta}\\right) + \\frac{2 T_{p} k}{h^{2} \\theta}$"
      ],
      "text/plain": [
       "2*K_v*T_{sh}/h + T_i*(-2*K_v/h - 2*k/(h**2*theta)) + 2*T_p*k/(h**2*theta)"
      ]
     },
     "metadata": {},
     "output_type": "display_data"
    },
    {
     "data": {
      "text/latex": [
       "$\\displaystyle T_{i} \\left(- \\frac{2 K_{v}}{h} - \\frac{2 k}{h^{2} \\theta}\\right)$"
      ],
      "text/plain": [
       "T_i*(-2*K_v/h - 2*k/(h**2*theta))"
      ]
     },
     "metadata": {},
     "output_type": "display_data"
    },
    {
     "data": {
      "text/latex": [
       "$\\displaystyle \\frac{2 T_{p} k}{h^{2} \\theta}$"
      ],
      "text/plain": [
       "2*T_p*k/(h**2*theta)"
      ]
     },
     "metadata": {},
     "output_type": "display_data"
    },
    {
     "data": {
      "text/latex": [
       "$\\displaystyle \\frac{2 K_{v} T_{sh}}{h}$"
      ],
      "text/plain": [
       "2*K_v*T_{sh}/h"
      ]
     },
     "metadata": {},
     "output_type": "display_data"
    }
   ],
   "source": [
    "t1 = Tp  *(x-xi) / (-th*h  )\n",
    "t2 = Ti  *(x-xp) / (th*h )\n",
    "\n",
    "\n",
    "y = t1 + t2 \n",
    "Tgn = y.subs(x, xim)\n",
    "\n",
    "Tgn = Tgn.subs(xim, -h)\n",
    "Tgn = Tgn.subs(xi, 0)\n",
    "Tgn = Tgn.subs(xp, -th*h)\n",
    "Tgn = Tgn.subs(xip, h)\n",
    "\n",
    "# Tgs = Tgn + 2*h*Q/k\n",
    "Tgs = Tgn + Kv*(Tsh-Ti)*2*h/k\n",
    "# Tg\n",
    "fdiff = (k*(Tgn-2*Ti+Tgs)/h/h)\n",
    "# sym.collect(sym.simplify(fdiff), Ti)\n",
    "fdiff = sym.collect(sym.collect(sym.expand(fdiff), Ti), Tim)  #* h*h*th*(th+1)\n",
    "display(fdiff)\n",
    "display(Ti* (fdiff.coeff(Ti).simplify()).expand())\n",
    "display(Tp* fdiff.coeff(Tp).simplify())\n",
    "display(Tsh* fdiff.coeff(Tsh).simplify())"
   ]
  },
  {
   "cell_type": "markdown",
   "metadata": {},
   "source": [
    "#### South cell"
   ]
  },
  {
   "cell_type": "markdown",
   "metadata": {},
   "source": [
    "#### $\\theta > \\Delta z $"
   ]
  },
  {
   "cell_type": "code",
   "execution_count": 10,
   "metadata": {},
   "outputs": [
    {
     "data": {
      "text/latex": [
       "$\\displaystyle T_{i} \\left(- \\frac{k}{h^{2}} - \\frac{k}{h^{2} \\theta}\\right) + \\frac{T_{p} k}{h^{2} \\theta} + \\frac{T_{i+1} k}{h^{2}}$"
      ],
      "text/plain": [
       "T_i*(-k/h**2 - k/(h**2*theta)) + T_p*k/(h**2*theta) + T_{i+1}*k/h**2"
      ]
     },
     "metadata": {},
     "output_type": "display_data"
    },
    {
     "data": {
      "text/latex": [
       "$\\displaystyle \\frac{T_{i} k \\left(- \\theta - 1\\right)}{h^{2} \\theta}$"
      ],
      "text/plain": [
       "T_i*k*(-theta - 1)/(h**2*theta)"
      ]
     },
     "metadata": {},
     "output_type": "display_data"
    },
    {
     "data": {
      "text/latex": [
       "$\\displaystyle \\frac{T_{i+1} k}{h^{2}}$"
      ],
      "text/plain": [
       "T_{i+1}*k/h**2"
      ]
     },
     "metadata": {},
     "output_type": "display_data"
    },
    {
     "data": {
      "text/latex": [
       "$\\displaystyle \\frac{T_{p} k}{h^{2} \\theta}$"
      ],
      "text/plain": [
       "T_p*k/(h**2*theta)"
      ]
     },
     "metadata": {},
     "output_type": "display_data"
    }
   ],
   "source": [
    "t1 = Tp  *(x-xi) / (-th*h  )\n",
    "t2 = Ti  *(x-xp) / (th*h )\n",
    "\n",
    "\n",
    "y = t1 + t2 \n",
    "Tg = y.subs(x, xim)\n",
    "\n",
    "Tg = Tg.subs(xim, -h)\n",
    "Tg = Tg.subs(xi, 0)\n",
    "Tg = Tg.subs(xp, -th*h)\n",
    "Tg = Tg.subs(xip, h)\n",
    "# Tg\n",
    "fdiff = (kp*(Tip-Ti)/h - km*(Ti-Tg)/h)/h\n",
    "# sym.collect(sym.simplify(fdiff), Ti)\n",
    "fdiff = sym.collect(sym.collect(sym.expand(fdiff), Ti), Tim)  #* h*h*th*(th+1)\n",
    "fdiff\n",
    "fdiffk = fdiff.subs(kp, k).subs(km, k)\n",
    "fdiffk\n",
    "display(fdiffk)\n",
    "display(Ti* fdiffk.coeff(Ti).simplify())\n",
    "display(Tip* fdiffk.coeff(Tip).simplify())\n",
    "display(Tp* fdiffk.coeff(Tp).simplify())"
   ]
  },
  {
   "cell_type": "markdown",
   "metadata": {},
   "source": [
    "#### $\\theta < \\Delta z$"
   ]
  },
  {
   "cell_type": "code",
   "execution_count": 11,
   "metadata": {},
   "outputs": [
    {
     "data": {
      "text/latex": [
       "$\\displaystyle - \\frac{2 T_{i} k}{h^{2}} - \\frac{2 T_{p} k}{- h^{2} \\theta - h^{2}} + \\frac{T_{i+1} k \\theta}{h^{2} \\theta + h^{2}} - \\frac{T_{i+1} k}{h^{2} \\theta + h^{2}} + \\frac{T_{i+1} k}{h^{2}}$"
      ],
      "text/plain": [
       "-2*T_i*k/h**2 - 2*T_p*k/(-h**2*theta - h**2) + T_{i+1}*k*theta/(h**2*theta + h**2) - T_{i+1}*k/(h**2*theta + h**2) + T_{i+1}*k/h**2"
      ]
     },
     "metadata": {},
     "output_type": "display_data"
    },
    {
     "data": {
      "text/latex": [
       "$\\displaystyle - \\frac{2 T_{i} k}{h^{2}}$"
      ],
      "text/plain": [
       "-2*T_i*k/h**2"
      ]
     },
     "metadata": {},
     "output_type": "display_data"
    },
    {
     "data": {
      "text/latex": [
       "$\\displaystyle \\frac{2 T_{i+1} k \\theta}{h^{2} \\left(\\theta + 1\\right)}$"
      ],
      "text/plain": [
       "2*T_{i+1}*k*theta/(h**2*(theta + 1))"
      ]
     },
     "metadata": {},
     "output_type": "display_data"
    },
    {
     "data": {
      "text/latex": [
       "$\\displaystyle \\frac{2 T_{p} k}{h^{2} \\left(\\theta + 1\\right)}$"
      ],
      "text/plain": [
       "2*T_p*k/(h**2*(theta + 1))"
      ]
     },
     "metadata": {},
     "output_type": "display_data"
    }
   ],
   "source": [
    "t1 = Tp  *(x-xip) / (xp-xip )\n",
    "t2 = Tip  *(x-xp) / (xip-xp )\n",
    "\n",
    "y = t1 + t2 \n",
    "Tg = y.subs(x, xim)\n",
    "Tg = Tg.subs(xim, -h)\n",
    "Tg = Tg.subs(xi, 0)\n",
    "Tg = Tg.subs(xp, -th*h)\n",
    "Tg = Tg.subs(xip, h)\n",
    "# Tg\n",
    "fdiff = (kp*(Tip-Ti)/h - km*(Ti-Tg)/h)/h\n",
    "# sym.collect(sym.simplify(fdiff), Ti)\n",
    "fdiff = sym.collect(sym.collect(sym.expand(fdiff), Ti), Tim)  #* h*h*th*(th+1)\n",
    "fdiff\n",
    "fdiffk = fdiff.subs(kp, k).subs(km, k)\n",
    "fdiffk\n",
    "display(fdiffk)\n",
    "display(Ti* fdiffk.coeff(Ti).simplify())\n",
    "display(Tip* fdiffk.coeff(Tip).simplify())\n",
    "display(Tp* fdiffk.coeff(Tp).simplify())"
   ]
  },
  {
   "attachments": {},
   "cell_type": "markdown",
   "metadata": {},
   "source": [
    "#### North ghost from edge Neumann BC, south ghost from Stefan BC"
   ]
  },
  {
   "cell_type": "code",
   "execution_count": 46,
   "metadata": {},
   "outputs": [
    {
     "data": {
      "text/latex": [
       "$\\displaystyle \\frac{2 Q}{h} - \\frac{2 T_{i} k}{h^{2} \\theta} + \\frac{2 T_{p} k}{h^{2} \\theta}$"
      ],
      "text/plain": [
       "2*Q/h - 2*T_i*k/(h**2*theta) + 2*T_p*k/(h**2*theta)"
      ]
     },
     "metadata": {},
     "output_type": "display_data"
    },
    {
     "data": {
      "text/latex": [
       "$\\displaystyle - \\frac{2 T_{i} k}{h^{2} \\theta}$"
      ],
      "text/plain": [
       "-2*T_i*k/(h**2*theta)"
      ]
     },
     "metadata": {},
     "output_type": "display_data"
    },
    {
     "data": {
      "text/latex": [
       "$\\displaystyle 0$"
      ],
      "text/plain": [
       "0"
      ]
     },
     "metadata": {},
     "output_type": "display_data"
    },
    {
     "data": {
      "text/latex": [
       "$\\displaystyle \\frac{2 T_{p} k}{h^{2} \\theta}$"
      ],
      "text/plain": [
       "2*T_p*k/(h**2*theta)"
      ]
     },
     "metadata": {},
     "output_type": "display_data"
    }
   ],
   "source": [
    "t1 = Tp  *(x-xi) / (-th*h  )\n",
    "t2 = Ti  *(x-xp) / (th*h )\n",
    "\n",
    "\n",
    "y = t1 + t2 \n",
    "Tgs = y.subs(x, xim)\n",
    "\n",
    "Tgs = Tgs.subs(xim, -h)\n",
    "Tgs = Tgs.subs(xi, 0)\n",
    "Tgs = Tgs.subs(xp, -th*h)\n",
    "Tgs = Tgs.subs(xip, h)\n",
    "\n",
    "Tgn = Tgs + 2*Q*h/k\n",
    "# Tg\n",
    "fdiff = ( k*(Tgn-2*Ti+Tgs)/h/h)\n",
    "# sym.collect(sym.simplify(fdiff), Ti)\n",
    "fdiff = sym.collect(sym.collect(sym.expand(fdiff), Ti), Tim)  #* h*h*th*(th+1)\n",
    "display(fdiff)\n",
    "display(Ti* (fdiff.coeff(Ti).simplify()).expand())\n",
    "display(Tim* fdiff.coeff(Tim).simplify())\n",
    "display(Tp* fdiff.coeff(Tp).simplify())"
   ]
  },
  {
   "attachments": {},
   "cell_type": "markdown",
   "metadata": {},
   "source": [
    "### Linear extrapolation, cylindrical finite difference\n",
    "#### East ghost cell"
   ]
  },
  {
   "cell_type": "code",
   "execution_count": 15,
   "metadata": {},
   "outputs": [
    {
     "data": {
      "text/latex": [
       "$\\displaystyle T_{i} \\left(\\frac{k}{2 h r_{i}} - \\frac{k}{2 h r_{i} \\theta} - \\frac{k}{h^{2}} - \\frac{k}{h^{2} \\theta}\\right) + T_{p} \\left(\\frac{k}{2 h r_{i} \\theta} + \\frac{k}{h^{2} \\theta}\\right) + T_{i-1} \\left(- \\frac{k}{2 h r_{i}} + \\frac{k}{h^{2}}\\right)$"
      ],
      "text/plain": [
       "T_i*(k/(2*h*r_i) - k/(2*h*r_i*theta) - k/h**2 - k/(h**2*theta)) + T_p*(k/(2*h*r_i*theta) + k/(h**2*theta)) + T_{i-1}*(-k/(2*h*r_i) + k/h**2)"
      ]
     },
     "metadata": {},
     "output_type": "display_data"
    },
    {
     "data": {
      "text/latex": [
       "$\\displaystyle T_{i} \\left(\\frac{k}{2 h r_{i}} - \\frac{k}{2 h r_{i} \\theta} + \\frac{k}{h^{2}} - \\frac{k}{h^{2} \\theta}\\right)$"
      ],
      "text/plain": [
       "T_i*(k/(2*h*r_i) - k/(2*h*r_i*theta) + k/h**2 - k/(h**2*theta))"
      ]
     },
     "metadata": {},
     "output_type": "display_data"
    },
    {
     "data": {
      "text/latex": [
       "$\\displaystyle T_{i-1} \\left(- \\frac{k}{2 h r_{i}} + \\frac{k}{h^{2}}\\right)$"
      ],
      "text/plain": [
       "T_{i-1}*(-k/(2*h*r_i) + k/h**2)"
      ]
     },
     "metadata": {},
     "output_type": "display_data"
    },
    {
     "data": {
      "text/latex": [
       "$\\displaystyle \\frac{T_{p} k \\left(h + 2 r_{i}\\right)}{2 h^{2} r_{i} \\theta}$"
      ],
      "text/plain": [
       "T_p*k*(h + 2*r_i)/(2*h**2*r_i*theta)"
      ]
     },
     "metadata": {},
     "output_type": "display_data"
    }
   ],
   "source": [
    "t1 = Tp  *(r-ri) / (rp-ri  )\n",
    "t2 = Ti  *(r-rp) / (ri-rp )\n",
    "\n",
    "y = t1 + t2 \n",
    "Tg = y.subs(r, rip)\n",
    "\n",
    "Tg = Tg.subs(rim, -h)\n",
    "Tg = Tg.subs(rip, h)\n",
    "Tg = Tg.subs(ri, 0)\n",
    "Tg = Tg.subs(rp, th*h)\n",
    "# Tg\n",
    "fvdiff = 1/ri*(r_hp*kp*(Tg-Ti)/h - r_hm*km*(Ti-Tim)/h)/h\n",
    "# sym.collect(sym.simplify(fdiff), Ti)\n",
    "fvdiff = (fvdiff*h*h).expand().collect(Ti).collect(Tim)  / h / h#* h*h*th*(th+1)\n",
    "# display(fvdiff)\n",
    "fvdiffk = fvdiff.subs(kp, k).subs(km, k)\n",
    "# display(fvdiffk)\n",
    "\n",
    "fdiff = k/ri*(Tg-Tim)/2/h + k*(Tg - 2*Ti + Tim)/h/h\n",
    "fdiff = fdiff.expand().collect(Ti).collect(Tp).collect(Tim)\n",
    "# fdiff.coeff(Ti).simplify()\n",
    "display(fdiff)\n",
    "display(Ti* (fdiff.coeff(Ti).simplify() + 2*k/h**2).expand())\n",
    "display(Tim* fdiff.coeff(Tim).simplify())\n",
    "display(Tp* fdiff.coeff(Tp).simplify())"
   ]
  },
  {
   "attachments": {},
   "cell_type": "markdown",
   "metadata": {},
   "source": [
    "#### $\\theta < \\Delta r$"
   ]
  },
  {
   "cell_type": "code",
   "execution_count": 16,
   "metadata": {},
   "outputs": [
    {
     "data": {
      "text/latex": [
       "$\\displaystyle - \\frac{2 T_{i} k}{h^{2}} + T_{p} \\left(\\frac{k}{h r_{i} \\theta + h r_{i}} + \\frac{2 k}{h^{2} \\theta + h^{2}}\\right) + T_{i-1} \\left(- \\frac{k \\theta}{- 2 h r_{i} \\theta - 2 h r_{i}} - \\frac{k \\theta}{- h^{2} \\theta - h^{2}} + \\frac{k}{- 2 h r_{i} \\theta - 2 h r_{i}} + \\frac{k}{- h^{2} \\theta - h^{2}} - \\frac{k}{2 h r_{i}} + \\frac{k}{h^{2}}\\right)$"
      ],
      "text/plain": [
       "-2*T_i*k/h**2 + T_p*(k/(h*r_i*theta + h*r_i) + 2*k/(h**2*theta + h**2)) + T_{i-1}*(-k*theta/(-2*h*r_i*theta - 2*h*r_i) - k*theta/(-h**2*theta - h**2) + k/(-2*h*r_i*theta - 2*h*r_i) + k/(-h**2*theta - h**2) - k/(2*h*r_i) + k/h**2)"
      ]
     },
     "metadata": {},
     "output_type": "display_data"
    },
    {
     "data": {
      "text/latex": [
       "$\\displaystyle - \\frac{2 T_{i} k}{h^{2}}$"
      ],
      "text/plain": [
       "-2*T_i*k/h**2"
      ]
     },
     "metadata": {},
     "output_type": "display_data"
    },
    {
     "data": {
      "text/latex": [
       "$\\displaystyle \\frac{T_{i-1} k \\left(h + 2 r_{i}\\right) \\left(\\theta - 1\\right)}{2 h^{2} r_{i} \\left(\\theta + 1\\right)}$"
      ],
      "text/plain": [
       "T_{i-1}*k*(h + 2*r_i)*(theta - 1)/(2*h**2*r_i*(theta + 1))"
      ]
     },
     "metadata": {},
     "output_type": "display_data"
    },
    {
     "data": {
      "text/latex": [
       "$\\displaystyle \\frac{T_{p} k \\left(h + 2 r_{i}\\right)}{h^{2} r_{i} \\left(\\theta + 1\\right)}$"
      ],
      "text/plain": [
       "T_p*k*(h + 2*r_i)/(h**2*r_i*(theta + 1))"
      ]
     },
     "metadata": {},
     "output_type": "display_data"
    }
   ],
   "source": [
    "t1 = Tp  *(r-rim) / (rp-rim  )\n",
    "t2 = Tim  *(r-rp) / (rim-rp )\n",
    "\n",
    "\n",
    "y = t1 + t2 \n",
    "Tg = y.subs(r, rip)\n",
    "\n",
    "Tg = Tg.subs(rim, -h)\n",
    "Tg = Tg.subs(rip, h)\n",
    "Tg = Tg.subs(ri, 0)\n",
    "Tg = Tg.subs(rp, th*h)\n",
    "\n",
    "fdiff = k/ri*(Tg-Tim)/2/h + k*(Tg - 2*Ti + Tim)/h/h\n",
    "fdiff = fdiff.expand().collect(Ti).collect(Tp).collect(Tim)\n",
    "# fdiff.coeff(Ti).simplify()\n",
    "display(fdiff)\n",
    "display(Ti* fdiff.coeff(Ti).simplify())\n",
    "display(Tim* (fdiff.coeff(Tim) + k/h/ri/2 - k/h/h ).simplify())\n",
    "display(Tp* fdiff.coeff(Tp).simplify())"
   ]
  },
  {
   "attachments": {},
   "cell_type": "markdown",
   "metadata": {},
   "source": [
    "#### West ghost from edge Neumann BC, east ghost from Stefan BC"
   ]
  },
  {
   "cell_type": "code",
   "execution_count": 6,
   "metadata": {},
   "outputs": [
    {
     "data": {
      "text/latex": [
       "$\\displaystyle - \\frac{2 T_{i} k}{h^{2} \\theta} + \\frac{2 T_{p} k}{h^{2} \\theta}$"
      ],
      "text/plain": [
       "-2*T_i*k/(h**2*theta) + 2*T_p*k/(h**2*theta)"
      ]
     },
     "metadata": {},
     "output_type": "display_data"
    },
    {
     "data": {
      "text/latex": [
       "$\\displaystyle - \\frac{2 T_{i} k}{h^{2} \\theta}$"
      ],
      "text/plain": [
       "-2*T_i*k/(h**2*theta)"
      ]
     },
     "metadata": {},
     "output_type": "display_data"
    },
    {
     "data": {
      "text/latex": [
       "$\\displaystyle \\frac{2 T_{p} k}{h^{2} \\theta}$"
      ],
      "text/plain": [
       "2*T_p*k/(h**2*theta)"
      ]
     },
     "metadata": {},
     "output_type": "display_data"
    },
    {
     "data": {
      "text/latex": [
       "$\\displaystyle 0$"
      ],
      "text/plain": [
       "0"
      ]
     },
     "metadata": {},
     "output_type": "display_data"
    }
   ],
   "source": [
    "\n",
    "# Tgw = Ti + k*Q/h # Zero slope: same value.\n",
    "t1 = Tp  *(r-ri) / (rp-ri  )\n",
    "t2 = Ti  *(r-rp) / (ri-rp )\n",
    "\n",
    "y = t1 + t2 \n",
    "y = t1 + t2 \n",
    "Tge = y.subs(r, rip)\n",
    "\n",
    "Tge = Tge.subs(rim, -h)\n",
    "Tge = Tge.subs(rip, h)\n",
    "Tge = Tge.subs(ri, 0)\n",
    "Tge = Tge.subs(rp, th*h)\n",
    "# display(Tgw)\n",
    "\n",
    "Tgw = Tge\n",
    "\n",
    "\n",
    "# Tg\n",
    "# sym.collect(sym.simplify(fdiff), Ti)\n",
    "\n",
    "fdiff = k/ri*(Tge-Tgw)/2/h + k*(Tgw - 2*Ti + Tge)/h/h\n",
    "fdiff = fdiff.expand().collect(Ti).collect(Tp).collect(Tip)\n",
    "# fdiff.coeff(Ti).simplify()\n",
    "display(fdiff)\n",
    "display(Ti* (fdiff.coeff(Ti).simplify()).expand())\n",
    "display(Tp* fdiff.coeff(Tp).simplify())\n",
    "display(Tw* fdiff.coeff(Tw).simplify())\n"
   ]
  },
  {
   "attachments": {},
   "cell_type": "markdown",
   "metadata": {},
   "source": [
    "## $\\theta  < dr$"
   ]
  },
  {
   "cell_type": "code",
   "execution_count": 13,
   "metadata": {},
   "outputs": [
    {
     "data": {
      "text/latex": [
       "$\\displaystyle Q \\left(- \\frac{k^{2} \\theta}{- h^{3} \\theta - h^{3}} + \\frac{k^{2}}{- h^{3} \\theta - h^{3}} + \\frac{k^{2}}{h^{3}}\\right) + T_{i} \\left(- \\frac{k \\theta}{- h^{2} \\theta - h^{2}} + \\frac{k}{- h^{2} \\theta - h^{2}} - \\frac{k}{h^{2}}\\right) + \\frac{2 T_{p} k}{h^{2} \\theta + h^{2}}$"
      ],
      "text/plain": [
       "Q*(-k**2*theta/(-h**3*theta - h**3) + k**2/(-h**3*theta - h**3) + k**2/h**3) + T_i*(-k*theta/(-h**2*theta - h**2) + k/(-h**2*theta - h**2) - k/h**2) + 2*T_p*k/(h**2*theta + h**2)"
      ]
     },
     "metadata": {},
     "output_type": "display_data"
    },
    {
     "data": {
      "text/latex": [
       "$\\displaystyle - \\frac{2 T_{i} k}{h^{2} \\theta + h^{2}}$"
      ],
      "text/plain": [
       "-2*T_i*k/(h**2*theta + h**2)"
      ]
     },
     "metadata": {},
     "output_type": "display_data"
    },
    {
     "data": {
      "text/latex": [
       "$\\displaystyle \\frac{2 T_{p} k}{h^{2} \\left(\\theta + 1\\right)}$"
      ],
      "text/plain": [
       "2*T_p*k/(h**2*(theta + 1))"
      ]
     },
     "metadata": {},
     "output_type": "display_data"
    },
    {
     "data": {
      "text/latex": [
       "$\\displaystyle \\frac{2 Q k^{2} \\theta}{h^{3} \\left(\\theta + 1\\right)}$"
      ],
      "text/plain": [
       "2*Q*k**2*theta/(h**3*(theta + 1))"
      ]
     },
     "metadata": {},
     "output_type": "display_data"
    }
   ],
   "source": [
    "\n",
    "Tgw = Ti + k*Q/h # Zero slope: same value.\n",
    "# Tgw = Ti # Zero slope: same value.\n",
    "\n",
    "t1 = Tp  *(r-rim) / (rp-rim  )\n",
    "t2 = Tgw  *(r-rp) / (rim-rp )\n",
    "\n",
    "y = t1 + t2 \n",
    "y = t1 + t2 \n",
    "Tge = y.subs(r, rip)\n",
    "\n",
    "Tge = Tge.subs(rim, -h)\n",
    "Tge = Tge.subs(rip, h)\n",
    "Tge = Tge.subs(ri, 0)\n",
    "Tge = Tge.subs(rp, th*h)\n",
    "# display(Tgw)\n",
    "\n",
    "\n",
    "# Tg\n",
    "# sym.collect(sym.simplify(fdiff), Ti)\n",
    "\n",
    "fdiff =  k*(Tgw - 2*Ti + Tge)/h/h #+ k*(Tge - Tgw)/2/h/ri\n",
    "fdiff = fdiff.expand().collect(Ti).collect(Tp).collect(Tip).collect(Q)\n",
    "# fdiff.coeff(Ti).simplify()\n",
    "display(fdiff)\n",
    "display(Ti* (fdiff.coeff(Ti).simplify()).expand())\n",
    "display(Tp* fdiff.coeff(Tp).simplify())\n",
    "display(Q* fdiff.coeff(Q).simplify())\n"
   ]
  },
  {
   "attachments": {},
   "cell_type": "markdown",
   "metadata": {},
   "source": [
    "### Linear extrapolation, cylindrical finite difference\n",
    "#### West ghost cell"
   ]
  },
  {
   "cell_type": "code",
   "execution_count": 18,
   "metadata": {},
   "outputs": [
    {
     "data": {
      "text/latex": [
       "$\\displaystyle T_{i} \\left(- \\frac{k}{2 h r_{i}} + \\frac{k}{2 h r_{i} \\theta} - \\frac{k}{h^{2}} - \\frac{k}{h^{2} \\theta}\\right) + T_{p} \\left(- \\frac{k}{2 h r_{i} \\theta} + \\frac{k}{h^{2} \\theta}\\right) + T_{i+1} \\left(\\frac{k}{2 h r_{i}} + \\frac{k}{h^{2}}\\right)$"
      ],
      "text/plain": [
       "T_i*(-k/(2*h*r_i) + k/(2*h*r_i*theta) - k/h**2 - k/(h**2*theta)) + T_p*(-k/(2*h*r_i*theta) + k/(h**2*theta)) + T_{i+1}*(k/(2*h*r_i) + k/h**2)"
      ]
     },
     "metadata": {},
     "output_type": "display_data"
    },
    {
     "data": {
      "text/latex": [
       "$\\displaystyle T_{i} \\left(- \\frac{k}{2 h r_{i}} + \\frac{k}{2 h r_{i} \\theta} + \\frac{k}{h^{2}} - \\frac{k}{h^{2} \\theta}\\right)$"
      ],
      "text/plain": [
       "T_i*(-k/(2*h*r_i) + k/(2*h*r_i*theta) + k/h**2 - k/(h**2*theta))"
      ]
     },
     "metadata": {},
     "output_type": "display_data"
    },
    {
     "data": {
      "text/latex": [
       "$\\displaystyle T_{i+1} \\left(\\frac{k}{2 h r_{i}} + \\frac{k}{h^{2}}\\right)$"
      ],
      "text/plain": [
       "T_{i+1}*(k/(2*h*r_i) + k/h**2)"
      ]
     },
     "metadata": {},
     "output_type": "display_data"
    },
    {
     "data": {
      "text/latex": [
       "$\\displaystyle \\frac{T_{p} k \\left(- h + 2 r_{i}\\right)}{2 h^{2} r_{i} \\theta}$"
      ],
      "text/plain": [
       "T_p*k*(-h + 2*r_i)/(2*h**2*r_i*theta)"
      ]
     },
     "metadata": {},
     "output_type": "display_data"
    }
   ],
   "source": [
    "t1 = Tp  *(r-ri) / (rp-ri  )\n",
    "t2 = Ti  *(r-rp) / (ri-rp )\n",
    "\n",
    "y = t1 + t2 \n",
    "Tg = y.subs(r, rim)\n",
    "\n",
    "Tg = Tg.subs(rim, -h)\n",
    "Tg = Tg.subs(rip, h)\n",
    "Tg = Tg.subs(ri, 0)\n",
    "Tg = Tg.subs(rp, -th*h)\n",
    "# Tg\n",
    "fvdiff = 1/ri*(r_hp*kp*(Tip-Ti)/h - r_hm*km*(Ti-Tg)/h)/h\n",
    "# sym.collect(sym.simplify(fdiff), Ti)\n",
    "\n",
    "fdiff = k/ri*(Tip-Tg)/2/h + k*(Tg - 2*Ti + Tip)/h/h\n",
    "fdiff = fdiff.expand().collect(Ti).collect(Tp).collect(Tip)\n",
    "# fdiff.coeff(Ti).simplify()\n",
    "display(fdiff)\n",
    "display(Ti* (fdiff.coeff(Ti).simplify() + 2*k/h**2).expand())\n",
    "display(Tip* fdiff.coeff(Tip).simplify())\n",
    "display(Tp* fdiff.coeff(Tp).simplify())"
   ]
  },
  {
   "cell_type": "markdown",
   "metadata": {},
   "source": [
    "#### $\\theta < \\Delta r$"
   ]
  },
  {
   "cell_type": "code",
   "execution_count": 3,
   "metadata": {},
   "outputs": [
    {
     "data": {
      "text/latex": [
       "$\\displaystyle - \\frac{2 T_{i} k}{h^{2}} + T_{p} \\left(\\frac{k}{- h r_{i} \\theta - h r_{i}} - \\frac{2 k}{- h^{2} \\theta - h^{2}}\\right) + T_{i+1} \\left(- \\frac{k \\theta}{2 h r_{i} \\theta + 2 h r_{i}} + \\frac{k \\theta}{h^{2} \\theta + h^{2}} + \\frac{k}{2 h r_{i} \\theta + 2 h r_{i}} - \\frac{k}{h^{2} \\theta + h^{2}} + \\frac{k}{2 h r_{i}} + \\frac{k}{h^{2}}\\right)$"
      ],
      "text/plain": [
       "-2*T_i*k/h**2 + T_p*(k/(-h*r_i*theta - h*r_i) - 2*k/(-h**2*theta - h**2)) + T_{i+1}*(-k*theta/(2*h*r_i*theta + 2*h*r_i) + k*theta/(h**2*theta + h**2) + k/(2*h*r_i*theta + 2*h*r_i) - k/(h**2*theta + h**2) + k/(2*h*r_i) + k/h**2)"
      ]
     },
     "metadata": {},
     "output_type": "display_data"
    },
    {
     "data": {
      "text/latex": [
       "$\\displaystyle - \\frac{2 T_{i} k}{h^{2}}$"
      ],
      "text/plain": [
       "-2*T_i*k/h**2"
      ]
     },
     "metadata": {},
     "output_type": "display_data"
    },
    {
     "data": {
      "text/latex": [
       "$\\displaystyle \\frac{T_{i+1} k \\left(h \\left(1 - \\theta\\right) + 2 r_{i} \\left(\\theta - 1\\right)\\right)}{2 h^{2} r_{i} \\left(\\theta + 1\\right)}$"
      ],
      "text/plain": [
       "T_{i+1}*k*(h*(1 - theta) + 2*r_i*(theta - 1))/(2*h**2*r_i*(theta + 1))"
      ]
     },
     "metadata": {},
     "output_type": "display_data"
    },
    {
     "data": {
      "text/latex": [
       "$\\displaystyle \\frac{T_{i+1} k \\left(h + 2 r_{i} \\theta\\right)}{h^{2} r_{i} \\left(\\theta + 1\\right)}$"
      ],
      "text/plain": [
       "T_{i+1}*k*(h + 2*r_i*theta)/(h**2*r_i*(theta + 1))"
      ]
     },
     "metadata": {},
     "output_type": "display_data"
    },
    {
     "data": {
      "text/latex": [
       "$\\displaystyle \\frac{T_{p} k \\left(- h + 2 r_{i}\\right)}{h^{2} r_{i} \\left(\\theta + 1\\right)}$"
      ],
      "text/plain": [
       "T_p*k*(-h + 2*r_i)/(h**2*r_i*(theta + 1))"
      ]
     },
     "metadata": {},
     "output_type": "display_data"
    }
   ],
   "source": [
    "t1 = Tp  *(r-rip) / (rp-rip  )\n",
    "t2 = Tip  *(r-rp) / (rip-rp )\n",
    "\n",
    "y = t1 + t2 \n",
    "Tg = y.subs(r, rim)\n",
    "\n",
    "Tg = Tg.subs(rim, -h)\n",
    "Tg = Tg.subs(rip, h)\n",
    "Tg = Tg.subs(ri, 0)\n",
    "Tg = Tg.subs(rp, -th*h)\n",
    "\n",
    "fdiff = k/ri*(Tip-Tg)/2/h + k*(Tg - 2*Ti + Tip)/h/h\n",
    "fdiff = fdiff.expand().collect(Ti).collect(Tp).collect(Tip)\n",
    "# fdiff.coeff(Ti).simplify()\n",
    "display(fdiff)\n",
    "display(Ti* fdiff.coeff(Ti).simplify())\n",
    "display(Tip* (fdiff.coeff(Tip) - k/h/ri/2 - k/h/h ).simplify())\n",
    "display(Tip* (fdiff.coeff(Tip)).simplify())\n",
    "display(Tp* fdiff.coeff(Tp).simplify())"
   ]
  },
  {
   "attachments": {},
   "cell_type": "markdown",
   "metadata": {},
   "source": [
    "### East ghost from edge Robin BC, west ghost from Stefan BC"
   ]
  },
  {
   "cell_type": "code",
   "execution_count": 53,
   "metadata": {},
   "outputs": [
    {
     "data": {
      "text/latex": [
       "$\\displaystyle \\frac{K_{gl} T_{gl}}{r_{i}} + \\frac{2 K_{gl} T_{gl}}{h} + T_{i} \\left(- \\frac{K_{gl}}{r_{i}} - \\frac{2 K_{gl}}{h} - \\frac{2 k}{h^{2} \\theta}\\right) + \\frac{2 T_{p} k}{h^{2} \\theta}$"
      ],
      "text/plain": [
       "K_{gl}*T_{gl}/r_i + 2*K_{gl}*T_{gl}/h + T_i*(-K_{gl}/r_i - 2*K_{gl}/h - 2*k/(h**2*theta)) + 2*T_p*k/(h**2*theta)"
      ]
     },
     "metadata": {},
     "output_type": "display_data"
    },
    {
     "data": {
      "text/latex": [
       "$\\displaystyle T_{i} \\left(- \\frac{K_{gl}}{r_{i}} - \\frac{2 K_{gl}}{h} - \\frac{2 k}{h^{2} \\theta}\\right)$"
      ],
      "text/plain": [
       "T_i*(-K_{gl}/r_i - 2*K_{gl}/h - 2*k/(h**2*theta))"
      ]
     },
     "metadata": {},
     "output_type": "display_data"
    },
    {
     "data": {
      "text/latex": [
       "$\\displaystyle \\frac{2 T_{p} k}{h^{2} \\theta}$"
      ],
      "text/plain": [
       "2*T_p*k/(h**2*theta)"
      ]
     },
     "metadata": {},
     "output_type": "display_data"
    },
    {
     "data": {
      "text/latex": [
       "$\\displaystyle T_{gl} \\left(\\frac{K_{gl}}{r_{i}} + \\frac{2 K_{gl}}{h}\\right)$"
      ],
      "text/plain": [
       "T_{gl}*(K_{gl}/r_i + 2*K_{gl}/h)"
      ]
     },
     "metadata": {},
     "output_type": "display_data"
    }
   ],
   "source": [
    "t1 = Tp  *(r-ri) / (rp-ri  )\n",
    "t2 = Ti  *(r-rp) / (ri-rp )\n",
    "\n",
    "y = t1 + t2 \n",
    "Tgw = y.subs(r, rim)\n",
    "\n",
    "Tgw = Tgw.subs(rim, -h)\n",
    "Tgw = Tgw.subs(rip, h)\n",
    "Tgw = Tgw.subs(ri, 0)\n",
    "Tgw = Tgw.subs(rp, -th*h)\n",
    "# display(Tgw)\n",
    "\n",
    "Tge = Kw*(Tw-Ti)/k*2*h     + Tgw\n",
    "# Tge = Q/k*2*h     + Tgw\n",
    "\n",
    "# Tg\n",
    "# sym.collect(sym.simplify(fdiff), Ti)\n",
    "\n",
    "fdiff = k/ri*(Tge-Tgw)/2/h + k*(Tgw - 2*Ti + Tge)/h/h\n",
    "fdiff = fdiff.expand().collect(Ti).collect(Tp).collect(Tip)\n",
    "# fdiff.coeff(Ti).simplify()\n",
    "display(fdiff)\n",
    "display(Ti* (fdiff.coeff(Ti).simplify()).expand())\n",
    "display(Tp* fdiff.coeff(Tp).simplify())\n",
    "display(Tw* fdiff.coeff(Tw).simplify())"
   ]
  },
  {
   "attachments": {},
   "cell_type": "markdown",
   "metadata": {},
   "source": [
    "### $\\theta < dr$"
   ]
  },
  {
   "cell_type": "code",
   "execution_count": 5,
   "metadata": {},
   "outputs": [
    {
     "data": {
      "text/latex": [
       "$\\displaystyle \\frac{K_{gl} h \\left(- T_{i} + T_{gl}\\right)}{k} + T_{i}$"
      ],
      "text/plain": [
       "K_{gl}*h*(-T_i + T_{gl})/k + T_i"
      ]
     },
     "metadata": {},
     "output_type": "display_data"
    },
    {
     "data": {
      "text/latex": [
       "$\\displaystyle - \\frac{K_{gl} T_{gl} h \\theta}{2 h r_{i} \\theta + 2 h r_{i}} + \\frac{K_{gl} T_{gl} h}{2 h r_{i} \\theta + 2 h r_{i}} + \\frac{K_{gl} T_{gl} \\theta}{h \\theta + h} - \\frac{K_{gl} T_{gl}}{h \\theta + h} + \\frac{K_{gl} T_{gl}}{2 r_{i}} + \\frac{K_{gl} T_{gl}}{h} + T_{i} \\left(\\frac{K_{gl} h \\theta}{2 h r_{i} \\theta + 2 h r_{i}} - \\frac{K_{gl} h}{2 h r_{i} \\theta + 2 h r_{i}} - \\frac{K_{gl} \\theta}{h \\theta + h} + \\frac{K_{gl}}{h \\theta + h} - \\frac{K_{gl}}{2 r_{i}} - \\frac{K_{gl}}{h} - \\frac{k \\theta}{2 h r_{i} \\theta + 2 h r_{i}} + \\frac{k \\theta}{h^{2} \\theta + h^{2}} + \\frac{k}{2 h r_{i} \\theta + 2 h r_{i}} - \\frac{k}{h^{2} \\theta + h^{2}} + \\frac{k}{2 h r_{i}} - \\frac{k}{h^{2}}\\right) + T_{p} \\left(\\frac{k}{- h r_{i} \\theta - h r_{i}} - \\frac{2 k}{- h^{2} \\theta - h^{2}}\\right)$"
      ],
      "text/plain": [
       "-K_{gl}*T_{gl}*h*theta/(2*h*r_i*theta + 2*h*r_i) + K_{gl}*T_{gl}*h/(2*h*r_i*theta + 2*h*r_i) + K_{gl}*T_{gl}*theta/(h*theta + h) - K_{gl}*T_{gl}/(h*theta + h) + K_{gl}*T_{gl}/(2*r_i) + K_{gl}*T_{gl}/h + T_i*(K_{gl}*h*theta/(2*h*r_i*theta + 2*h*r_i) - K_{gl}*h/(2*h*r_i*theta + 2*h*r_i) - K_{gl}*theta/(h*theta + h) + K_{gl}/(h*theta + h) - K_{gl}/(2*r_i) - K_{gl}/h - k*theta/(2*h*r_i*theta + 2*h*r_i) + k*theta/(h**2*theta + h**2) + k/(2*h*r_i*theta + 2*h*r_i) - k/(h**2*theta + h**2) + k/(2*h*r_i) - k/h**2) + T_p*(k/(-h*r_i*theta - h*r_i) - 2*k/(-h**2*theta - h**2))"
      ]
     },
     "metadata": {},
     "output_type": "display_data"
    },
    {
     "data": {
      "text/latex": [
       "$\\displaystyle T_{i} \\left(- \\frac{K_{gl} h^{2}}{h^{2} r_{i} \\theta + h^{2} r_{i}} - \\frac{2 K_{gl} h r_{i} \\theta}{h^{2} r_{i} \\theta + h^{2} r_{i}} + \\frac{h k}{h^{2} r_{i} \\theta + h^{2} r_{i}} - \\frac{2 k r_{i}}{h^{2} r_{i} \\theta + h^{2} r_{i}}\\right)$"
      ],
      "text/plain": [
       "T_i*(-K_{gl}*h**2/(h**2*r_i*theta + h**2*r_i) - 2*K_{gl}*h*r_i*theta/(h**2*r_i*theta + h**2*r_i) + h*k/(h**2*r_i*theta + h**2*r_i) - 2*k*r_i/(h**2*r_i*theta + h**2*r_i))"
      ]
     },
     "metadata": {},
     "output_type": "display_data"
    },
    {
     "data": {
      "text/latex": [
       "$\\displaystyle \\frac{T_{p} k \\left(- h + 2 r_{i}\\right)}{h^{2} r_{i} \\left(\\theta + 1\\right)}$"
      ],
      "text/plain": [
       "T_p*k*(-h + 2*r_i)/(h**2*r_i*(theta + 1))"
      ]
     },
     "metadata": {},
     "output_type": "display_data"
    },
    {
     "data": {
      "text/latex": [
       "$\\displaystyle \\frac{K_{gl} T_{gl} \\left(h + 2 r_{i} \\theta\\right)}{h r_{i} \\left(\\theta + 1\\right)}$"
      ],
      "text/plain": [
       "K_{gl}*T_{gl}*(h + 2*r_i*theta)/(h*r_i*(theta + 1))"
      ]
     },
     "metadata": {},
     "output_type": "display_data"
    }
   ],
   "source": [
    "Tge = Kw*(Tw-Ti)/k*h  + Ti\n",
    "display(Tge)\n",
    "\n",
    "t1 = Tp  *(r-rip) / (rp-rip  )\n",
    "t2 = Tge  *(r-rp) / (rip-rp )\n",
    "\n",
    "y = t1 + t2 \n",
    "Tgw = y.subs(r, rim)\n",
    "\n",
    "Tgw = Tgw.subs(rim, -h)\n",
    "Tgw = Tgw.subs(rip, h)\n",
    "Tgw = Tgw.subs(ri, 0)\n",
    "Tgw = Tgw.subs(rp, -th*h)\n",
    "# display(Tgw)\n",
    "\n",
    "# Tge = Q/k*2*h     + Tgw\n",
    "\n",
    "# Tg\n",
    "# sym.collect(sym.simplify(fdiff), Ti)\n",
    "\n",
    "fdiff = k/ri*(Tge-Tgw)/2/h + k*(Tgw - 2*Ti + Tge)/h/h\n",
    "fdiff = fdiff.expand().collect(Ti).collect(Tp).collect(Tip)\n",
    "# fdiff.coeff(Ti).simplify()\n",
    "display(fdiff)\n",
    "display(Ti* (fdiff.coeff(Ti).simplify()).expand())\n",
    "display(Tp* fdiff.coeff(Tp).simplify())\n",
    "display(Tw* fdiff.coeff(Tw).simplify())"
   ]
  },
  {
   "cell_type": "markdown",
   "metadata": {},
   "source": [
    "### Logarithmic extrapolation, cylindrical finite difference\n",
    "#### East ghost cell"
   ]
  },
  {
   "cell_type": "code",
   "execution_count": 20,
   "metadata": {},
   "outputs": [
    {
     "data": {
      "text/latex": [
       "$\\displaystyle 0$"
      ],
      "text/plain": [
       "0"
      ]
     },
     "metadata": {},
     "output_type": "display_data"
    },
    {
     "data": {
      "text/latex": [
       "$\\displaystyle T_{i} + \\frac{\\left(T_{i} - T_{p}\\right) \\log{\\left(\\frac{r_{i+1}}{r_{i}} \\right)}}{\\log{\\left(\\frac{r_{i}}{r_{p}} \\right)}}$"
      ],
      "text/plain": [
       "T_i + (T_i - T_p)*log(r_{i+1}/r_i)/log(r_i/r_p)"
      ]
     },
     "metadata": {},
     "output_type": "display_data"
    },
    {
     "data": {
      "text/latex": [
       "$\\displaystyle T_{i} \\left(\\frac{k \\log{\\left(\\frac{r_{i+1}}{r_{i}} \\right)}}{2 h r_{i} \\log{\\left(\\frac{r_{i}}{r_{p}} \\right)}} + \\frac{k}{2 h r_{i}} + \\frac{k \\log{\\left(\\frac{r_{i+1}}{r_{i}} \\right)}}{h^{2} \\log{\\left(\\frac{r_{i}}{r_{p}} \\right)}} + \\frac{k}{h^{2}}\\right)$"
      ],
      "text/plain": [
       "T_i*(k*log(r_{i+1}/r_i)/(2*h*r_i*log(r_i/r_p)) + k/(2*h*r_i) + k*log(r_{i+1}/r_i)/(h**2*log(r_i/r_p)) + k/h**2)"
      ]
     },
     "metadata": {},
     "output_type": "display_data"
    },
    {
     "data": {
      "text/latex": [
       "$\\displaystyle T_{i-1} \\left(- \\frac{k}{2 h r_{i}} + \\frac{k}{h^{2}}\\right)$"
      ],
      "text/plain": [
       "T_{i-1}*(-k/(2*h*r_i) + k/h**2)"
      ]
     },
     "metadata": {},
     "output_type": "display_data"
    },
    {
     "data": {
      "text/latex": [
       "$\\displaystyle \\frac{T_{p} k \\left(- h - 2 r_{i}\\right) \\log{\\left(\\frac{r_{i+1}}{r_{i}} \\right)}}{2 h^{2} r_{i} \\log{\\left(\\frac{r_{i}}{r_{p}} \\right)}}$"
      ],
      "text/plain": [
       "T_p*k*(-h - 2*r_i)*log(r_{i+1}/r_i)/(2*h**2*r_i*log(r_i/r_p))"
      ]
     },
     "metadata": {},
     "output_type": "display_data"
    }
   ],
   "source": [
    "\n",
    "c1 = (Ti - Tp)/(ln(ri)-ln(rp))\n",
    "c2 = Ti - c1*ln(ri)\n",
    "y = c1*ln(r) + c2\n",
    "Tg1 = y.subs(r, rip)\n",
    "Tg2 = Ti + ln(rip/ri)*(Ti-Tp)/ln(ri/rp)\n",
    "display((sym.expand_log(Tg1) - sym.expand_log(Tg2)).simplify())\n",
    "\n",
    "\n",
    "display(Tg)\n",
    "\n",
    "# Tg = Tg.subs(rim, -h)\n",
    "# Tg = Tg.subs(rip, h)\n",
    "# Tg = Tg.subs(ri, 0)\n",
    "# Tg = Tg.subs(rp, th*h)\n",
    "\n",
    "fdiff = k/ri*(Tg-Tim)/2/h + k*(Tg - 2*Ti + Tim)/h/h\n",
    "fdiff = fdiff.expand().collect(Ti).collect(Tp).collect(Tim)\n",
    "# fdiff.coeff(Ti).simplify()\n",
    "# display(fdiff)\n",
    "display(Ti* (fdiff.coeff(Ti).simplify() + 2*k/h**2).expand())\n",
    "display(Tim* fdiff.coeff(Tim).simplify())\n",
    "display(Tp* fdiff.coeff(Tp).simplify())"
   ]
  },
  {
   "cell_type": "markdown",
   "metadata": {},
   "source": [
    "#### $\\theta < \\Delta r$"
   ]
  },
  {
   "cell_type": "code",
   "execution_count": 24,
   "metadata": {},
   "outputs": [
    {
     "data": {
      "text/latex": [
       "$\\displaystyle 0$"
      ],
      "text/plain": [
       "0"
      ]
     },
     "metadata": {},
     "output_type": "display_data"
    },
    {
     "data": {
      "text/latex": [
       "$\\displaystyle T_{i-1} + \\frac{\\left(- T_{p} + T_{i-1}\\right) \\log{\\left(\\frac{r_{i+1}}{r_{i-1}} \\right)}}{\\log{\\left(\\frac{r_{i-1}}{r_{p}} \\right)}}$"
      ],
      "text/plain": [
       "T_{i-1} + (-T_p + T_{i-1})*log(r_{i+1}/r_{i-1})/log(r_{i-1}/r_p)"
      ]
     },
     "metadata": {},
     "output_type": "display_data"
    },
    {
     "data": {
      "text/latex": [
       "$\\displaystyle - \\frac{2 T_{i} k}{h^{2}} + T_{p} \\left(- \\frac{k \\log{\\left(r_{i+1} \\right)}}{- 2 h r_{i} \\log{\\left(r_{p} \\right)} + 2 h r_{i} \\log{\\left(r_{i-1} \\right)}} + \\frac{k \\log{\\left(r_{i-1} \\right)}}{- 2 h r_{i} \\log{\\left(r_{p} \\right)} + 2 h r_{i} \\log{\\left(r_{i-1} \\right)}} - \\frac{k \\log{\\left(r_{i+1} \\right)}}{- h^{2} \\log{\\left(r_{p} \\right)} + h^{2} \\log{\\left(r_{i-1} \\right)}} + \\frac{k \\log{\\left(r_{i-1} \\right)}}{- h^{2} \\log{\\left(r_{p} \\right)} + h^{2} \\log{\\left(r_{i-1} \\right)}}\\right) + T_{i-1} \\left(\\frac{k \\log{\\left(r_{i+1} \\right)}}{- 2 h r_{i} \\log{\\left(r_{p} \\right)} + 2 h r_{i} \\log{\\left(r_{i-1} \\right)}} - \\frac{k \\log{\\left(r_{i-1} \\right)}}{- 2 h r_{i} \\log{\\left(r_{p} \\right)} + 2 h r_{i} \\log{\\left(r_{i-1} \\right)}} + \\frac{k \\log{\\left(r_{i+1} \\right)}}{- h^{2} \\log{\\left(r_{p} \\right)} + h^{2} \\log{\\left(r_{i-1} \\right)}} - \\frac{k \\log{\\left(r_{i-1} \\right)}}{- h^{2} \\log{\\left(r_{p} \\right)} + h^{2} \\log{\\left(r_{i-1} \\right)}} + \\frac{2 k}{h^{2}}\\right)$"
      ],
      "text/plain": [
       "-2*T_i*k/h**2 + T_p*(-k*log(r_{i+1})/(-2*h*r_i*log(r_p) + 2*h*r_i*log(r_{i-1})) + k*log(r_{i-1})/(-2*h*r_i*log(r_p) + 2*h*r_i*log(r_{i-1})) - k*log(r_{i+1})/(-h**2*log(r_p) + h**2*log(r_{i-1})) + k*log(r_{i-1})/(-h**2*log(r_p) + h**2*log(r_{i-1}))) + T_{i-1}*(k*log(r_{i+1})/(-2*h*r_i*log(r_p) + 2*h*r_i*log(r_{i-1})) - k*log(r_{i-1})/(-2*h*r_i*log(r_p) + 2*h*r_i*log(r_{i-1})) + k*log(r_{i+1})/(-h**2*log(r_p) + h**2*log(r_{i-1})) - k*log(r_{i-1})/(-h**2*log(r_p) + h**2*log(r_{i-1})) + 2*k/h**2)"
      ]
     },
     "metadata": {},
     "output_type": "display_data"
    },
    {
     "data": {
      "text/latex": [
       "$\\displaystyle - \\frac{2 T_{i} k}{h^{2}}$"
      ],
      "text/plain": [
       "-2*T_i*k/h**2"
      ]
     },
     "metadata": {},
     "output_type": "display_data"
    },
    {
     "data": {
      "text/latex": [
       "$\\displaystyle \\frac{T_{i-1} k \\left(h \\log{\\left(\\frac{r_{p}}{r_{i+1}} \\right)} + \\log{\\left(r_{p}^{2 r_{i}} r_{i+1}^{- 2 r_{i}} \\right)}\\right)}{2 h^{2} r_{i} \\log{\\left(\\frac{r_{p}}{r_{i-1}} \\right)}}$"
      ],
      "text/plain": [
       "T_{i-1}*k*(h*log(r_p/r_{i+1}) + log(r_p**(2*r_i)/r_{i+1}**(2*r_i)))/(2*h**2*r_i*log(r_p/r_{i-1}))"
      ]
     },
     "metadata": {},
     "output_type": "display_data"
    },
    {
     "data": {
      "text/latex": [
       "$\\displaystyle \\frac{T_{p} k \\left(h + 2 r_{i}\\right) \\log{\\left(\\left(\\frac{r_{i+1}}{r_{i-1}}\\right)^{\\frac{1}{2 r_{i}}} \\right)}}{h^{2} \\log{\\left(\\frac{r_{p}}{r_{i-1}} \\right)}}$"
      ],
      "text/plain": [
       "T_p*k*(h + 2*r_i)*log((r_{i+1}/r_{i-1})**(1/(2*r_i)))/(h**2*log(r_p/r_{i-1}))"
      ]
     },
     "metadata": {},
     "output_type": "display_data"
    }
   ],
   "source": [
    "# t1 = Tp  *(r-rim) / (rp-rim  )\n",
    "# t2 = Tim  *(r-rp) / (rim-rp )\n",
    "\n",
    "\n",
    "# y = t1 + t2 \n",
    "# Tg = y.subs(r, rip)\n",
    "c1 = (Tim - Tp)/(ln(rim)-ln(rp))\n",
    "c2 = Tim - c1*ln(rim)\n",
    "y = c1*ln(r) + c2\n",
    "Tg1 = y.subs(r, rip)\n",
    "Tg2 = Tim + ln(rip/rim)*(Tim-Tp)/ln(rim/rp)\n",
    "display((sym.expand_log(Tg1) - sym.expand_log(Tg2)).simplify())\n",
    "\n",
    "Tg = Tg2\n",
    "\n",
    "display(Tg)\n",
    "\n",
    "\n",
    "# Tg = Tg.subs(rim, -h)\n",
    "# Tg = Tg.subs(rip, h)\n",
    "# Tg = Tg.subs(ri, 0)\n",
    "# Tg = Tg.subs(rp, th*h)\n",
    "\n",
    "fdiff = k/ri*(Tg-Tim)/2/h + k*(Tg - 2*Ti + Tim)/h/h\n",
    "fdiff = fdiff.expand().collect(Ti).collect(Tp).collect(Tim)\n",
    "# fdiff.coeff(Ti).simplify()\n",
    "display(fdiff)\n",
    "display(Ti* fdiff.coeff(Ti).simplify())\n",
    "display(Tim* (fdiff.coeff(Tim) + k/h/ri/2 - k/h/h ).simplify())\n",
    "display(Tp* fdiff.coeff(Tp).simplify())"
   ]
  },
  {
   "cell_type": "markdown",
   "metadata": {},
   "source": [
    "#### West ghost from edge Neumann BC, east ghost from Stefan BC"
   ]
  },
  {
   "cell_type": "code",
   "execution_count": null,
   "metadata": {},
   "outputs": [
    {
     "data": {
      "text/latex": [
       "$\\displaystyle - \\frac{2 T_{i} k}{h^{2} \\theta} + \\frac{2 T_{p} k}{h^{2} \\theta}$"
      ],
      "text/plain": [
       "-2*T_i*k/(h**2*theta) + 2*T_p*k/(h**2*theta)"
      ]
     },
     "metadata": {},
     "output_type": "display_data"
    },
    {
     "data": {
      "text/latex": [
       "$\\displaystyle - \\frac{2 T_{i} k}{h^{2} \\theta}$"
      ],
      "text/plain": [
       "-2*T_i*k/(h**2*theta)"
      ]
     },
     "metadata": {},
     "output_type": "display_data"
    },
    {
     "data": {
      "text/latex": [
       "$\\displaystyle \\frac{2 T_{p} k}{h^{2} \\theta}$"
      ],
      "text/plain": [
       "2*T_p*k/(h**2*theta)"
      ]
     },
     "metadata": {},
     "output_type": "display_data"
    },
    {
     "data": {
      "text/latex": [
       "$\\displaystyle 0$"
      ],
      "text/plain": [
       "0"
      ]
     },
     "metadata": {},
     "output_type": "display_data"
    }
   ],
   "source": [
    "\n",
    "# Tgw = Ti + k*Q/h # Zero slope: same value.\n",
    "t1 = Tp  *(r-ri) / (rp-ri  )\n",
    "t2 = Ti  *(r-rp) / (ri-rp )\n",
    "\n",
    "y = t1 + t2 \n",
    "y = t1 + t2 \n",
    "Tge = y.subs(r, rip)\n",
    "\n",
    "Tge = Tge.subs(rim, -h)\n",
    "Tge = Tge.subs(rip, h)\n",
    "Tge = Tge.subs(ri, 0)\n",
    "Tge = Tge.subs(rp, th*h)\n",
    "# display(Tgw)\n",
    "\n",
    "Tgw = Tge\n",
    "\n",
    "\n",
    "# Tg\n",
    "# sym.collect(sym.simplify(fdiff), Ti)\n",
    "\n",
    "fdiff = k/ri*(Tge-Tgw)/2/h + k*(Tgw - 2*Ti + Tge)/h/h\n",
    "fdiff = fdiff.expand().collect(Ti).collect(Tp).collect(Tip)\n",
    "# fdiff.coeff(Ti).simplify()\n",
    "display(fdiff)\n",
    "display(Ti* (fdiff.coeff(Ti).simplify()).expand())\n",
    "display(Tp* fdiff.coeff(Tp).simplify())\n",
    "display(Tw* fdiff.coeff(Tw).simplify())\n"
   ]
  },
  {
   "cell_type": "markdown",
   "metadata": {},
   "source": [
    "## $\\theta  < dr$"
   ]
  },
  {
   "cell_type": "code",
   "execution_count": null,
   "metadata": {},
   "outputs": [
    {
     "data": {
      "text/latex": [
       "$\\displaystyle Q \\left(- \\frac{k^{2} \\theta}{- h^{3} \\theta - h^{3}} + \\frac{k^{2}}{- h^{3} \\theta - h^{3}} + \\frac{k^{2}}{h^{3}}\\right) + T_{i} \\left(- \\frac{k \\theta}{- h^{2} \\theta - h^{2}} + \\frac{k}{- h^{2} \\theta - h^{2}} - \\frac{k}{h^{2}}\\right) + \\frac{2 T_{p} k}{h^{2} \\theta + h^{2}}$"
      ],
      "text/plain": [
       "Q*(-k**2*theta/(-h**3*theta - h**3) + k**2/(-h**3*theta - h**3) + k**2/h**3) + T_i*(-k*theta/(-h**2*theta - h**2) + k/(-h**2*theta - h**2) - k/h**2) + 2*T_p*k/(h**2*theta + h**2)"
      ]
     },
     "metadata": {},
     "output_type": "display_data"
    },
    {
     "data": {
      "text/latex": [
       "$\\displaystyle - \\frac{2 T_{i} k}{h^{2} \\theta + h^{2}}$"
      ],
      "text/plain": [
       "-2*T_i*k/(h**2*theta + h**2)"
      ]
     },
     "metadata": {},
     "output_type": "display_data"
    },
    {
     "data": {
      "text/latex": [
       "$\\displaystyle \\frac{2 T_{p} k}{h^{2} \\left(\\theta + 1\\right)}$"
      ],
      "text/plain": [
       "2*T_p*k/(h**2*(theta + 1))"
      ]
     },
     "metadata": {},
     "output_type": "display_data"
    },
    {
     "data": {
      "text/latex": [
       "$\\displaystyle \\frac{2 Q k^{2} \\theta}{h^{3} \\left(\\theta + 1\\right)}$"
      ],
      "text/plain": [
       "2*Q*k**2*theta/(h**3*(theta + 1))"
      ]
     },
     "metadata": {},
     "output_type": "display_data"
    }
   ],
   "source": [
    "\n",
    "Tgw = Ti + k*Q/h # Zero slope: same value.\n",
    "# Tgw = Ti # Zero slope: same value.\n",
    "\n",
    "t1 = Tp  *(r-rim) / (rp-rim  )\n",
    "t2 = Tgw  *(r-rp) / (rim-rp )\n",
    "\n",
    "y = t1 + t2 \n",
    "y = t1 + t2 \n",
    "Tge = y.subs(r, rip)\n",
    "\n",
    "Tge = Tge.subs(rim, -h)\n",
    "Tge = Tge.subs(rip, h)\n",
    "Tge = Tge.subs(ri, 0)\n",
    "Tge = Tge.subs(rp, th*h)\n",
    "# display(Tgw)\n",
    "\n",
    "\n",
    "# Tg\n",
    "# sym.collect(sym.simplify(fdiff), Ti)\n",
    "\n",
    "fdiff =  k*(Tgw - 2*Ti + Tge)/h/h #+ k*(Tge - Tgw)/2/h/ri\n",
    "fdiff = fdiff.expand().collect(Ti).collect(Tp).collect(Tip).collect(Q)\n",
    "# fdiff.coeff(Ti).simplify()\n",
    "display(fdiff)\n",
    "display(Ti* (fdiff.coeff(Ti).simplify()).expand())\n",
    "display(Tp* fdiff.coeff(Tp).simplify())\n",
    "display(Q* fdiff.coeff(Q).simplify())\n"
   ]
  },
  {
   "cell_type": "markdown",
   "metadata": {},
   "source": [
    "### Logarithmic extrapolation, cylindrical finite difference\n",
    "#### West ghost cell"
   ]
  },
  {
   "cell_type": "code",
   "execution_count": 31,
   "metadata": {},
   "outputs": [
    {
     "data": {
      "text/latex": [
       "$\\displaystyle 0$"
      ],
      "text/plain": [
       "0"
      ]
     },
     "metadata": {},
     "output_type": "display_data"
    },
    {
     "data": {
      "text/latex": [
       "$\\displaystyle T_{i} \\left(\\frac{k \\log{\\left(r_{i} \\right)}}{2 h r_{i} \\log{\\left(r_{i} \\right)} - 2 h r_{i} \\log{\\left(r_{p} \\right)}} - \\frac{k \\log{\\left(r_{i-1} \\right)}}{2 h r_{i} \\log{\\left(r_{i} \\right)} - 2 h r_{i} \\log{\\left(r_{p} \\right)}} - \\frac{k \\log{\\left(r_{i} \\right)}}{h^{2} \\log{\\left(r_{i} \\right)} - h^{2} \\log{\\left(r_{p} \\right)}} + \\frac{k \\log{\\left(r_{i-1} \\right)}}{h^{2} \\log{\\left(r_{i} \\right)} - h^{2} \\log{\\left(r_{p} \\right)}} - \\frac{k}{2 h r_{i}} - \\frac{k}{h^{2}}\\right) + T_{p} \\left(- \\frac{k \\log{\\left(r_{i} \\right)}}{2 h r_{i} \\log{\\left(r_{i} \\right)} - 2 h r_{i} \\log{\\left(r_{p} \\right)}} + \\frac{k \\log{\\left(r_{i-1} \\right)}}{2 h r_{i} \\log{\\left(r_{i} \\right)} - 2 h r_{i} \\log{\\left(r_{p} \\right)}} + \\frac{k \\log{\\left(r_{i} \\right)}}{h^{2} \\log{\\left(r_{i} \\right)} - h^{2} \\log{\\left(r_{p} \\right)}} - \\frac{k \\log{\\left(r_{i-1} \\right)}}{h^{2} \\log{\\left(r_{i} \\right)} - h^{2} \\log{\\left(r_{p} \\right)}}\\right) + T_{i+1} \\left(\\frac{k}{2 h r_{i}} + \\frac{k}{h^{2}}\\right)$"
      ],
      "text/plain": [
       "T_i*(k*log(r_i)/(2*h*r_i*log(r_i) - 2*h*r_i*log(r_p)) - k*log(r_{i-1})/(2*h*r_i*log(r_i) - 2*h*r_i*log(r_p)) - k*log(r_i)/(h**2*log(r_i) - h**2*log(r_p)) + k*log(r_{i-1})/(h**2*log(r_i) - h**2*log(r_p)) - k/(2*h*r_i) - k/h**2) + T_p*(-k*log(r_i)/(2*h*r_i*log(r_i) - 2*h*r_i*log(r_p)) + k*log(r_{i-1})/(2*h*r_i*log(r_i) - 2*h*r_i*log(r_p)) + k*log(r_i)/(h**2*log(r_i) - h**2*log(r_p)) - k*log(r_{i-1})/(h**2*log(r_i) - h**2*log(r_p))) + T_{i+1}*(k/(2*h*r_i) + k/h**2)"
      ]
     },
     "metadata": {},
     "output_type": "display_data"
    },
    {
     "data": {
      "text/latex": [
       "$\\displaystyle \\frac{T_{i} k \\left(h \\log{\\left(\\frac{r_{p}}{r_{i-1}} \\right)} + \\log{\\left(r_{i}^{- 4 r_{i}} r_{p}^{2 r_{i}} r_{i-1}^{2 r_{i}} \\right)}\\right)}{2 h^{2} r_{i} \\log{\\left(\\frac{r_{i}}{r_{p}} \\right)}}$"
      ],
      "text/plain": [
       "T_i*k*(h*log(r_p/r_{i-1}) + log(r_p**(2*r_i)*r_{i-1}**(2*r_i)/r_i**(4*r_i)))/(2*h**2*r_i*log(r_i/r_p))"
      ]
     },
     "metadata": {},
     "output_type": "display_data"
    },
    {
     "data": {
      "text/latex": [
       "$\\displaystyle T_{i+1} \\left(\\frac{k}{2 h r_{i}} + \\frac{k}{h^{2}}\\right)$"
      ],
      "text/plain": [
       "T_{i+1}*(k/(2*h*r_i) + k/h**2)"
      ]
     },
     "metadata": {},
     "output_type": "display_data"
    },
    {
     "data": {
      "text/latex": [
       "$\\displaystyle \\frac{T_{p} k \\left(h \\log{\\left(\\frac{r_{i-1}}{r_{i}} \\right)} + \\log{\\left(\\left(\\frac{r_{i}}{r_{i-1}}\\right)^{2 r_{i}} \\right)}\\right)}{2 h^{2} r_{i} \\log{\\left(\\frac{r_{i}}{r_{p}} \\right)}}$"
      ],
      "text/plain": [
       "T_p*k*(h*log(r_{i-1}/r_i) + log((r_i/r_{i-1})**(2*r_i)))/(2*h**2*r_i*log(r_i/r_p))"
      ]
     },
     "metadata": {},
     "output_type": "display_data"
    }
   ],
   "source": [
    "c1 = (Ti - Tp)/(ln(ri)-ln(rp))\n",
    "c2 = Ti - c1*ln(ri)\n",
    "y = c1*ln(r) + c2\n",
    "Tg1 = y.subs(r, rim)\n",
    "Tg2 = Ti + ln(rim/ri)*(Ti-Tp)/ln(ri/rp)\n",
    "display((sym.expand_log(Tg1) - sym.expand_log(Tg2)).simplify())\n",
    "\n",
    "Tg = Tg2\n",
    "# Tg\n",
    "\n",
    "fdiff = k/ri*(Tip-Tg)/2/h + k*(Tg - 2*Ti + Tip)/h/h\n",
    "fdiff = fdiff.expand().collect(Ti).collect(Tp).collect(Tip)\n",
    "# fdiff.coeff(Ti).simplify()\n",
    "display(fdiff)\n",
    "display(Ti* (fdiff.coeff(Ti).simplify()))\n",
    "display(Tip* fdiff.coeff(Tip).simplify())\n",
    "display(Tp* fdiff.coeff(Tp).simplify())"
   ]
  },
  {
   "cell_type": "markdown",
   "metadata": {},
   "source": [
    "#### $\\theta < \\Delta r$"
   ]
  },
  {
   "cell_type": "code",
   "execution_count": 29,
   "metadata": {},
   "outputs": [
    {
     "data": {
      "text/latex": [
       "$\\displaystyle 0$"
      ],
      "text/plain": [
       "0"
      ]
     },
     "metadata": {},
     "output_type": "display_data"
    },
    {
     "data": {
      "text/latex": [
       "$\\displaystyle - \\frac{2 T_{i} k}{h^{2}} + T_{p} \\left(- \\frac{k \\log{\\left(r_{i+1} \\right)}}{- 2 h r_{i} \\log{\\left(r_{p} \\right)} + 2 h r_{i} \\log{\\left(r_{i+1} \\right)}} + \\frac{k \\log{\\left(r_{i-1} \\right)}}{- 2 h r_{i} \\log{\\left(r_{p} \\right)} + 2 h r_{i} \\log{\\left(r_{i+1} \\right)}} + \\frac{k \\log{\\left(r_{i+1} \\right)}}{- h^{2} \\log{\\left(r_{p} \\right)} + h^{2} \\log{\\left(r_{i+1} \\right)}} - \\frac{k \\log{\\left(r_{i-1} \\right)}}{- h^{2} \\log{\\left(r_{p} \\right)} + h^{2} \\log{\\left(r_{i+1} \\right)}}\\right) + T_{i+1} \\left(\\frac{k \\log{\\left(r_{i+1} \\right)}}{- 2 h r_{i} \\log{\\left(r_{p} \\right)} + 2 h r_{i} \\log{\\left(r_{i+1} \\right)}} - \\frac{k \\log{\\left(r_{i-1} \\right)}}{- 2 h r_{i} \\log{\\left(r_{p} \\right)} + 2 h r_{i} \\log{\\left(r_{i+1} \\right)}} - \\frac{k \\log{\\left(r_{i+1} \\right)}}{- h^{2} \\log{\\left(r_{p} \\right)} + h^{2} \\log{\\left(r_{i+1} \\right)}} + \\frac{k \\log{\\left(r_{i-1} \\right)}}{- h^{2} \\log{\\left(r_{p} \\right)} + h^{2} \\log{\\left(r_{i+1} \\right)}} + \\frac{2 k}{h^{2}}\\right)$"
      ],
      "text/plain": [
       "-2*T_i*k/h**2 + T_p*(-k*log(r_{i+1})/(-2*h*r_i*log(r_p) + 2*h*r_i*log(r_{i+1})) + k*log(r_{i-1})/(-2*h*r_i*log(r_p) + 2*h*r_i*log(r_{i+1})) + k*log(r_{i+1})/(-h**2*log(r_p) + h**2*log(r_{i+1})) - k*log(r_{i-1})/(-h**2*log(r_p) + h**2*log(r_{i+1}))) + T_{i+1}*(k*log(r_{i+1})/(-2*h*r_i*log(r_p) + 2*h*r_i*log(r_{i+1})) - k*log(r_{i-1})/(-2*h*r_i*log(r_p) + 2*h*r_i*log(r_{i+1})) - k*log(r_{i+1})/(-h**2*log(r_p) + h**2*log(r_{i+1})) + k*log(r_{i-1})/(-h**2*log(r_p) + h**2*log(r_{i+1})) + 2*k/h**2)"
      ]
     },
     "metadata": {},
     "output_type": "display_data"
    },
    {
     "data": {
      "text/latex": [
       "$\\displaystyle - \\frac{2 T_{i} k}{h^{2}}$"
      ],
      "text/plain": [
       "-2*T_i*k/h**2"
      ]
     },
     "metadata": {},
     "output_type": "display_data"
    },
    {
     "data": {
      "text/latex": [
       "$\\displaystyle \\frac{T_{i+1} k \\left(h \\log{\\left(\\frac{r_{i-1}}{r_{i+1}} \\right)} + \\log{\\left(\\left(\\frac{r_{p}}{r_{i+1}}\\right)^{4 r_{i}} \\left(\\frac{r_{i+1}}{r_{i-1}}\\right)^{2 r_{i}} \\right)}\\right)}{2 h^{2} r_{i} \\log{\\left(\\frac{r_{p}}{r_{i+1}} \\right)}}$"
      ],
      "text/plain": [
       "T_{i+1}*k*(h*log(r_{i-1}/r_{i+1}) + log((r_p/r_{i+1})**(4*r_i)*(r_{i+1}/r_{i-1})**(2*r_i)))/(2*h**2*r_i*log(r_p/r_{i+1}))"
      ]
     },
     "metadata": {},
     "output_type": "display_data"
    },
    {
     "data": {
      "text/latex": [
       "$\\displaystyle \\frac{T_{p} k \\left(h \\log{\\left(\\frac{r_{i+1}}{r_{i-1}} \\right)} + \\log{\\left(\\left(\\frac{r_{i-1}}{r_{i+1}}\\right)^{2 r_{i}} \\right)}\\right)}{2 h^{2} r_{i} \\log{\\left(\\frac{r_{p}}{r_{i+1}} \\right)}}$"
      ],
      "text/plain": [
       "T_p*k*(h*log(r_{i+1}/r_{i-1}) + log((r_{i-1}/r_{i+1})**(2*r_i)))/(2*h**2*r_i*log(r_p/r_{i+1}))"
      ]
     },
     "metadata": {},
     "output_type": "display_data"
    }
   ],
   "source": [
    "c1 = (Tip - Tp)/(ln(rip)-ln(rp))\n",
    "c2 = Tip - c1*ln(rip)\n",
    "y = c1*ln(r) + c2\n",
    "Tg1 = y.subs(r, rim)\n",
    "Tg2 = Tip + ln(rim/rip)*(Tip-Tp)/ln(rip/rp)\n",
    "display((sym.expand_log(Tg1) - sym.expand_log(Tg2)).simplify())\n",
    "\n",
    "Tg = Tg2\n",
    "\n",
    "fdiff = k/ri*(Tip-Tg)/2/h + k*(Tg - 2*Ti + Tip)/h/h\n",
    "fdiff = fdiff.expand().collect(Ti).collect(Tp).collect(Tip)\n",
    "# fdiff.coeff(Ti).simplify()\n",
    "display(fdiff)\n",
    "display(Ti* fdiff.coeff(Ti).simplify())\n",
    "display(Tip* (fdiff.coeff(Tip)).simplify())\n",
    "display(Tp* fdiff.coeff(Tp).simplify())"
   ]
  },
  {
   "attachments": {},
   "cell_type": "markdown",
   "metadata": {},
   "source": [
    "## Quadratic extrapolation, 1st derivative"
   ]
  },
  {
   "attachments": {},
   "cell_type": "markdown",
   "metadata": {},
   "source": [
    "### North and south, both: Cartesian, linear"
   ]
  },
  {
   "cell_type": "code",
   "execution_count": 3,
   "metadata": {},
   "outputs": [
    {
     "data": {
      "text/latex": [
       "$\\displaystyle T_{i} \\left(- \\frac{k}{2 h \\theta_{r}} + \\frac{k}{2 h \\theta_{l}}\\right) + T_{p} \\left(\\frac{k}{2 h \\theta_{r}} - \\frac{k}{2 h \\theta_{l}}\\right)$"
      ],
      "text/plain": [
       "T_i*(-k/(2*h*theta_r) + k/(2*h*theta_l)) + T_p*(k/(2*h*theta_r) - k/(2*h*theta_l))"
      ]
     },
     "metadata": {},
     "output_type": "display_data"
    },
    {
     "data": {
      "text/latex": [
       "$\\displaystyle T_{i} \\left(- \\frac{k}{2 h \\theta_{r}} + \\frac{k}{2 h \\theta_{l}}\\right)$"
      ],
      "text/plain": [
       "T_i*(-k/(2*h*theta_r) + k/(2*h*theta_l))"
      ]
     },
     "metadata": {},
     "output_type": "display_data"
    },
    {
     "data": {
      "text/latex": [
       "$\\displaystyle \\frac{T_{p} k \\left(\\theta_{l} - \\theta_{r}\\right)}{2 h \\theta_{l} \\theta_{r}}$"
      ],
      "text/plain": [
       "T_p*k*(theta_l - theta_r)/(2*h*theta_l*theta_r)"
      ]
     },
     "metadata": {},
     "output_type": "display_data"
    }
   ],
   "source": [
    "t1 = Tp  *(r-ri) / (rp-ri  )\n",
    "t2 = Ti  *(r-rp) / (ri-rp )\n",
    "\n",
    "y = t1 + t2 \n",
    "Tgw = y.subs(r, rim)\n",
    "\n",
    "Tgw = Tgw.subs(rim, -h)\n",
    "Tgw = Tgw.subs(rip, h)\n",
    "Tgw = Tgw.subs(ri, 0)\n",
    "Tgw = Tgw.subs(rp, -thl*h)\n",
    "\n",
    "Tge = y.subs(r, rip)\n",
    "\n",
    "Tge = Tge.subs(rim, -h)\n",
    "Tge = Tge.subs(rip, h)\n",
    "Tge = Tge.subs(ri, 0)\n",
    "Tge = Tge.subs(rp, thr*h)\n",
    "\n",
    "\n",
    "fdiff = k*(Tge - Tgw)/2/h\n",
    "fdiff = fdiff.expand().collect(Ti).collect(Tp).collect(Tip)\n",
    "# fdiff.coeff(Ti).simplify()\n",
    "display(fdiff)\n",
    "display(Ti* (fdiff.coeff(Ti).simplify()).expand())\n",
    "display(Tp* fdiff.coeff(Tp).simplify())"
   ]
  },
  {
   "cell_type": "code",
   "execution_count": null,
   "metadata": {},
   "outputs": [],
   "source": []
  },
  {
   "attachments": {},
   "cell_type": "markdown",
   "metadata": {},
   "source": [
    "### North, Cartesian"
   ]
  },
  {
   "cell_type": "code",
   "execution_count": 42,
   "metadata": {},
   "outputs": [
    {
     "data": {
      "text/latex": [
       "$\\displaystyle T_{i} \\left(\\frac{1}{h} - \\frac{1}{h \\theta}\\right) + \\frac{T_{p}}{h \\theta^{2} + h \\theta} + T_{i-1} \\left(\\frac{\\theta}{- 2 h \\theta - 2 h} - \\frac{1}{- 2 h \\theta - 2 h} - \\frac{1}{2 h}\\right)$"
      ],
      "text/plain": [
       "T_i*(1/h - 1/(h*theta)) + T_p/(h*theta**2 + h*theta) + T_{i-1}*(theta/(-2*h*theta - 2*h) - 1/(-2*h*theta - 2*h) - 1/(2*h))"
      ]
     },
     "metadata": {},
     "output_type": "display_data"
    },
    {
     "data": {
      "text/latex": [
       "$\\displaystyle \\frac{T_{i} \\left(\\theta - 1\\right)}{h \\theta}$"
      ],
      "text/plain": [
       "T_i*(theta - 1)/(h*theta)"
      ]
     },
     "metadata": {},
     "output_type": "display_data"
    },
    {
     "data": {
      "text/latex": [
       "$\\displaystyle 0$"
      ],
      "text/plain": [
       "0"
      ]
     },
     "metadata": {},
     "output_type": "display_data"
    },
    {
     "data": {
      "text/latex": [
       "$\\displaystyle - \\frac{T_{i-1} \\theta}{h \\left(\\theta + 1\\right)}$"
      ],
      "text/plain": [
       "-T_{i-1}*theta/(h*(theta + 1))"
      ]
     },
     "metadata": {},
     "output_type": "display_data"
    },
    {
     "data": {
      "text/latex": [
       "$\\displaystyle \\frac{T_{p}}{h \\theta \\left(\\theta + 1\\right)}$"
      ],
      "text/plain": [
       "T_p/(h*theta*(theta + 1))"
      ]
     },
     "metadata": {},
     "output_type": "display_data"
    }
   ],
   "source": [
    "t1 = Tp  *(x-xi)*(x-xim) / (xp -xi)/(xp -xim)\n",
    "t2 = Ti  *(x-xp)*(x-xim) / (xi -xp)/(xi -xim)\n",
    "t3 = Tim *(x-xp)*(x-xi ) / (xim-xp)/(xim-xi )\n",
    "\n",
    "y = t1 + t2 + t3\n",
    "Tg = y.subs(x, xip)\n",
    "# Lock xi to 0, relate other coords to there\n",
    "Tg = Tg.subs(xi, 0)\n",
    "Tg = Tg.subs(xip, h)\n",
    "Tg = Tg.subs(xp, th*h)\n",
    "Tg = Tg.subs(xim, -h)\n",
    "\n",
    "fdiff = (Tg - Tim)/2/h\n",
    "fdiff = fdiff.expand().collect(Ti).collect(Tim).collect(Tp)\n",
    "\n",
    "display(fdiff)\n",
    "display(Ti* fdiff.coeff(Ti).simplify())\n",
    "display(Tip* (fdiff.coeff(Tip)).simplify())\n",
    "display(Tim* (fdiff.coeff(Tim)).simplify())\n",
    "display(Tp* fdiff.coeff(Tp).simplify())\n",
    "# fdiff = k/ri*(Tip-Tg)/2/h + k*(Tg - 2*Ti + Tip)/h/h\n",
    "# fdiff = fdiff.expand().collect(Ti).collect(Tp).collect(Tip)\n",
    "# # fdiff.coeff(Ti).simplify()\n",
    "# display(fdiff)\n",
    "# display(Ti* fdiff.coeff(Ti).simplify())\n",
    "# display(Tip* (fdiff.coeff(Tip) - k/h/ri/2 - k/h/h ).simplify())\n",
    "# display(Tp* fdiff.coeff(Tp).simplify())"
   ]
  },
  {
   "attachments": {},
   "cell_type": "markdown",
   "metadata": {},
   "source": [
    "$\\theta < dx$ : default to linear from further point, not quadratic"
   ]
  },
  {
   "cell_type": "code",
   "execution_count": 24,
   "metadata": {},
   "outputs": [
    {
     "data": {
      "text/latex": [
       "$\\displaystyle \\frac{T_{p}}{h \\theta + h} + T_{i-1} \\left(- \\frac{\\theta}{- 2 h \\theta - 2 h} + \\frac{1}{- 2 h \\theta - 2 h} - \\frac{1}{2 h}\\right)$"
      ],
      "text/plain": [
       "T_p/(h*theta + h) + T_{i-1}*(-theta/(-2*h*theta - 2*h) + 1/(-2*h*theta - 2*h) - 1/(2*h))"
      ]
     },
     "metadata": {},
     "output_type": "display_data"
    },
    {
     "data": {
      "text/latex": [
       "$\\displaystyle 0$"
      ],
      "text/plain": [
       "0"
      ]
     },
     "metadata": {},
     "output_type": "display_data"
    },
    {
     "data": {
      "text/latex": [
       "$\\displaystyle 0$"
      ],
      "text/plain": [
       "0"
      ]
     },
     "metadata": {},
     "output_type": "display_data"
    },
    {
     "data": {
      "text/latex": [
       "$\\displaystyle - \\frac{T_{i-1}}{h \\left(\\theta + 1\\right)}$"
      ],
      "text/plain": [
       "-T_{i-1}/(h*(theta + 1))"
      ]
     },
     "metadata": {},
     "output_type": "display_data"
    },
    {
     "data": {
      "text/latex": [
       "$\\displaystyle \\frac{T_{p}}{h \\left(\\theta + 1\\right)}$"
      ],
      "text/plain": [
       "T_p/(h*(theta + 1))"
      ]
     },
     "metadata": {},
     "output_type": "display_data"
    }
   ],
   "source": [
    "# t1 = Tp  *(x-xi)*(x-xim) / (xp -xi)/(xp -xim)\n",
    "# t2 = Ti  *(x-xp)*(x-xim) / (xi -xp)/(xi -xim)\n",
    "# t3 = Tim *(x-xp)*(x-xi ) / (xim-xp)/(xim-xi )\n",
    "t1 = Tp *(x-xim) / (xp-xim)\n",
    "t2 = Tim*(x-xp) / (xim-xp)\n",
    "\n",
    "y = t1 + t2\n",
    "Tg = y.subs(x, xip)\n",
    "# Lock xi to 0, relate other coords to there\n",
    "Tg = Tg.subs(xi, 0)\n",
    "Tg = Tg.subs(xip, h)\n",
    "Tg = Tg.subs(xp, th*h)\n",
    "Tg = Tg.subs(xim, -h)\n",
    "\n",
    "fdiff = (Tg - Tim)/2/h\n",
    "fdiff = fdiff.expand().collect(Ti).collect(Tim).collect(Tp)\n",
    "\n",
    "display(fdiff)\n",
    "display(Ti* fdiff.coeff(Ti).simplify())\n",
    "display(Tip* (fdiff.coeff(Tip)).simplify())\n",
    "display(Tim* (fdiff.coeff(Tim)).simplify())\n",
    "display(Tp* fdiff.coeff(Tp).simplify())\n",
    "# fdiff = k/ri*(Tip-Tg)/2/h + k*(Tg - 2*Ti + Tip)/h/h\n",
    "# fdiff = fdiff.expand().collect(Ti).collect(Tp).collect(Tip)\n",
    "# # fdiff.coeff(Ti).simplify()\n",
    "# display(fdiff)\n",
    "# display(Ti* fdiff.coeff(Ti).simplify())\n",
    "# display(Tip* (fdiff.coeff(Tip) - k/h/ri/2 - k/h/h ).simplify())\n",
    "# display(Tp* fdiff.coeff(Tp).simplify())"
   ]
  },
  {
   "attachments": {},
   "cell_type": "markdown",
   "metadata": {},
   "source": [
    "### South or west, Cartesian"
   ]
  },
  {
   "cell_type": "code",
   "execution_count": 4,
   "metadata": {},
   "outputs": [
    {
     "data": {
      "text/latex": [
       "$\\displaystyle T_{i} \\left(- \\frac{1}{h} + \\frac{1}{h \\theta}\\right) + \\frac{T_{p}}{- h \\theta^{2} - h \\theta} + T_{i+1} \\left(\\frac{\\theta}{2 h \\theta + 2 h} - \\frac{1}{2 h \\theta + 2 h} + \\frac{1}{2 h}\\right)$"
      ],
      "text/plain": [
       "T_i*(-1/h + 1/(h*theta)) + T_p/(-h*theta**2 - h*theta) + T_{i+1}*(theta/(2*h*theta + 2*h) - 1/(2*h*theta + 2*h) + 1/(2*h))"
      ]
     },
     "metadata": {},
     "output_type": "display_data"
    },
    {
     "data": {
      "text/latex": [
       "$\\displaystyle \\frac{T_{i} \\left(1 - \\theta\\right)}{h \\theta}$"
      ],
      "text/plain": [
       "T_i*(1 - theta)/(h*theta)"
      ]
     },
     "metadata": {},
     "output_type": "display_data"
    },
    {
     "data": {
      "text/latex": [
       "$\\displaystyle \\frac{T_{i+1} \\theta}{h \\left(\\theta + 1\\right)}$"
      ],
      "text/plain": [
       "T_{i+1}*theta/(h*(theta + 1))"
      ]
     },
     "metadata": {},
     "output_type": "display_data"
    },
    {
     "data": {
      "text/latex": [
       "$\\displaystyle 0$"
      ],
      "text/plain": [
       "0"
      ]
     },
     "metadata": {},
     "output_type": "display_data"
    },
    {
     "data": {
      "text/latex": [
       "$\\displaystyle - \\frac{T_{p}}{h \\theta \\left(\\theta + 1\\right)}$"
      ],
      "text/plain": [
       "-T_p/(h*theta*(theta + 1))"
      ]
     },
     "metadata": {},
     "output_type": "display_data"
    }
   ],
   "source": [
    "t1 = Tp  *(x-xi)*(x-xip) / (xp -xi)/(xp -xip)\n",
    "t2 = Ti  *(x-xp)*(x-xip) / (xi -xp)/(xi -xip)\n",
    "t3 = Tip *(x-xp)*(x-xi ) / (xip-xp)/(xip-xi )\n",
    "\n",
    "y = t1 + t2 + t3\n",
    "Tg = y.subs(x, xim)\n",
    "# Lock xi to 0, relate other coords to there\n",
    "\n",
    "Tg = Tg.subs(xi, 0)\n",
    "Tg = Tg.subs(xip, h)\n",
    "Tg = Tg.subs(xp, -th*h)\n",
    "Tg = Tg.subs(xim, -h)\n",
    "Tg = Tg.expand().collect(Ti).collect(Tim).collect(Tp).collect(Tip)\n",
    "\n",
    "fdiff = (Tip - Tg)/2/h\n",
    "fdiff = fdiff.expand().collect(Ti).collect(Tim).collect(Tp).collect(Tip)\n",
    "\n",
    "display(fdiff)\n",
    "display(Ti* fdiff.coeff(Ti).simplify())\n",
    "display(Tip* (fdiff.coeff(Tip)).simplify())\n",
    "display(Tim* (fdiff.coeff(Tim)).simplify())\n",
    "display(Tp* fdiff.coeff(Tp).simplify())\n",
    "# fdiff = k/ri*(Tip-Tg)/2/h + k*(Tg - 2*Ti + Tip)/h/h\n",
    "# fdiff = fdiff.expand().collect(Ti).collect(Tp).collect(Tip)\n",
    "# # fdiff.coeff(Ti).simplify()\n",
    "# display(fdiff)\n",
    "# display(Ti* fdiff.coeff(Ti).simplify())\n",
    "# display(Tip* (fdiff.coeff(Tip) - k/h/ri/2 - k/h/h ).simplify())\n",
    "# display(Tp* fdiff.coeff(Tp).simplify())"
   ]
  },
  {
   "cell_type": "markdown",
   "metadata": {},
   "source": [
    "$\\theta < dx$ : default to linear, not quadratic"
   ]
  },
  {
   "cell_type": "code",
   "execution_count": 5,
   "metadata": {},
   "outputs": [
    {
     "data": {
      "text/latex": [
       "$\\displaystyle \\frac{T_{p}}{h \\theta - h} + \\frac{T_{i+1} \\theta}{- 2 h \\theta + 2 h} + \\frac{T_{i+1}}{- 2 h \\theta + 2 h} + \\frac{T_{i+1}}{2 h}$"
      ],
      "text/plain": [
       "T_p/(h*theta - h) + T_{i+1}*theta/(-2*h*theta + 2*h) + T_{i+1}/(-2*h*theta + 2*h) + T_{i+1}/(2*h)"
      ]
     },
     "metadata": {},
     "output_type": "display_data"
    },
    {
     "data": {
      "text/latex": [
       "$\\displaystyle 0$"
      ],
      "text/plain": [
       "0"
      ]
     },
     "metadata": {},
     "output_type": "display_data"
    },
    {
     "data": {
      "text/latex": [
       "$\\displaystyle - \\frac{T_{i+1}}{h \\left(\\theta - 1\\right)}$"
      ],
      "text/plain": [
       "-T_{i+1}/(h*(theta - 1))"
      ]
     },
     "metadata": {},
     "output_type": "display_data"
    },
    {
     "data": {
      "text/latex": [
       "$\\displaystyle 0$"
      ],
      "text/plain": [
       "0"
      ]
     },
     "metadata": {},
     "output_type": "display_data"
    },
    {
     "data": {
      "text/latex": [
       "$\\displaystyle \\frac{T_{p}}{h \\left(\\theta - 1\\right)}$"
      ],
      "text/plain": [
       "T_p/(h*(theta - 1))"
      ]
     },
     "metadata": {},
     "output_type": "display_data"
    }
   ],
   "source": [
    "# t1 = Tp  *(x-xi)*(x-xim) / (xp -xi)/(xp -xim)\n",
    "# t2 = Ti  *(x-xp)*(x-xim) / (xi -xp)/(xi -xim)\n",
    "# t3 = Tim *(x-xp)*(x-xi ) / (xim-xp)/(xim-xi )\n",
    "t1 = Tp *(x-xip) / (xp-xip)\n",
    "t2 = Tip*(x-xp) / (xip-xp)\n",
    "\n",
    "y = t1 + t2\n",
    "Tg = y.subs(x, xim)\n",
    "# Lock xi to 0, relate other coords to there\n",
    "Tg = Tg.subs(xi, 0)\n",
    "Tg = Tg.subs(xip, h)\n",
    "Tg = Tg.subs(xp, th*h)\n",
    "Tg = Tg.subs(xim, -h)\n",
    "\n",
    "fdiff = (Tip - Tg)/2/h\n",
    "fdiff = fdiff.expand().collect(Ti).collect(Tim).collect(Tp)\n",
    "\n",
    "display(fdiff)\n",
    "display(Ti* fdiff.coeff(Ti).simplify())\n",
    "display(Tip* (fdiff.coeff(Tip)).simplify())\n",
    "display(Tim* (fdiff.coeff(Tim)).simplify())\n",
    "display(Tp* fdiff.coeff(Tp).simplify())\n",
    "# fdiff = k/ri*(Tip-Tg)/2/h + k*(Tg - 2*Ti + Tip)/h/h\n",
    "# fdiff = fdiff.expand().collect(Ti).collect(Tp).collect(Tip)\n",
    "# # fdiff.coeff(Ti).simplify()\n",
    "# display(fdiff)\n",
    "# display(Ti* fdiff.coeff(Ti).simplify())\n",
    "# display(Tip* (fdiff.coeff(Tip) - k/h/ri/2 - k/h/h ).simplify())\n",
    "# display(Tp* fdiff.coeff(Tp).simplify())"
   ]
  },
  {
   "cell_type": "code",
   "execution_count": null,
   "metadata": {},
   "outputs": [],
   "source": []
  }
 ],
 "metadata": {
  "kernelspec": {
   "display_name": "base",
   "language": "python",
   "name": "python3"
  },
  "language_info": {
   "codemirror_mode": {
    "name": "ipython",
    "version": 3
   },
   "file_extension": ".py",
   "mimetype": "text/x-python",
   "name": "python",
   "nbconvert_exporter": "python",
   "pygments_lexer": "ipython3",
   "version": "3.10.11"
  },
  "orig_nbformat": 4,
  "vscode": {
   "interpreter": {
    "hash": "747b469bba3b977090fdf294eace6d1a2dbcc631bdb09a69d42cfe794851b684"
   }
  }
 },
 "nbformat": 4,
 "nbformat_minor": 2
}
