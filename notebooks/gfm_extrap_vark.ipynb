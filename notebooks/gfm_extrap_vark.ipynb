{
 "cells": [
  {
   "cell_type": "code",
   "execution_count": 4,
   "metadata": {},
   "outputs": [],
   "source": [
    "import sympy as sym"
   ]
  },
  {
   "cell_type": "code",
   "execution_count": 7,
   "metadata": {},
   "outputs": [],
   "source": [
    "xp, xip, xi, xim, xim2 = sym.symbols(\"x_p x_{i+1} x_i x_{i-1} x_{i-2}\")\n",
    "r, rp, ri, rim, rim2, rip = sym.symbols(\"r r_p r_i r_{i-1} r_{i-2} r_{i+1}\", positive=True)\n",
    "Tp, Tip, Ti, Tim, Tim2 = sym.symbols(\"T_p T_{i+1} T_i T_{i-1} T_{i-2}\")\n",
    "x, T = sym.symbols(\"x T\")\n",
    "th, h, thl, thr = sym.symbols(\"theta h theta_l theta_r\")\n",
    "kp, km, k = sym.symbols(\"k^+ k^- k\")\n",
    "\n",
    "dT, dk = sym.symbols(\"dT dk\")\n",
    "R0, T_ch = sym.symbols(\"R_0 T_{ch}\")\n",
    "\n",
    "ln = sym.log"
   ]
  },
  {
   "attachments": {},
   "cell_type": "markdown",
   "metadata": {},
   "source": [
    "## Linear extrapolation, second order finite diff, Cartesian\n",
    "\n",
    "### North cell"
   ]
  },
  {
   "attachments": {},
   "cell_type": "markdown",
   "metadata": {},
   "source": [
    "#### $\\theta > \\Delta z $"
   ]
  },
  {
   "cell_type": "code",
   "execution_count": 8,
   "metadata": {},
   "outputs": [
    {
     "data": {
      "text/latex": [
       "$\\displaystyle T_{i} \\left(\\frac{dk}{2 h} - \\frac{dk}{2 h \\theta} - \\frac{k}{h^{2}} - \\frac{k}{h^{2} \\theta}\\right) + \\frac{T_{p} dk}{2 h \\theta} + \\frac{T_{p} k}{h^{2} \\theta} + T_{i-1} \\left(- \\frac{dk}{2 h} + \\frac{k}{h^{2}}\\right)$"
      ],
      "text/plain": [
       "T_i*(dk/(2*h) - dk/(2*h*theta) - k/h**2 - k/(h**2*theta)) + T_p*dk/(2*h*theta) + T_p*k/(h**2*theta) + T_{i-1}*(-dk/(2*h) + k/h**2)"
      ]
     },
     "metadata": {},
     "output_type": "display_data"
    },
    {
     "data": {
      "text/latex": [
       "$\\displaystyle \\frac{T_{i} \\left(\\frac{dk h \\theta}{2} - \\frac{dk h}{2} - k \\theta - k\\right)}{h^{2} \\theta}$"
      ],
      "text/plain": [
       "T_i*(dk*h*theta/2 - dk*h/2 - k*theta - k)/(h**2*theta)"
      ]
     },
     "metadata": {},
     "output_type": "display_data"
    },
    {
     "data": {
      "text/latex": [
       "$\\displaystyle \\frac{T_{i-1} \\left(- \\frac{dk h}{2} + k\\right)}{h^{2}}$"
      ],
      "text/plain": [
       "T_{i-1}*(-dk*h/2 + k)/h**2"
      ]
     },
     "metadata": {},
     "output_type": "display_data"
    },
    {
     "data": {
      "text/latex": [
       "$\\displaystyle 0$"
      ],
      "text/plain": [
       "0"
      ]
     },
     "metadata": {},
     "output_type": "display_data"
    },
    {
     "data": {
      "text/latex": [
       "$\\displaystyle \\frac{T_{p} \\left(\\frac{dk h}{2} + k\\right)}{h^{2} \\theta}$"
      ],
      "text/plain": [
       "T_p*(dk*h/2 + k)/(h**2*theta)"
      ]
     },
     "metadata": {},
     "output_type": "display_data"
    }
   ],
   "source": [
    "t1 = Tp  *(x-xi) / (xp-xi  )\n",
    "t2 = Ti  *(x-xp) / (xi-xp )\n",
    "\n",
    "y = t1 + t2 \n",
    "Tg = y.subs(x, xip)\n",
    "# Tg\n",
    "Tg = Tg.subs(xim, -h)\n",
    "Tg = Tg.subs(xi, 0)\n",
    "Tg = Tg.subs(xp, th*h)\n",
    "Tg = Tg.subs(xip, h)\n",
    "# sym.collect(sym.simplify(fdiff), Ti)\n",
    "\n",
    "fdiff = k*(Tg - 2*Ti + Tim)/h/h\n",
    "fdiff += dk*(Tg - Tim)/2/h\n",
    "fdiff = sym.collect(sym.collect(sym.expand(fdiff), Ti), Tim)  #* h*h*th*(th+1)\n",
    "display(fdiff)\n",
    "display(Ti* fdiff.coeff(Ti).simplify())\n",
    "display(Tim* fdiff.coeff(Tim).simplify())\n",
    "display(Tip* fdiff.coeff(Tip).simplify())\n",
    "display(Tp* fdiff.coeff(Tp).simplify())"
   ]
  },
  {
   "attachments": {},
   "cell_type": "markdown",
   "metadata": {},
   "source": [
    "#### $\\theta < \\Delta z$"
   ]
  },
  {
   "cell_type": "code",
   "execution_count": 9,
   "metadata": {},
   "outputs": [
    {
     "data": {
      "text/latex": [
       "$\\displaystyle - \\frac{2 T_{i} k}{h^{2}} + \\frac{T_{p} dk}{h \\theta + h} + \\frac{2 T_{p} k}{h^{2} \\theta + h^{2}} + T_{i-1} \\left(- \\frac{dk \\theta}{- 2 h \\theta - 2 h} + \\frac{dk}{- 2 h \\theta - 2 h} - \\frac{dk}{2 h} - \\frac{k \\theta}{- h^{2} \\theta - h^{2}} + \\frac{k}{- h^{2} \\theta - h^{2}} + \\frac{k}{h^{2}}\\right)$"
      ],
      "text/plain": [
       "-2*T_i*k/h**2 + T_p*dk/(h*theta + h) + 2*T_p*k/(h**2*theta + h**2) + T_{i-1}*(-dk*theta/(-2*h*theta - 2*h) + dk/(-2*h*theta - 2*h) - dk/(2*h) - k*theta/(-h**2*theta - h**2) + k/(-h**2*theta - h**2) + k/h**2)"
      ]
     },
     "metadata": {},
     "output_type": "display_data"
    },
    {
     "data": {
      "text/latex": [
       "$\\displaystyle - \\frac{2 T_{i} k}{h^{2}}$"
      ],
      "text/plain": [
       "-2*T_i*k/h**2"
      ]
     },
     "metadata": {},
     "output_type": "display_data"
    },
    {
     "data": {
      "text/latex": [
       "$\\displaystyle \\frac{T_{i-1} \\left(- dk h + 2 k \\theta\\right)}{h^{2} \\left(\\theta + 1\\right)}$"
      ],
      "text/plain": [
       "T_{i-1}*(-dk*h + 2*k*theta)/(h**2*(theta + 1))"
      ]
     },
     "metadata": {},
     "output_type": "display_data"
    },
    {
     "data": {
      "text/latex": [
       "$\\displaystyle \\frac{T_{p} \\left(dk h + 2 k\\right)}{h^{2} \\left(\\theta + 1\\right)}$"
      ],
      "text/plain": [
       "T_p*(dk*h + 2*k)/(h**2*(theta + 1))"
      ]
     },
     "metadata": {},
     "output_type": "display_data"
    }
   ],
   "source": [
    "t1 = Tp  *(x-xim) / (xp-xim  )\n",
    "t2 = Tim *(x-xp) / ( xim-xp )\n",
    "\n",
    "y = t1 + t2 \n",
    "Tg = y.subs(x, xip)\n",
    "\n",
    "Tg = Tg.subs(xim, -h)\n",
    "Tg = Tg.subs(xi, 0)\n",
    "Tg = Tg.subs(xp, th*h)\n",
    "Tg = Tg.subs(xip, h)\n",
    "\n",
    "fdiff = k*(Tg - 2*Ti + Tim)/h/h\n",
    "fdiff += dk*(Tg - Tim)/2/h\n",
    "# sym.collect(sym.simplify(fdiff), Ti)\n",
    "fdiff = sym.collect(sym.collect(sym.expand(fdiff), Ti), Tim)  #* h*h*th*(th+1)\n",
    "\n",
    "display(fdiff)\n",
    "display(Ti* fdiff.coeff(Ti).simplify())\n",
    "display(Tim* fdiff.coeff(Tim).simplify())\n",
    "display(Tp* fdiff.coeff(Tp).simplify())"
   ]
  },
  {
   "attachments": {},
   "cell_type": "markdown",
   "metadata": {},
   "source": [
    "#### South cell"
   ]
  },
  {
   "attachments": {},
   "cell_type": "markdown",
   "metadata": {},
   "source": [
    "#### $\\theta > \\Delta z $"
   ]
  },
  {
   "cell_type": "code",
   "execution_count": 10,
   "metadata": {},
   "outputs": [
    {
     "data": {
      "text/latex": [
       "$\\displaystyle T_{i} \\left(- \\frac{dk}{2 h} + \\frac{dk}{2 h \\theta} - \\frac{k}{h^{2}} - \\frac{k}{h^{2} \\theta}\\right) - \\frac{T_{p} dk}{2 h \\theta} + \\frac{T_{p} k}{h^{2} \\theta} + \\frac{T_{i+1} dk}{2 h} + \\frac{T_{i+1} k}{h^{2}}$"
      ],
      "text/plain": [
       "T_i*(-dk/(2*h) + dk/(2*h*theta) - k/h**2 - k/(h**2*theta)) - T_p*dk/(2*h*theta) + T_p*k/(h**2*theta) + T_{i+1}*dk/(2*h) + T_{i+1}*k/h**2"
      ]
     },
     "metadata": {},
     "output_type": "display_data"
    },
    {
     "data": {
      "text/latex": [
       "$\\displaystyle \\frac{T_{i} \\left(- \\frac{dk h \\theta}{2} + \\frac{dk h}{2} - k \\theta - k\\right)}{h^{2} \\theta}$"
      ],
      "text/plain": [
       "T_i*(-dk*h*theta/2 + dk*h/2 - k*theta - k)/(h**2*theta)"
      ]
     },
     "metadata": {},
     "output_type": "display_data"
    },
    {
     "data": {
      "text/latex": [
       "$\\displaystyle \\frac{T_{i+1} \\left(\\frac{dk h}{2} + k\\right)}{h^{2}}$"
      ],
      "text/plain": [
       "T_{i+1}*(dk*h/2 + k)/h**2"
      ]
     },
     "metadata": {},
     "output_type": "display_data"
    },
    {
     "data": {
      "text/latex": [
       "$\\displaystyle \\frac{T_{p} \\left(- \\frac{dk h}{2} + k\\right)}{h^{2} \\theta}$"
      ],
      "text/plain": [
       "T_p*(-dk*h/2 + k)/(h**2*theta)"
      ]
     },
     "metadata": {},
     "output_type": "display_data"
    }
   ],
   "source": [
    "t1 = Tp * (x-xi) / (-th*h)\n",
    "t2 = Ti * (x-xp) / (th*h )\n",
    "\n",
    "y = t1 + t2 \n",
    "Tg = y.subs(x, xim)\n",
    "\n",
    "Tg = Tg.subs(xim, -h)\n",
    "Tg = Tg.subs(xi, 0)\n",
    "Tg = Tg.subs(xp, -th*h)\n",
    "Tg = Tg.subs(xip, h)\n",
    "# Tg\n",
    "# fdiff = (kp*(Tip-Ti)/h - km*(Ti-Tg)/h)/h\n",
    "fdiff = k*(Tip - 2*Ti + Tg)/h/h\n",
    "fdiff += dk*(Tip - Tg)/2/h\n",
    "# sym.collect(sym.simplify(fdiff), Ti)\n",
    "fdiff = sym.collect(sym.collect(sym.expand(fdiff), Ti), Tim)  #* h*h*th*(th+1)\n",
    "fdiff\n",
    "display(fdiff)\n",
    "display(Ti* fdiff.coeff(Ti).simplify())\n",
    "display(Tip* fdiff.coeff(Tip).simplify())\n",
    "display(Tp* fdiff.coeff(Tp).simplify())"
   ]
  },
  {
   "attachments": {},
   "cell_type": "markdown",
   "metadata": {},
   "source": [
    "#### $\\theta < \\Delta z$"
   ]
  },
  {
   "cell_type": "code",
   "execution_count": 11,
   "metadata": {},
   "outputs": [
    {
     "data": {
      "text/latex": [
       "$\\displaystyle - \\frac{2 T_{i} k}{h^{2}} + \\frac{T_{p} dk}{- h \\theta - h} - \\frac{2 T_{p} k}{- h^{2} \\theta - h^{2}} - \\frac{T_{i+1} dk \\theta}{2 h \\theta + 2 h} + \\frac{T_{i+1} dk}{2 h \\theta + 2 h} + \\frac{T_{i+1} dk}{2 h} + \\frac{T_{i+1} k \\theta}{h^{2} \\theta + h^{2}} - \\frac{T_{i+1} k}{h^{2} \\theta + h^{2}} + \\frac{T_{i+1} k}{h^{2}}$"
      ],
      "text/plain": [
       "-2*T_i*k/h**2 + T_p*dk/(-h*theta - h) - 2*T_p*k/(-h**2*theta - h**2) - T_{i+1}*dk*theta/(2*h*theta + 2*h) + T_{i+1}*dk/(2*h*theta + 2*h) + T_{i+1}*dk/(2*h) + T_{i+1}*k*theta/(h**2*theta + h**2) - T_{i+1}*k/(h**2*theta + h**2) + T_{i+1}*k/h**2"
      ]
     },
     "metadata": {},
     "output_type": "display_data"
    },
    {
     "data": {
      "text/latex": [
       "$\\displaystyle - \\frac{2 T_{i} k}{h^{2}}$"
      ],
      "text/plain": [
       "-2*T_i*k/h**2"
      ]
     },
     "metadata": {},
     "output_type": "display_data"
    },
    {
     "data": {
      "text/latex": [
       "$\\displaystyle \\frac{T_{i+1} \\left(dk h + 2 k \\theta\\right)}{h^{2} \\left(\\theta + 1\\right)}$"
      ],
      "text/plain": [
       "T_{i+1}*(dk*h + 2*k*theta)/(h**2*(theta + 1))"
      ]
     },
     "metadata": {},
     "output_type": "display_data"
    },
    {
     "data": {
      "text/latex": [
       "$\\displaystyle \\frac{T_{p} \\left(- dk h + 2 k\\right)}{h^{2} \\left(\\theta + 1\\right)}$"
      ],
      "text/plain": [
       "T_p*(-dk*h + 2*k)/(h**2*(theta + 1))"
      ]
     },
     "metadata": {},
     "output_type": "display_data"
    }
   ],
   "source": [
    "t1 = Tp  *(x-xip) / (xp-xip )\n",
    "t2 = Tip  *(x-xp) / (xip-xp )\n",
    "\n",
    "y = t1 + t2 \n",
    "Tg = y.subs(x, xim)\n",
    "Tg = Tg.subs(xim, -h)\n",
    "Tg = Tg.subs(xi, 0)\n",
    "Tg = Tg.subs(xp, -th*h)\n",
    "Tg = Tg.subs(xip, h)\n",
    "# Tg\n",
    "fdiff = (kp*(Tip-Ti)/h - km*(Ti-Tg)/h)/h\n",
    "# sym.collect(sym.simplify(fdiff), Ti)\n",
    "fdiff = k*(Tip - 2*Ti + Tg)/h/h\n",
    "fdiff += dk*(Tip - Tg)/2/h\n",
    "# sym.collect(sym.simplify(fdiff), Ti)\n",
    "fdiff = sym.collect(sym.collect(sym.expand(fdiff), Ti), Tim)  #* h*h*th*(th+1)\n",
    "fdiff\n",
    "display(fdiff)\n",
    "display(Ti* fdiff.coeff(Ti).simplify())\n",
    "display(Tip* fdiff.coeff(Tip).simplify())\n",
    "display(Tp* fdiff.coeff(Tp).simplify())"
   ]
  },
  {
   "attachments": {},
   "cell_type": "markdown",
   "metadata": {},
   "source": [
    "### South from Stefan, north from Robin, $\\theta > dz$"
   ]
  },
  {
   "cell_type": "code",
   "execution_count": 12,
   "metadata": {},
   "outputs": [
    {
     "data": {
      "text/latex": [
       "$\\displaystyle T_{i} \\left(- \\frac{2 k}{h^{2} \\theta} - \\frac{dk}{R_{0} k} - \\frac{2}{R_{0} h}\\right) + \\frac{2 T_{p} k}{h^{2} \\theta} + \\frac{T_{ch} dk}{R_{0} k} + \\frac{2 T_{ch}}{R_{0} h}$"
      ],
      "text/plain": [
       "T_i*(-2*k/(h**2*theta) - dk/(R_0*k) - 2/(R_0*h)) + 2*T_p*k/(h**2*theta) + T_{ch}*dk/(R_0*k) + 2*T_{ch}/(R_0*h)"
      ]
     },
     "metadata": {},
     "output_type": "display_data"
    },
    {
     "data": {
      "text/latex": [
       "$\\displaystyle T_{i} \\left(- \\frac{2 k}{h^{2} \\theta} - \\frac{dk}{R_{0} k} - \\frac{2}{R_{0} h}\\right)$"
      ],
      "text/plain": [
       "T_i*(-2*k/(h**2*theta) - dk/(R_0*k) - 2/(R_0*h))"
      ]
     },
     "metadata": {},
     "output_type": "display_data"
    },
    {
     "data": {
      "text/latex": [
       "$\\displaystyle 0$"
      ],
      "text/plain": [
       "0"
      ]
     },
     "metadata": {},
     "output_type": "display_data"
    },
    {
     "data": {
      "text/latex": [
       "$\\displaystyle \\frac{2 T_{p} k}{h^{2} \\theta}$"
      ],
      "text/plain": [
       "2*T_p*k/(h**2*theta)"
      ]
     },
     "metadata": {},
     "output_type": "display_data"
    },
    {
     "data": {
      "text/latex": [
       "$\\displaystyle T_{ch} \\left(\\frac{dk}{R_{0} k} + \\frac{2}{R_{0} h}\\right)$"
      ],
      "text/plain": [
       "T_{ch}*(dk/(R_0*k) + 2/(R_0*h))"
      ]
     },
     "metadata": {},
     "output_type": "display_data"
    }
   ],
   "source": [
    "t1 = Tp * (x-xi) / (-th*h)\n",
    "t2 = Ti * (x-xp) / (th*h )\n",
    "\n",
    "y = t1 + t2 \n",
    "Tgs = y.subs(x, xim)\n",
    "\n",
    "Tgs = Tgs.subs(xim, -h)\n",
    "Tgs = Tgs.subs(xi, 0)\n",
    "Tgs = Tgs.subs(xp, -th*h)\n",
    "Tgs = Tgs.subs(xip, h)\n",
    "\n",
    "Tgn = Tgs - 2*h/k*(Ti-T_ch)/R0\n",
    "# Tg\n",
    "# fdiff = (kp*(Tip-Ti)/h - km*(Ti-Tg)/h)/h\n",
    "fdiff = k*(Tgn - 2*Ti + Tgs)/h/h\n",
    "fdiff += dk*(Tgn - Tgs)/2/h\n",
    "# sym.collect(sym.simplify(fdiff), Ti)\n",
    "fdiff = sym.expand(fdiff).collect(Ti).collect(Tim)  #* h*h*th*(th+1)\n",
    "fdiff\n",
    "display(fdiff)\n",
    "display(Ti* fdiff.coeff(Ti).simplify())\n",
    "display(Tip* fdiff.coeff(Tip).simplify())\n",
    "display(Tp* fdiff.coeff(Tp).simplify())\n",
    "display(T_ch* fdiff.coeff(T_ch).simplify())"
   ]
  },
  {
   "attachments": {},
   "cell_type": "markdown",
   "metadata": {},
   "source": [
    "### North from Robin, south from Stefan, $\\theta < dz$"
   ]
  },
  {
   "cell_type": "code",
   "execution_count": 13,
   "metadata": {},
   "outputs": [
    {
     "data": {
      "text/latex": [
       "$\\displaystyle T_{i} \\left(\\frac{dk h \\theta}{2 R_{0} h k \\theta + 2 R_{0} h k} - \\frac{dk h}{2 R_{0} h k \\theta + 2 R_{0} h k} - \\frac{dk \\theta}{2 h \\theta + 2 h} + \\frac{dk}{2 h \\theta + 2 h} + \\frac{dk}{2 h} + \\frac{k \\theta}{h^{2} \\theta + h^{2}} - \\frac{k}{h^{2} \\theta + h^{2}} - \\frac{\\theta}{R_{0} h \\theta + R_{0} h} + \\frac{1}{R_{0} h \\theta + R_{0} h} - \\frac{k}{h^{2}} - \\frac{dk}{2 R_{0} k} - \\frac{1}{R_{0} h}\\right) + \\frac{T_{p} dk}{- h \\theta - h} - \\frac{2 T_{p} k}{- h^{2} \\theta - h^{2}} - \\frac{T_{ch} dk h \\theta}{2 R_{0} h k \\theta + 2 R_{0} h k} + \\frac{T_{ch} dk h}{2 R_{0} h k \\theta + 2 R_{0} h k} + \\frac{T_{ch} \\theta}{R_{0} h \\theta + R_{0} h} - \\frac{T_{ch}}{R_{0} h \\theta + R_{0} h} + \\frac{T_{ch} dk}{2 R_{0} k} + \\frac{T_{ch}}{R_{0} h}$"
      ],
      "text/plain": [
       "T_i*(dk*h*theta/(2*R_0*h*k*theta + 2*R_0*h*k) - dk*h/(2*R_0*h*k*theta + 2*R_0*h*k) - dk*theta/(2*h*theta + 2*h) + dk/(2*h*theta + 2*h) + dk/(2*h) + k*theta/(h**2*theta + h**2) - k/(h**2*theta + h**2) - theta/(R_0*h*theta + R_0*h) + 1/(R_0*h*theta + R_0*h) - k/h**2 - dk/(2*R_0*k) - 1/(R_0*h)) + T_p*dk/(-h*theta - h) - 2*T_p*k/(-h**2*theta - h**2) - T_{ch}*dk*h*theta/(2*R_0*h*k*theta + 2*R_0*h*k) + T_{ch}*dk*h/(2*R_0*h*k*theta + 2*R_0*h*k) + T_{ch}*theta/(R_0*h*theta + R_0*h) - T_{ch}/(R_0*h*theta + R_0*h) + T_{ch}*dk/(2*R_0*k) + T_{ch}/(R_0*h)"
      ]
     },
     "metadata": {},
     "output_type": "display_data"
    },
    {
     "data": {
      "text/latex": [
       "$\\displaystyle \\frac{T_{i} \\left(R_{0} dk h k - 2 R_{0} k^{2} - dk h^{2} - 2 h k \\theta\\right)}{R_{0} h^{2} k \\left(\\theta + 1\\right)}$"
      ],
      "text/plain": [
       "T_i*(R_0*dk*h*k - 2*R_0*k**2 - dk*h**2 - 2*h*k*theta)/(R_0*h**2*k*(theta + 1))"
      ]
     },
     "metadata": {},
     "output_type": "display_data"
    },
    {
     "data": {
      "text/latex": [
       "$\\displaystyle 0$"
      ],
      "text/plain": [
       "0"
      ]
     },
     "metadata": {},
     "output_type": "display_data"
    },
    {
     "data": {
      "text/latex": [
       "$\\displaystyle \\frac{T_{p} \\left(- dk h + 2 k\\right)}{h^{2} \\left(\\theta + 1\\right)}$"
      ],
      "text/plain": [
       "T_p*(-dk*h + 2*k)/(h**2*(theta + 1))"
      ]
     },
     "metadata": {},
     "output_type": "display_data"
    },
    {
     "data": {
      "text/latex": [
       "$\\displaystyle \\frac{T_{ch} \\left(dk h + 2 k \\theta\\right)}{R_{0} h k \\left(\\theta + 1\\right)}$"
      ],
      "text/plain": [
       "T_{ch}*(dk*h + 2*k*theta)/(R_0*h*k*(theta + 1))"
      ]
     },
     "metadata": {},
     "output_type": "display_data"
    }
   ],
   "source": [
    "Tgn = Ti - h/k*(Ti-T_ch)/R0\n",
    "\n",
    "t1 = Tp * (x-xip) / (xp-xip)\n",
    "t2 = Tgn * (x-xp) / (xip-xp)\n",
    "\n",
    "y = t1 + t2 \n",
    "Tgs = y.subs(x, xim)\n",
    "\n",
    "Tgs = Tgs.subs(xim, -h)\n",
    "Tgs = Tgs.subs(xi, 0)\n",
    "Tgs = Tgs.subs(xp, -th*h)\n",
    "Tgs = Tgs.subs(xip, h)\n",
    "\n",
    "# Tg\n",
    "# fdiff = (kp*(Tip-Ti)/h - km*(Ti-Tg)/h)/h\n",
    "fdiff = k*(Tgn - 2*Ti + Tgs)/h/h\n",
    "fdiff += dk*(Tgn - Tgs)/2/h\n",
    "# sym.collect(sym.simplify(fdiff), Ti)\n",
    "fdiff = sym.expand(fdiff).collect(Ti).collect(Tim)  #* h*h*th*(th+1)\n",
    "fdiff\n",
    "display(fdiff)\n",
    "display(Ti* fdiff.coeff(Ti).simplify())\n",
    "display(Tip* fdiff.coeff(Tip).simplify())\n",
    "display(Tp* fdiff.coeff(Tp).simplify())\n",
    "display(T_ch* fdiff.coeff(T_ch).simplify())"
   ]
  },
  {
   "attachments": {},
   "cell_type": "markdown",
   "metadata": {},
   "source": [
    "### North from RObin, no stefan"
   ]
  },
  {
   "cell_type": "code",
   "execution_count": 14,
   "metadata": {},
   "outputs": [
    {
     "data": {
      "text/latex": [
       "$\\displaystyle T_{i} \\left(- \\frac{2 k}{h^{2}} - \\frac{dk}{R_{0} k} - \\frac{2}{R_{0} h}\\right) + \\frac{2 T_{i-1} k}{h^{2}} + \\frac{T_{ch} dk}{R_{0} k} + \\frac{2 T_{ch}}{R_{0} h}$"
      ],
      "text/plain": [
       "T_i*(-2*k/h**2 - dk/(R_0*k) - 2/(R_0*h)) + 2*T_{i-1}*k/h**2 + T_{ch}*dk/(R_0*k) + 2*T_{ch}/(R_0*h)"
      ]
     },
     "metadata": {},
     "output_type": "display_data"
    },
    {
     "data": {
      "text/latex": [
       "$\\displaystyle T_{i} \\left(- \\frac{2 k}{h^{2}} - \\frac{dk}{R_{0} k} - \\frac{2}{R_{0} h}\\right)$"
      ],
      "text/plain": [
       "T_i*(-2*k/h**2 - dk/(R_0*k) - 2/(R_0*h))"
      ]
     },
     "metadata": {},
     "output_type": "display_data"
    },
    {
     "data": {
      "text/latex": [
       "$\\displaystyle \\frac{2 T_{i-1} k}{h^{2}}$"
      ],
      "text/plain": [
       "2*T_{i-1}*k/h**2"
      ]
     },
     "metadata": {},
     "output_type": "display_data"
    },
    {
     "data": {
      "text/latex": [
       "$\\displaystyle 0$"
      ],
      "text/plain": [
       "0"
      ]
     },
     "metadata": {},
     "output_type": "display_data"
    },
    {
     "data": {
      "text/latex": [
       "$\\displaystyle T_{ch} \\left(\\frac{dk}{R_{0} k} + \\frac{2}{R_{0} h}\\right)$"
      ],
      "text/plain": [
       "T_{ch}*(dk/(R_0*k) + 2/(R_0*h))"
      ]
     },
     "metadata": {},
     "output_type": "display_data"
    }
   ],
   "source": [
    "Tgn = Tim - 2*h/k/R0*(Ti-T_ch)\n",
    "\n",
    "# Tg\n",
    "# fdiff = (kp*(Tip-Ti)/h - km*(Ti-Tg)/h)/h\n",
    "fdiff = k*(Tgn - 2*Ti + Tim)/h/h\n",
    "fdiff += dk*(Tgn - Tim)/2/h\n",
    "# sym.collect(sym.simplify(fdiff), Ti)\n",
    "fdiff = sym.expand(fdiff).collect(Ti).collect(Tim)  #* h*h*th*(th+1)\n",
    "fdiff\n",
    "display(fdiff)\n",
    "display(Ti* fdiff.coeff(Ti).simplify())\n",
    "display(Tim* fdiff.coeff(Tim).simplify())\n",
    "display(Tp* fdiff.coeff(Tp).simplify())\n",
    "display(T_ch* fdiff.coeff(T_ch).simplify())"
   ]
  },
  {
   "attachments": {},
   "cell_type": "markdown",
   "metadata": {},
   "source": [
    "### Linear extrapolation, cylindrical finite difference\n"
   ]
  },
  {
   "attachments": {},
   "cell_type": "markdown",
   "metadata": {},
   "source": [
    "### East & west ghost cells"
   ]
  },
  {
   "cell_type": "code",
   "execution_count": 15,
   "metadata": {},
   "outputs": [
    {
     "data": {
      "text/latex": [
       "$\\displaystyle T_{i} \\left(- \\frac{dk}{2 h \\theta_{r}} + \\frac{dk}{2 h \\theta_{l}} - \\frac{k}{2 h r_{i} \\theta_{r}} + \\frac{k}{2 h r_{i} \\theta_{l}} - \\frac{k}{h^{2} \\theta_{r}} - \\frac{k}{h^{2} \\theta_{l}}\\right) + T_{p} \\left(\\frac{dk}{2 h \\theta_{r}} - \\frac{dk}{2 h \\theta_{l}} + \\frac{k}{2 h r_{i} \\theta_{r}} - \\frac{k}{2 h r_{i} \\theta_{l}} + \\frac{k}{h^{2} \\theta_{r}} + \\frac{k}{h^{2} \\theta_{l}}\\right)$"
      ],
      "text/plain": [
       "T_i*(-dk/(2*h*theta_r) + dk/(2*h*theta_l) - k/(2*h*r_i*theta_r) + k/(2*h*r_i*theta_l) - k/(h**2*theta_r) - k/(h**2*theta_l)) + T_p*(dk/(2*h*theta_r) - dk/(2*h*theta_l) + k/(2*h*r_i*theta_r) - k/(2*h*r_i*theta_l) + k/(h**2*theta_r) + k/(h**2*theta_l))"
      ]
     },
     "metadata": {},
     "output_type": "display_data"
    },
    {
     "data": {
      "text/latex": [
       "$\\displaystyle T_{i} \\left(- \\frac{dk}{2 h \\theta_{r}} + \\frac{dk}{2 h \\theta_{l}} - \\frac{k}{2 h r_{i} \\theta_{r}} + \\frac{k}{2 h r_{i} \\theta_{l}} - \\frac{k}{h^{2} \\theta_{r}} - \\frac{k}{h^{2} \\theta_{l}}\\right)$"
      ],
      "text/plain": [
       "T_i*(-dk/(2*h*theta_r) + dk/(2*h*theta_l) - k/(2*h*r_i*theta_r) + k/(2*h*r_i*theta_l) - k/(h**2*theta_r) - k/(h**2*theta_l))"
      ]
     },
     "metadata": {},
     "output_type": "display_data"
    },
    {
     "data": {
      "text/latex": [
       "$\\displaystyle 0$"
      ],
      "text/plain": [
       "0"
      ]
     },
     "metadata": {},
     "output_type": "display_data"
    },
    {
     "data": {
      "text/latex": [
       "$\\displaystyle T_{p} \\left(\\frac{dk}{2 h \\theta_{r}} - \\frac{dk}{2 h \\theta_{l}} + \\frac{k}{2 h r_{i} \\theta_{r}} - \\frac{k}{2 h r_{i} \\theta_{l}} + \\frac{k}{h^{2} \\theta_{r}} + \\frac{k}{h^{2} \\theta_{l}}\\right)$"
      ],
      "text/plain": [
       "T_p*(dk/(2*h*theta_r) - dk/(2*h*theta_l) + k/(2*h*r_i*theta_r) - k/(2*h*r_i*theta_l) + k/(h**2*theta_r) + k/(h**2*theta_l))"
      ]
     },
     "metadata": {},
     "output_type": "display_data"
    }
   ],
   "source": [
    "t1 = Tp  *(r-ri) / (rp-ri  )\n",
    "t2 = Ti  *(r-rp) / (ri-rp )\n",
    "\n",
    "y = t1 + t2 \n",
    "Tge = y.subs(r, rip)\n",
    "\n",
    "Tge = Tge.subs(rim, -h)\n",
    "Tge = Tge.subs(rip, h)\n",
    "Tge = Tge.subs(ri, 0)\n",
    "Tge = Tge.subs(rp, thr*h)\n",
    "# Tg\n",
    "\n",
    "t1 = Tp  *(r-ri) / (rp-ri  )\n",
    "t2 = Ti  *(r-rp) / (ri-rp )\n",
    "\n",
    "y = t1 + t2 \n",
    "Tgw = y.subs(r, rim)\n",
    "\n",
    "Tgw = Tgw.subs(rim, -h)\n",
    "Tgw = Tgw.subs(rip, h)\n",
    "Tgw = Tgw.subs(ri, 0)\n",
    "Tgw = Tgw.subs(rp, -thl*h)\n",
    "\n",
    "# fvdiff = 1/ri*(r_hp*kp*(Tg-Ti)/h - r_hm*km*(Ti-Tim)/h)/h\n",
    "# # sym.collect(sym.simplify(fdiff), Ti)\n",
    "# fvdiff = (fvdiff*h*h).expand().collect(Ti).collect(Tim)  / h / h#* h*h*th*(th+1)\n",
    "# # display(fvdiff)\n",
    "# fvdiffk = fvdiff.subs(kp, k).subs(km, k)\n",
    "# # display(fvdiffk)\n",
    "\n",
    "fdiff = k/ri*(Tge-Tgw)/2/h + k*(Tge - 2*Ti + Tgw)/h/h\n",
    "fdiff += dk*(Tge - Tgw)/2/h\n",
    "fdiff = fdiff.expand().collect(Ti).collect(Tp).collect(Tim)\n",
    "# fdiff.coeff(Ti).simplify()\n",
    "display(fdiff)\n",
    "display(Ti* (fdiff.coeff(Ti).simplify()).expand())\n",
    "display(Tim* fdiff.coeff(Tim).simplify())\n",
    "display(Tp* fdiff.coeff(Tp).simplify())"
   ]
  },
  {
   "attachments": {},
   "cell_type": "markdown",
   "metadata": {},
   "source": [
    "\n",
    "#### East ghost cell"
   ]
  },
  {
   "cell_type": "code",
   "execution_count": 16,
   "metadata": {},
   "outputs": [
    {
     "data": {
      "text/latex": [
       "$\\displaystyle T_{i} \\left(\\frac{dk}{2 h} - \\frac{dk}{2 h \\theta} + \\frac{k}{2 h r_{i}} - \\frac{k}{2 h r_{i} \\theta} - \\frac{k}{h^{2}} - \\frac{k}{h^{2} \\theta}\\right) + T_{p} \\left(\\frac{dk}{2 h \\theta} + \\frac{k}{2 h r_{i} \\theta} + \\frac{k}{h^{2} \\theta}\\right) + T_{i-1} \\left(- \\frac{dk}{2 h} - \\frac{k}{2 h r_{i}} + \\frac{k}{h^{2}}\\right)$"
      ],
      "text/plain": [
       "T_i*(dk/(2*h) - dk/(2*h*theta) + k/(2*h*r_i) - k/(2*h*r_i*theta) - k/h**2 - k/(h**2*theta)) + T_p*(dk/(2*h*theta) + k/(2*h*r_i*theta) + k/(h**2*theta)) + T_{i-1}*(-dk/(2*h) - k/(2*h*r_i) + k/h**2)"
      ]
     },
     "metadata": {},
     "output_type": "display_data"
    },
    {
     "data": {
      "text/latex": [
       "$\\displaystyle T_{i} \\left(\\frac{dk}{2 h} - \\frac{dk}{2 h \\theta} + \\frac{k}{2 h r_{i}} - \\frac{k}{2 h r_{i} \\theta} - \\frac{k}{h^{2}} - \\frac{k}{h^{2} \\theta}\\right)$"
      ],
      "text/plain": [
       "T_i*(dk/(2*h) - dk/(2*h*theta) + k/(2*h*r_i) - k/(2*h*r_i*theta) - k/h**2 - k/(h**2*theta))"
      ]
     },
     "metadata": {},
     "output_type": "display_data"
    },
    {
     "data": {
      "text/latex": [
       "$\\displaystyle T_{i-1} \\left(- \\frac{dk}{2 h} - \\frac{k}{2 h r_{i}} + \\frac{k}{h^{2}}\\right)$"
      ],
      "text/plain": [
       "T_{i-1}*(-dk/(2*h) - k/(2*h*r_i) + k/h**2)"
      ]
     },
     "metadata": {},
     "output_type": "display_data"
    },
    {
     "data": {
      "text/latex": [
       "$\\displaystyle \\frac{T_{p} \\left(dk h r_{i} + h k + 2 k r_{i}\\right)}{2 h^{2} r_{i} \\theta}$"
      ],
      "text/plain": [
       "T_p*(dk*h*r_i + h*k + 2*k*r_i)/(2*h**2*r_i*theta)"
      ]
     },
     "metadata": {},
     "output_type": "display_data"
    }
   ],
   "source": [
    "t1 = Tp  *(r-ri) / (rp-ri  )\n",
    "t2 = Ti  *(r-rp) / (ri-rp )\n",
    "\n",
    "y = t1 + t2 \n",
    "Tg = y.subs(r, rip)\n",
    "\n",
    "Tg = Tg.subs(rim, -h)\n",
    "Tg = Tg.subs(rip, h)\n",
    "Tg = Tg.subs(ri, 0)\n",
    "Tg = Tg.subs(rp, th*h)\n",
    "# Tg\n",
    "# fvdiff = 1/ri*(r_hp*kp*(Tg-Ti)/h - r_hm*km*(Ti-Tim)/h)/h\n",
    "# # sym.collect(sym.simplify(fdiff), Ti)\n",
    "# fvdiff = (fvdiff*h*h).expand().collect(Ti).collect(Tim)  / h / h#* h*h*th*(th+1)\n",
    "# # display(fvdiff)\n",
    "# fvdiffk = fvdiff.subs(kp, k).subs(km, k)\n",
    "# # display(fvdiffk)\n",
    "\n",
    "fdiff = k/ri*(Tg-Tim)/2/h + k*(Tg - 2*Ti + Tim)/h/h\n",
    "fdiff += dk*(Tg - Tim)/2/h\n",
    "fdiff = fdiff.expand().collect(Ti).collect(Tp).collect(Tim)\n",
    "# fdiff.coeff(Ti).simplify()\n",
    "display(fdiff)\n",
    "display(Ti* (fdiff.coeff(Ti).simplify()).expand())\n",
    "display(Tim* fdiff.coeff(Tim).simplify())\n",
    "display(Tp* fdiff.coeff(Tp).simplify())"
   ]
  },
  {
   "attachments": {},
   "cell_type": "markdown",
   "metadata": {},
   "source": [
    "#### $\\theta < \\Delta r$"
   ]
  },
  {
   "cell_type": "code",
   "execution_count": 17,
   "metadata": {},
   "outputs": [
    {
     "data": {
      "text/latex": [
       "$\\displaystyle - \\frac{2 T_{i} k}{h^{2}} + T_{p} \\left(\\frac{dk}{h \\theta + h} + \\frac{k}{h r_{i} \\theta + h r_{i}} + \\frac{2 k}{h^{2} \\theta + h^{2}}\\right) + T_{i-1} \\left(- \\frac{dk \\theta}{- 2 h \\theta - 2 h} + \\frac{dk}{- 2 h \\theta - 2 h} - \\frac{dk}{2 h} - \\frac{k \\theta}{- 2 h r_{i} \\theta - 2 h r_{i}} - \\frac{k \\theta}{- h^{2} \\theta - h^{2}} + \\frac{k}{- 2 h r_{i} \\theta - 2 h r_{i}} + \\frac{k}{- h^{2} \\theta - h^{2}} - \\frac{k}{2 h r_{i}} + \\frac{k}{h^{2}}\\right)$"
      ],
      "text/plain": [
       "-2*T_i*k/h**2 + T_p*(dk/(h*theta + h) + k/(h*r_i*theta + h*r_i) + 2*k/(h**2*theta + h**2)) + T_{i-1}*(-dk*theta/(-2*h*theta - 2*h) + dk/(-2*h*theta - 2*h) - dk/(2*h) - k*theta/(-2*h*r_i*theta - 2*h*r_i) - k*theta/(-h**2*theta - h**2) + k/(-2*h*r_i*theta - 2*h*r_i) + k/(-h**2*theta - h**2) - k/(2*h*r_i) + k/h**2)"
      ]
     },
     "metadata": {},
     "output_type": "display_data"
    },
    {
     "data": {
      "text/latex": [
       "$\\displaystyle - \\frac{2 T_{i} k}{h^{2}}$"
      ],
      "text/plain": [
       "-2*T_i*k/h**2"
      ]
     },
     "metadata": {},
     "output_type": "display_data"
    },
    {
     "data": {
      "text/latex": [
       "$\\displaystyle \\frac{T_{i-1} \\left(- dk h r_{i} - h k + 2 k r_{i} \\theta\\right)}{h^{2} r_{i} \\left(\\theta + 1\\right)}$"
      ],
      "text/plain": [
       "T_{i-1}*(-dk*h*r_i - h*k + 2*k*r_i*theta)/(h**2*r_i*(theta + 1))"
      ]
     },
     "metadata": {},
     "output_type": "display_data"
    },
    {
     "data": {
      "text/latex": [
       "$\\displaystyle \\frac{T_{p} \\left(dk h r_{i} + h k + 2 k r_{i}\\right)}{h^{2} r_{i} \\left(\\theta + 1\\right)}$"
      ],
      "text/plain": [
       "T_p*(dk*h*r_i + h*k + 2*k*r_i)/(h**2*r_i*(theta + 1))"
      ]
     },
     "metadata": {},
     "output_type": "display_data"
    }
   ],
   "source": [
    "t1 = Tp  *(r-rim) / (rp-rim  )\n",
    "t2 = Tim  *(r-rp) / (rim-rp )\n",
    "\n",
    "\n",
    "y = t1 + t2 \n",
    "Tg = y.subs(r, rip)\n",
    "\n",
    "Tg = Tg.subs(rim, -h)\n",
    "Tg = Tg.subs(rip, h)\n",
    "Tg = Tg.subs(ri, 0)\n",
    "Tg = Tg.subs(rp, th*h)\n",
    "\n",
    "fdiff = k/ri*(Tg-Tim)/2/h + k*(Tg - 2*Ti + Tim)/h/h\n",
    "fdiff += dk*(Tg - Tim)/2/h\n",
    "fdiff = fdiff.expand().collect(Ti).collect(Tp).collect(Tim)\n",
    "# fdiff.coeff(Ti).simplify()\n",
    "display(fdiff)\n",
    "display(Ti* fdiff.coeff(Ti).simplify())\n",
    "display(Tim* (fdiff.coeff(Tim)  ).simplify())\n",
    "display(Tp* fdiff.coeff(Tp).simplify())"
   ]
  },
  {
   "attachments": {},
   "cell_type": "markdown",
   "metadata": {},
   "source": [
    "### Linear extrapolation, cylindrical finite difference\n",
    "#### West ghost cell"
   ]
  },
  {
   "cell_type": "code",
   "execution_count": 4,
   "metadata": {},
   "outputs": [
    {
     "data": {
      "text/latex": [
       "$\\displaystyle T_{i} \\left(- \\frac{dk}{2 h} + \\frac{dk}{2 h \\theta} - \\frac{k}{2 h r_{i}} + \\frac{k}{2 h r_{i} \\theta} - \\frac{k}{h^{2}} - \\frac{k}{h^{2} \\theta}\\right) + T_{p} \\left(- \\frac{dk}{2 h \\theta} - \\frac{k}{2 h r_{i} \\theta} + \\frac{k}{h^{2} \\theta}\\right) + T_{i+1} \\left(\\frac{dk}{2 h} + \\frac{k}{2 h r_{i}} + \\frac{k}{h^{2}}\\right)$"
      ],
      "text/plain": [
       "T_i*(-dk/(2*h) + dk/(2*h*theta) - k/(2*h*r_i) + k/(2*h*r_i*theta) - k/h**2 - k/(h**2*theta)) + T_p*(-dk/(2*h*theta) - k/(2*h*r_i*theta) + k/(h**2*theta)) + T_{i+1}*(dk/(2*h) + k/(2*h*r_i) + k/h**2)"
      ]
     },
     "metadata": {},
     "output_type": "display_data"
    },
    {
     "data": {
      "text/latex": [
       "$\\displaystyle T_{i} \\left(- \\frac{dk}{2 h} + \\frac{dk}{2 h \\theta} - \\frac{k}{2 h r_{i}} + \\frac{k}{2 h r_{i} \\theta} - \\frac{k}{h^{2}} - \\frac{k}{h^{2} \\theta}\\right)$"
      ],
      "text/plain": [
       "T_i*(-dk/(2*h) + dk/(2*h*theta) - k/(2*h*r_i) + k/(2*h*r_i*theta) - k/h**2 - k/(h**2*theta))"
      ]
     },
     "metadata": {},
     "output_type": "display_data"
    },
    {
     "data": {
      "text/latex": [
       "$\\displaystyle T_{i+1} \\left(\\frac{dk}{2 h} + \\frac{k}{2 h r_{i}} + \\frac{k}{h^{2}}\\right)$"
      ],
      "text/plain": [
       "T_{i+1}*(dk/(2*h) + k/(2*h*r_i) + k/h**2)"
      ]
     },
     "metadata": {},
     "output_type": "display_data"
    },
    {
     "data": {
      "text/latex": [
       "$\\displaystyle \\frac{T_{p} \\left(- dk h r_{i} - h k + 2 k r_{i}\\right)}{2 h^{2} r_{i} \\theta}$"
      ],
      "text/plain": [
       "T_p*(-dk*h*r_i - h*k + 2*k*r_i)/(2*h**2*r_i*theta)"
      ]
     },
     "metadata": {},
     "output_type": "display_data"
    }
   ],
   "source": [
    "t1 = Tp  *(r-ri) / (rp-ri  )\n",
    "t2 = Ti  *(r-rp) / (ri-rp )\n",
    "\n",
    "y = t1 + t2 \n",
    "Tg = y.subs(r, rim)\n",
    "\n",
    "Tg = Tg.subs(rim, -h)\n",
    "Tg = Tg.subs(rip, h)\n",
    "Tg = Tg.subs(ri, 0)\n",
    "Tg = Tg.subs(rp, -th*h)\n",
    "# Tg\n",
    "# fvdiff = 1/ri*(r_hp*kp*(Tip-Ti)/h - r_hm*km*(Ti-Tg)/h)/h\n",
    "# sym.collect(sym.simplify(fdiff), Ti)\n",
    "\n",
    "fdiff = k/ri*(Tip-Tg)/2/h + k*(Tg - 2*Ti + Tip)/h/h\n",
    "fdiff += dk*(Tip - Tg)/2/h\n",
    "fdiff = fdiff.expand().collect(Ti).collect(Tp).collect(Tip)\n",
    "# fdiff.coeff(Ti).simplify()\n",
    "display(fdiff)\n",
    "# display(Ti* (fdiff.coeff(Ti).simplify() + 2*k/h**2).expand())\n",
    "display(Ti* (fdiff.coeff(Ti).simplify()))\n",
    "display(Tip* fdiff.coeff(Tip).simplify())\n",
    "display(Tp* fdiff.coeff(Tp).simplify())"
   ]
  },
  {
   "attachments": {},
   "cell_type": "markdown",
   "metadata": {},
   "source": [
    "#### $\\theta < \\Delta r$"
   ]
  },
  {
   "cell_type": "code",
   "execution_count": 9,
   "metadata": {},
   "outputs": [
    {
     "data": {
      "text/latex": [
       "$\\displaystyle - \\frac{2 T_{p} h}{- h \\theta - h} + \\frac{T_{i+1} \\left(h \\theta - h\\right)}{h \\theta + h}$"
      ],
      "text/plain": [
       "-2*T_p*h/(-h*theta - h) + T_{i+1}*(h*theta - h)/(h*theta + h)"
      ]
     },
     "metadata": {},
     "output_type": "display_data"
    },
    {
     "data": {
      "text/latex": [
       "$\\displaystyle - \\frac{2 T_{i} k}{h^{2}} + T_{p} \\left(\\frac{dk}{- h \\theta - h} + \\frac{k}{- h r_{i} \\theta - h r_{i}} - \\frac{2 k}{- h^{2} \\theta - h^{2}}\\right) + T_{i+1} \\left(- \\frac{dk \\theta}{2 h \\theta + 2 h} + \\frac{dk}{2 h \\theta + 2 h} + \\frac{dk}{2 h} - \\frac{k \\theta}{2 h r_{i} \\theta + 2 h r_{i}} + \\frac{k \\theta}{h^{2} \\theta + h^{2}} + \\frac{k}{2 h r_{i} \\theta + 2 h r_{i}} - \\frac{k}{h^{2} \\theta + h^{2}} + \\frac{k}{2 h r_{i}} + \\frac{k}{h^{2}}\\right)$"
      ],
      "text/plain": [
       "-2*T_i*k/h**2 + T_p*(dk/(-h*theta - h) + k/(-h*r_i*theta - h*r_i) - 2*k/(-h**2*theta - h**2)) + T_{i+1}*(-dk*theta/(2*h*theta + 2*h) + dk/(2*h*theta + 2*h) + dk/(2*h) - k*theta/(2*h*r_i*theta + 2*h*r_i) + k*theta/(h**2*theta + h**2) + k/(2*h*r_i*theta + 2*h*r_i) - k/(h**2*theta + h**2) + k/(2*h*r_i) + k/h**2)"
      ]
     },
     "metadata": {},
     "output_type": "display_data"
    },
    {
     "data": {
      "text/latex": [
       "$\\displaystyle - \\frac{2 T_{i} k}{h^{2}}$"
      ],
      "text/plain": [
       "-2*T_i*k/h**2"
      ]
     },
     "metadata": {},
     "output_type": "display_data"
    },
    {
     "data": {
      "text/latex": [
       "$\\displaystyle \\frac{T_{i+1} \\left(dk h r_{i} + h k + 2 k r_{i} \\theta\\right)}{h^{2} r_{i} \\left(\\theta + 1\\right)}$"
      ],
      "text/plain": [
       "T_{i+1}*(dk*h*r_i + h*k + 2*k*r_i*theta)/(h**2*r_i*(theta + 1))"
      ]
     },
     "metadata": {},
     "output_type": "display_data"
    },
    {
     "data": {
      "text/latex": [
       "$\\displaystyle \\frac{T_{p} \\left(- dk h r_{i} - h k + 2 k r_{i}\\right)}{h^{2} r_{i} \\left(\\theta + 1\\right)}$"
      ],
      "text/plain": [
       "T_p*(-dk*h*r_i - h*k + 2*k*r_i)/(h**2*r_i*(theta + 1))"
      ]
     },
     "metadata": {},
     "output_type": "display_data"
    }
   ],
   "source": [
    "t1 = Tp  *(r-rip) / (rp-rip  )\n",
    "t2 = Tip  *(r-rp) / (rip-rp )\n",
    "\n",
    "y = t1 + t2 \n",
    "Tg = y.subs(r, rim)\n",
    "\n",
    "Tg = Tg.subs(rim, -h)\n",
    "Tg = Tg.subs(rip, h)\n",
    "Tg = Tg.subs(ri, 0)\n",
    "Tg = Tg.subs(rp, -th*h)\n",
    "\n",
    "fdiff = k/ri*(Tip-Tg)/2/h + k*(Tg - 2*Ti + Tip)/h/h\n",
    "fdiff += dk*(Tip - Tg)/2/h\n",
    "fdiff = fdiff.expand().collect(Ti).collect(Tp).collect(Tip)\n",
    "# fdiff.coeff(Ti).simplify()\n",
    "display(fdiff)\n",
    "display(Ti* fdiff.coeff(Ti).simplify())\n",
    "# display(Tip* (fdiff.coeff(Tip) - k/h/ri/2 - k/h/h ).simplify())\n",
    "display(Tip* (fdiff.coeff(Tip)  ).simplify())\n",
    "display(Tp* fdiff.coeff(Tp).simplify())"
   ]
  },
  {
   "cell_type": "markdown",
   "metadata": {},
   "source": [
    "### Logarithmic extrapolation, cylindrical finite difference\n",
    "#### East ghost cell"
   ]
  },
  {
   "cell_type": "code",
   "execution_count": 10,
   "metadata": {},
   "outputs": [
    {
     "data": {
      "text/latex": [
       "$\\displaystyle 0$"
      ],
      "text/plain": [
       "0"
      ]
     },
     "metadata": {},
     "output_type": "display_data"
    },
    {
     "data": {
      "text/latex": [
       "$\\displaystyle T_{i} + \\frac{\\left(T_{i} - T_{p}\\right) \\log{\\left(\\frac{r_{i+1}}{r_{i}} \\right)}}{\\log{\\left(\\frac{r_{i}}{r_{p}} \\right)}}$"
      ],
      "text/plain": [
       "T_i + (T_i - T_p)*log(r_{i+1}/r_i)/log(r_i/r_p)"
      ]
     },
     "metadata": {},
     "output_type": "display_data"
    },
    {
     "data": {
      "text/latex": [
       "$\\displaystyle T_{i} \\left(- \\frac{dk h r_{i} \\log{\\left(r_{p} \\right)}}{2 h^{2} r_{i} \\log{\\left(r_{i} \\right)} - 2 h^{2} r_{i} \\log{\\left(r_{p} \\right)}} + \\frac{dk h r_{i} \\log{\\left(r_{i+1} \\right)}}{2 h^{2} r_{i} \\log{\\left(r_{i} \\right)} - 2 h^{2} r_{i} \\log{\\left(r_{p} \\right)}} - \\frac{h k \\log{\\left(r_{p} \\right)}}{2 h^{2} r_{i} \\log{\\left(r_{i} \\right)} - 2 h^{2} r_{i} \\log{\\left(r_{p} \\right)}} + \\frac{h k \\log{\\left(r_{i+1} \\right)}}{2 h^{2} r_{i} \\log{\\left(r_{i} \\right)} - 2 h^{2} r_{i} \\log{\\left(r_{p} \\right)}} - \\frac{4 k r_{i} \\log{\\left(r_{i} \\right)}}{2 h^{2} r_{i} \\log{\\left(r_{i} \\right)} - 2 h^{2} r_{i} \\log{\\left(r_{p} \\right)}} + \\frac{2 k r_{i} \\log{\\left(r_{p} \\right)}}{2 h^{2} r_{i} \\log{\\left(r_{i} \\right)} - 2 h^{2} r_{i} \\log{\\left(r_{p} \\right)}} + \\frac{2 k r_{i} \\log{\\left(r_{i+1} \\right)}}{2 h^{2} r_{i} \\log{\\left(r_{i} \\right)} - 2 h^{2} r_{i} \\log{\\left(r_{p} \\right)}}\\right)$"
      ],
      "text/plain": [
       "T_i*(-dk*h*r_i*log(r_p)/(2*h**2*r_i*log(r_i) - 2*h**2*r_i*log(r_p)) + dk*h*r_i*log(r_{i+1})/(2*h**2*r_i*log(r_i) - 2*h**2*r_i*log(r_p)) - h*k*log(r_p)/(2*h**2*r_i*log(r_i) - 2*h**2*r_i*log(r_p)) + h*k*log(r_{i+1})/(2*h**2*r_i*log(r_i) - 2*h**2*r_i*log(r_p)) - 4*k*r_i*log(r_i)/(2*h**2*r_i*log(r_i) - 2*h**2*r_i*log(r_p)) + 2*k*r_i*log(r_p)/(2*h**2*r_i*log(r_i) - 2*h**2*r_i*log(r_p)) + 2*k*r_i*log(r_{i+1})/(2*h**2*r_i*log(r_i) - 2*h**2*r_i*log(r_p)))"
      ]
     },
     "metadata": {},
     "output_type": "display_data"
    },
    {
     "data": {
      "text/latex": [
       "$\\displaystyle T_{i-1} \\left(- \\frac{dk}{2 h} - \\frac{k}{2 h r_{i}} + \\frac{k}{h^{2}}\\right)$"
      ],
      "text/plain": [
       "T_{i-1}*(-dk/(2*h) - k/(2*h*r_i) + k/h**2)"
      ]
     },
     "metadata": {},
     "output_type": "display_data"
    },
    {
     "data": {
      "text/latex": [
       "$\\displaystyle \\frac{T_{p} \\left(dk h r_{i} + h k + 2 k r_{i}\\right) \\log{\\left(\\left(\\frac{r_{i}}{r_{i+1}}\\right)^{\\frac{1}{2 r_{i}}} \\right)}}{h^{2} \\log{\\left(\\frac{r_{i}}{r_{p}} \\right)}}$"
      ],
      "text/plain": [
       "T_p*(dk*h*r_i + h*k + 2*k*r_i)*log((r_i/r_{i+1})**(1/(2*r_i)))/(h**2*log(r_i/r_p))"
      ]
     },
     "metadata": {},
     "output_type": "display_data"
    }
   ],
   "source": [
    "\n",
    "c1 = (Ti - Tp)/(ln(ri)-ln(rp))\n",
    "c2 = Ti - c1*ln(ri)\n",
    "y = c1*ln(r) + c2\n",
    "Tg1 = y.subs(r, rip)\n",
    "Tg2 = Ti + ln(rip/ri)*(Ti-Tp)/ln(ri/rp)\n",
    "display((sym.expand_log(Tg1) - sym.expand_log(Tg2)).simplify())\n",
    "\n",
    "Tg = Tg2\n",
    "\n",
    "display(Tg)\n",
    "\n",
    "# Tg = Tg.subs(rim, -h)\n",
    "# Tg = Tg.subs(rip, h)\n",
    "# Tg = Tg.subs(ri, 0)\n",
    "# Tg = Tg.subs(rp, th*h)\n",
    "\n",
    "fdiff = k/ri*(Tg-Tim)/2/h + k*(Tg - 2*Ti + Tim)/h/h\n",
    "fdiff += dk*(Tg - Tim)/2/h\n",
    "fdiff = fdiff.expand().collect(Ti).collect(Tp).collect(Tim)\n",
    "# fdiff.coeff(Ti).simplify()\n",
    "# display(fdiff)\n",
    "display(Ti* (fdiff.coeff(Ti).simplify()).expand())\n",
    "display(Tim* fdiff.coeff(Tim).simplify())\n",
    "display(Tp* fdiff.coeff(Tp).simplify())"
   ]
  },
  {
   "cell_type": "markdown",
   "metadata": {},
   "source": [
    "#### $\\theta < \\Delta r$"
   ]
  },
  {
   "cell_type": "code",
   "execution_count": 11,
   "metadata": {},
   "outputs": [
    {
     "data": {
      "text/latex": [
       "$\\displaystyle 0$"
      ],
      "text/plain": [
       "0"
      ]
     },
     "metadata": {},
     "output_type": "display_data"
    },
    {
     "data": {
      "text/latex": [
       "$\\displaystyle T_{i-1} + \\frac{\\left(- T_{p} + T_{i-1}\\right) \\log{\\left(\\frac{r_{i+1}}{r_{i-1}} \\right)}}{\\log{\\left(\\frac{r_{i-1}}{r_{p}} \\right)}}$"
      ],
      "text/plain": [
       "T_{i-1} + (-T_p + T_{i-1})*log(r_{i+1}/r_{i-1})/log(r_{i-1}/r_p)"
      ]
     },
     "metadata": {},
     "output_type": "display_data"
    },
    {
     "data": {
      "text/latex": [
       "$\\displaystyle - \\frac{2 T_{i} k}{h^{2}} + T_{p} \\left(- \\frac{dk \\log{\\left(r_{i+1} \\right)}}{- 2 h \\log{\\left(r_{p} \\right)} + 2 h \\log{\\left(r_{i-1} \\right)}} + \\frac{dk \\log{\\left(r_{i-1} \\right)}}{- 2 h \\log{\\left(r_{p} \\right)} + 2 h \\log{\\left(r_{i-1} \\right)}} - \\frac{k \\log{\\left(r_{i+1} \\right)}}{- 2 h r_{i} \\log{\\left(r_{p} \\right)} + 2 h r_{i} \\log{\\left(r_{i-1} \\right)}} + \\frac{k \\log{\\left(r_{i-1} \\right)}}{- 2 h r_{i} \\log{\\left(r_{p} \\right)} + 2 h r_{i} \\log{\\left(r_{i-1} \\right)}} - \\frac{k \\log{\\left(r_{i+1} \\right)}}{- h^{2} \\log{\\left(r_{p} \\right)} + h^{2} \\log{\\left(r_{i-1} \\right)}} + \\frac{k \\log{\\left(r_{i-1} \\right)}}{- h^{2} \\log{\\left(r_{p} \\right)} + h^{2} \\log{\\left(r_{i-1} \\right)}}\\right) + T_{i-1} \\left(\\frac{dk \\log{\\left(r_{i+1} \\right)}}{- 2 h \\log{\\left(r_{p} \\right)} + 2 h \\log{\\left(r_{i-1} \\right)}} - \\frac{dk \\log{\\left(r_{i-1} \\right)}}{- 2 h \\log{\\left(r_{p} \\right)} + 2 h \\log{\\left(r_{i-1} \\right)}} + \\frac{k \\log{\\left(r_{i+1} \\right)}}{- 2 h r_{i} \\log{\\left(r_{p} \\right)} + 2 h r_{i} \\log{\\left(r_{i-1} \\right)}} - \\frac{k \\log{\\left(r_{i-1} \\right)}}{- 2 h r_{i} \\log{\\left(r_{p} \\right)} + 2 h r_{i} \\log{\\left(r_{i-1} \\right)}} + \\frac{k \\log{\\left(r_{i+1} \\right)}}{- h^{2} \\log{\\left(r_{p} \\right)} + h^{2} \\log{\\left(r_{i-1} \\right)}} - \\frac{k \\log{\\left(r_{i-1} \\right)}}{- h^{2} \\log{\\left(r_{p} \\right)} + h^{2} \\log{\\left(r_{i-1} \\right)}} + \\frac{2 k}{h^{2}}\\right)$"
      ],
      "text/plain": [
       "-2*T_i*k/h**2 + T_p*(-dk*log(r_{i+1})/(-2*h*log(r_p) + 2*h*log(r_{i-1})) + dk*log(r_{i-1})/(-2*h*log(r_p) + 2*h*log(r_{i-1})) - k*log(r_{i+1})/(-2*h*r_i*log(r_p) + 2*h*r_i*log(r_{i-1})) + k*log(r_{i-1})/(-2*h*r_i*log(r_p) + 2*h*r_i*log(r_{i-1})) - k*log(r_{i+1})/(-h**2*log(r_p) + h**2*log(r_{i-1})) + k*log(r_{i-1})/(-h**2*log(r_p) + h**2*log(r_{i-1}))) + T_{i-1}*(dk*log(r_{i+1})/(-2*h*log(r_p) + 2*h*log(r_{i-1})) - dk*log(r_{i-1})/(-2*h*log(r_p) + 2*h*log(r_{i-1})) + k*log(r_{i+1})/(-2*h*r_i*log(r_p) + 2*h*r_i*log(r_{i-1})) - k*log(r_{i-1})/(-2*h*r_i*log(r_p) + 2*h*r_i*log(r_{i-1})) + k*log(r_{i+1})/(-h**2*log(r_p) + h**2*log(r_{i-1})) - k*log(r_{i-1})/(-h**2*log(r_p) + h**2*log(r_{i-1})) + 2*k/h**2)"
      ]
     },
     "metadata": {},
     "output_type": "display_data"
    },
    {
     "data": {
      "text/latex": [
       "$\\displaystyle - \\frac{2 T_{i} k}{h^{2}}$"
      ],
      "text/plain": [
       "-2*T_i*k/h**2"
      ]
     },
     "metadata": {},
     "output_type": "display_data"
    },
    {
     "data": {
      "text/latex": [
       "$\\displaystyle \\frac{T_{i-1} \\left(dk h \\log{\\left(r_{i+1}^{- r_{i}} r_{i-1}^{r_{i}} \\right)} + h k \\log{\\left(\\frac{r_{p}}{r_{i+1}} \\right)} + k \\log{\\left(r_{p}^{2 r_{i}} r_{i+1}^{- 2 r_{i}} \\right)}\\right)}{2 h^{2} r_{i} \\log{\\left(\\frac{r_{p}}{r_{i-1}} \\right)}}$"
      ],
      "text/plain": [
       "T_{i-1}*(dk*h*log(r_{i-1}**r_i/r_{i+1}**r_i) + h*k*log(r_p/r_{i+1}) + k*log(r_p**(2*r_i)/r_{i+1}**(2*r_i)))/(2*h**2*r_i*log(r_p/r_{i-1}))"
      ]
     },
     "metadata": {},
     "output_type": "display_data"
    },
    {
     "data": {
      "text/latex": [
       "$\\displaystyle \\frac{T_{p} \\left(dk h r_{i} + h k + 2 k r_{i}\\right) \\log{\\left(\\left(\\frac{r_{i+1}}{r_{i-1}}\\right)^{\\frac{1}{2 r_{i}}} \\right)}}{h^{2} \\log{\\left(\\frac{r_{p}}{r_{i-1}} \\right)}}$"
      ],
      "text/plain": [
       "T_p*(dk*h*r_i + h*k + 2*k*r_i)*log((r_{i+1}/r_{i-1})**(1/(2*r_i)))/(h**2*log(r_p/r_{i-1}))"
      ]
     },
     "metadata": {},
     "output_type": "display_data"
    }
   ],
   "source": [
    "# t1 = Tp  *(r-rim) / (rp-rim  )\n",
    "# t2 = Tim  *(r-rp) / (rim-rp )\n",
    "\n",
    "\n",
    "# y = t1 + t2 \n",
    "# Tg = y.subs(r, rip)\n",
    "c1 = (Tim - Tp)/(ln(rim)-ln(rp))\n",
    "c2 = Tim - c1*ln(rim)\n",
    "y = c1*ln(r) + c2\n",
    "Tg1 = y.subs(r, rip)\n",
    "Tg2 = Tim + ln(rip/rim)*(Tim-Tp)/ln(rim/rp)\n",
    "display((sym.expand_log(Tg1) - sym.expand_log(Tg2)).simplify())\n",
    "\n",
    "Tg = Tg2\n",
    "\n",
    "display(Tg)\n",
    "\n",
    "\n",
    "# Tg = Tg.subs(rim, -h)\n",
    "# Tg = Tg.subs(rip, h)\n",
    "# Tg = Tg.subs(ri, 0)\n",
    "# Tg = Tg.subs(rp, th*h)\n",
    "\n",
    "fdiff = k/ri*(Tg-Tim)/2/h + k*(Tg - 2*Ti + Tim)/h/h\n",
    "fdiff += dk*(Tg - Tim)/2/h\n",
    "fdiff = fdiff.expand().collect(Ti).collect(Tp).collect(Tim)\n",
    "# fdiff.coeff(Ti).simplify()\n",
    "display(fdiff)\n",
    "display(Ti* fdiff.coeff(Ti).simplify())\n",
    "display(Tim* (fdiff.coeff(Tim) + k/h/ri/2 - k/h/h ).simplify())\n",
    "display(Tp* fdiff.coeff(Tp).simplify())"
   ]
  },
  {
   "cell_type": "markdown",
   "metadata": {},
   "source": [
    "### Logarithmic extrapolation, cylindrical finite difference\n",
    "#### West ghost cell"
   ]
  },
  {
   "cell_type": "code",
   "execution_count": 12,
   "metadata": {},
   "outputs": [
    {
     "data": {
      "text/latex": [
       "$\\displaystyle 0$"
      ],
      "text/plain": [
       "0"
      ]
     },
     "metadata": {},
     "output_type": "display_data"
    },
    {
     "data": {
      "text/latex": [
       "$\\displaystyle T_{i} \\left(\\frac{dk \\log{\\left(r_{i} \\right)}}{2 h \\log{\\left(r_{i} \\right)} - 2 h \\log{\\left(r_{p} \\right)}} - \\frac{dk \\log{\\left(r_{i-1} \\right)}}{2 h \\log{\\left(r_{i} \\right)} - 2 h \\log{\\left(r_{p} \\right)}} - \\frac{dk}{2 h} + \\frac{k \\log{\\left(r_{i} \\right)}}{2 h r_{i} \\log{\\left(r_{i} \\right)} - 2 h r_{i} \\log{\\left(r_{p} \\right)}} - \\frac{k \\log{\\left(r_{i-1} \\right)}}{2 h r_{i} \\log{\\left(r_{i} \\right)} - 2 h r_{i} \\log{\\left(r_{p} \\right)}} - \\frac{k \\log{\\left(r_{i} \\right)}}{h^{2} \\log{\\left(r_{i} \\right)} - h^{2} \\log{\\left(r_{p} \\right)}} + \\frac{k \\log{\\left(r_{i-1} \\right)}}{h^{2} \\log{\\left(r_{i} \\right)} - h^{2} \\log{\\left(r_{p} \\right)}} - \\frac{k}{2 h r_{i}} - \\frac{k}{h^{2}}\\right) + T_{p} \\left(- \\frac{dk \\log{\\left(r_{i} \\right)}}{2 h \\log{\\left(r_{i} \\right)} - 2 h \\log{\\left(r_{p} \\right)}} + \\frac{dk \\log{\\left(r_{i-1} \\right)}}{2 h \\log{\\left(r_{i} \\right)} - 2 h \\log{\\left(r_{p} \\right)}} - \\frac{k \\log{\\left(r_{i} \\right)}}{2 h r_{i} \\log{\\left(r_{i} \\right)} - 2 h r_{i} \\log{\\left(r_{p} \\right)}} + \\frac{k \\log{\\left(r_{i-1} \\right)}}{2 h r_{i} \\log{\\left(r_{i} \\right)} - 2 h r_{i} \\log{\\left(r_{p} \\right)}} + \\frac{k \\log{\\left(r_{i} \\right)}}{h^{2} \\log{\\left(r_{i} \\right)} - h^{2} \\log{\\left(r_{p} \\right)}} - \\frac{k \\log{\\left(r_{i-1} \\right)}}{h^{2} \\log{\\left(r_{i} \\right)} - h^{2} \\log{\\left(r_{p} \\right)}}\\right) + T_{i+1} \\left(\\frac{dk}{2 h} + \\frac{k}{2 h r_{i}} + \\frac{k}{h^{2}}\\right)$"
      ],
      "text/plain": [
       "T_i*(dk*log(r_i)/(2*h*log(r_i) - 2*h*log(r_p)) - dk*log(r_{i-1})/(2*h*log(r_i) - 2*h*log(r_p)) - dk/(2*h) + k*log(r_i)/(2*h*r_i*log(r_i) - 2*h*r_i*log(r_p)) - k*log(r_{i-1})/(2*h*r_i*log(r_i) - 2*h*r_i*log(r_p)) - k*log(r_i)/(h**2*log(r_i) - h**2*log(r_p)) + k*log(r_{i-1})/(h**2*log(r_i) - h**2*log(r_p)) - k/(2*h*r_i) - k/h**2) + T_p*(-dk*log(r_i)/(2*h*log(r_i) - 2*h*log(r_p)) + dk*log(r_{i-1})/(2*h*log(r_i) - 2*h*log(r_p)) - k*log(r_i)/(2*h*r_i*log(r_i) - 2*h*r_i*log(r_p)) + k*log(r_{i-1})/(2*h*r_i*log(r_i) - 2*h*r_i*log(r_p)) + k*log(r_i)/(h**2*log(r_i) - h**2*log(r_p)) - k*log(r_{i-1})/(h**2*log(r_i) - h**2*log(r_p))) + T_{i+1}*(dk/(2*h) + k/(2*h*r_i) + k/h**2)"
      ]
     },
     "metadata": {},
     "output_type": "display_data"
    },
    {
     "data": {
      "text/latex": [
       "$\\displaystyle \\frac{T_{i} \\left(dk h \\log{\\left(r_{p}^{r_{i}} r_{i-1}^{- r_{i}} \\right)} + h k \\log{\\left(\\frac{r_{p}}{r_{i-1}} \\right)} + k \\log{\\left(r_{i}^{- 4 r_{i}} r_{p}^{2 r_{i}} r_{i-1}^{2 r_{i}} \\right)}\\right)}{2 h^{2} r_{i} \\log{\\left(\\frac{r_{i}}{r_{p}} \\right)}}$"
      ],
      "text/plain": [
       "T_i*(dk*h*log(r_p**r_i/r_{i-1}**r_i) + h*k*log(r_p/r_{i-1}) + k*log(r_p**(2*r_i)*r_{i-1}**(2*r_i)/r_i**(4*r_i)))/(2*h**2*r_i*log(r_i/r_p))"
      ]
     },
     "metadata": {},
     "output_type": "display_data"
    },
    {
     "data": {
      "text/latex": [
       "$\\displaystyle T_{i+1} \\left(\\frac{dk}{2 h} + \\frac{k}{2 h r_{i}} + \\frac{k}{h^{2}}\\right)$"
      ],
      "text/plain": [
       "T_{i+1}*(dk/(2*h) + k/(2*h*r_i) + k/h**2)"
      ]
     },
     "metadata": {},
     "output_type": "display_data"
    },
    {
     "data": {
      "text/latex": [
       "$\\displaystyle \\frac{T_{p} \\left(dk h \\log{\\left(\\left(\\frac{r_{i-1}}{r_{i}}\\right)^{r_{i}} \\right)} + h k \\log{\\left(\\frac{r_{i-1}}{r_{i}} \\right)} + k \\log{\\left(\\left(\\frac{r_{i}}{r_{i-1}}\\right)^{2 r_{i}} \\right)}\\right)}{2 h^{2} r_{i} \\log{\\left(\\frac{r_{i}}{r_{p}} \\right)}}$"
      ],
      "text/plain": [
       "T_p*(dk*h*log((r_{i-1}/r_i)**r_i) + h*k*log(r_{i-1}/r_i) + k*log((r_i/r_{i-1})**(2*r_i)))/(2*h**2*r_i*log(r_i/r_p))"
      ]
     },
     "metadata": {},
     "output_type": "display_data"
    }
   ],
   "source": [
    "c1 = (Ti - Tp)/(ln(ri)-ln(rp))\n",
    "c2 = Ti - c1*ln(ri)\n",
    "y = c1*ln(r) + c2\n",
    "Tg1 = y.subs(r, rim)\n",
    "Tg2 = Ti + ln(rim/ri)*(Ti-Tp)/ln(ri/rp)\n",
    "display((sym.expand_log(Tg1) - sym.expand_log(Tg2)).simplify())\n",
    "\n",
    "Tg = Tg2\n",
    "# Tg\n",
    "\n",
    "fdiff = k/ri*(Tip-Tg)/2/h + k*(Tg - 2*Ti + Tip)/h/h\n",
    "fdiff += dk*(Tip-Tg)/2/h\n",
    "fdiff = fdiff.expand().collect(Ti).collect(Tp).collect(Tip)\n",
    "# fdiff.coeff(Ti).simplify()\n",
    "display(fdiff)\n",
    "display(Ti* (fdiff.coeff(Ti).simplify()))\n",
    "display(Tip* fdiff.coeff(Tip).simplify())\n",
    "display(Tp* fdiff.coeff(Tp).simplify())"
   ]
  },
  {
   "cell_type": "markdown",
   "metadata": {},
   "source": [
    "#### $\\theta < \\Delta r$"
   ]
  },
  {
   "cell_type": "code",
   "execution_count": 13,
   "metadata": {},
   "outputs": [
    {
     "data": {
      "text/latex": [
       "$\\displaystyle 0$"
      ],
      "text/plain": [
       "0"
      ]
     },
     "metadata": {},
     "output_type": "display_data"
    },
    {
     "data": {
      "text/latex": [
       "$\\displaystyle - \\frac{2 T_{i} k}{h^{2}} + T_{p} \\left(- \\frac{dk \\log{\\left(r_{i+1} \\right)}}{- 2 h \\log{\\left(r_{p} \\right)} + 2 h \\log{\\left(r_{i+1} \\right)}} + \\frac{dk \\log{\\left(r_{i-1} \\right)}}{- 2 h \\log{\\left(r_{p} \\right)} + 2 h \\log{\\left(r_{i+1} \\right)}} - \\frac{k \\log{\\left(r_{i+1} \\right)}}{- 2 h r_{i} \\log{\\left(r_{p} \\right)} + 2 h r_{i} \\log{\\left(r_{i+1} \\right)}} + \\frac{k \\log{\\left(r_{i-1} \\right)}}{- 2 h r_{i} \\log{\\left(r_{p} \\right)} + 2 h r_{i} \\log{\\left(r_{i+1} \\right)}} + \\frac{k \\log{\\left(r_{i+1} \\right)}}{- h^{2} \\log{\\left(r_{p} \\right)} + h^{2} \\log{\\left(r_{i+1} \\right)}} - \\frac{k \\log{\\left(r_{i-1} \\right)}}{- h^{2} \\log{\\left(r_{p} \\right)} + h^{2} \\log{\\left(r_{i+1} \\right)}}\\right) + T_{i+1} \\left(\\frac{dk \\log{\\left(r_{i+1} \\right)}}{- 2 h \\log{\\left(r_{p} \\right)} + 2 h \\log{\\left(r_{i+1} \\right)}} - \\frac{dk \\log{\\left(r_{i-1} \\right)}}{- 2 h \\log{\\left(r_{p} \\right)} + 2 h \\log{\\left(r_{i+1} \\right)}} + \\frac{k \\log{\\left(r_{i+1} \\right)}}{- 2 h r_{i} \\log{\\left(r_{p} \\right)} + 2 h r_{i} \\log{\\left(r_{i+1} \\right)}} - \\frac{k \\log{\\left(r_{i-1} \\right)}}{- 2 h r_{i} \\log{\\left(r_{p} \\right)} + 2 h r_{i} \\log{\\left(r_{i+1} \\right)}} - \\frac{k \\log{\\left(r_{i+1} \\right)}}{- h^{2} \\log{\\left(r_{p} \\right)} + h^{2} \\log{\\left(r_{i+1} \\right)}} + \\frac{k \\log{\\left(r_{i-1} \\right)}}{- h^{2} \\log{\\left(r_{p} \\right)} + h^{2} \\log{\\left(r_{i+1} \\right)}} + \\frac{2 k}{h^{2}}\\right)$"
      ],
      "text/plain": [
       "-2*T_i*k/h**2 + T_p*(-dk*log(r_{i+1})/(-2*h*log(r_p) + 2*h*log(r_{i+1})) + dk*log(r_{i-1})/(-2*h*log(r_p) + 2*h*log(r_{i+1})) - k*log(r_{i+1})/(-2*h*r_i*log(r_p) + 2*h*r_i*log(r_{i+1})) + k*log(r_{i-1})/(-2*h*r_i*log(r_p) + 2*h*r_i*log(r_{i+1})) + k*log(r_{i+1})/(-h**2*log(r_p) + h**2*log(r_{i+1})) - k*log(r_{i-1})/(-h**2*log(r_p) + h**2*log(r_{i+1}))) + T_{i+1}*(dk*log(r_{i+1})/(-2*h*log(r_p) + 2*h*log(r_{i+1})) - dk*log(r_{i-1})/(-2*h*log(r_p) + 2*h*log(r_{i+1})) + k*log(r_{i+1})/(-2*h*r_i*log(r_p) + 2*h*r_i*log(r_{i+1})) - k*log(r_{i-1})/(-2*h*r_i*log(r_p) + 2*h*r_i*log(r_{i+1})) - k*log(r_{i+1})/(-h**2*log(r_p) + h**2*log(r_{i+1})) + k*log(r_{i-1})/(-h**2*log(r_p) + h**2*log(r_{i+1})) + 2*k/h**2)"
      ]
     },
     "metadata": {},
     "output_type": "display_data"
    },
    {
     "data": {
      "text/latex": [
       "$\\displaystyle - \\frac{2 T_{i} k}{h^{2}}$"
      ],
      "text/plain": [
       "-2*T_i*k/h**2"
      ]
     },
     "metadata": {},
     "output_type": "display_data"
    },
    {
     "data": {
      "text/latex": [
       "$\\displaystyle \\frac{T_{i+1} \\left(dk h \\log{\\left(\\left(\\frac{r_{i-1}}{r_{i+1}}\\right)^{r_{i}} \\right)} + h k \\log{\\left(\\frac{r_{i-1}}{r_{i+1}} \\right)} + k \\log{\\left(\\left(\\frac{r_{p}}{r_{i+1}}\\right)^{4 r_{i}} \\left(\\frac{r_{i+1}}{r_{i-1}}\\right)^{2 r_{i}} \\right)}\\right)}{2 h^{2} r_{i} \\log{\\left(\\frac{r_{p}}{r_{i+1}} \\right)}}$"
      ],
      "text/plain": [
       "T_{i+1}*(dk*h*log((r_{i-1}/r_{i+1})**r_i) + h*k*log(r_{i-1}/r_{i+1}) + k*log((r_p/r_{i+1})**(4*r_i)*(r_{i+1}/r_{i-1})**(2*r_i)))/(2*h**2*r_i*log(r_p/r_{i+1}))"
      ]
     },
     "metadata": {},
     "output_type": "display_data"
    },
    {
     "data": {
      "text/latex": [
       "$\\displaystyle \\frac{T_{p} \\left(dk h \\log{\\left(\\left(\\frac{r_{i+1}}{r_{i-1}}\\right)^{r_{i}} \\right)} + h k \\log{\\left(\\frac{r_{i+1}}{r_{i-1}} \\right)} + k \\log{\\left(\\left(\\frac{r_{i-1}}{r_{i+1}}\\right)^{2 r_{i}} \\right)}\\right)}{2 h^{2} r_{i} \\log{\\left(\\frac{r_{p}}{r_{i+1}} \\right)}}$"
      ],
      "text/plain": [
       "T_p*(dk*h*log((r_{i+1}/r_{i-1})**r_i) + h*k*log(r_{i+1}/r_{i-1}) + k*log((r_{i-1}/r_{i+1})**(2*r_i)))/(2*h**2*r_i*log(r_p/r_{i+1}))"
      ]
     },
     "metadata": {},
     "output_type": "display_data"
    }
   ],
   "source": [
    "c1 = (Tip - Tp)/(ln(rip)-ln(rp))\n",
    "c2 = Tip - c1*ln(rip)\n",
    "y = c1*ln(r) + c2\n",
    "Tg1 = y.subs(r, rim)\n",
    "Tg2 = Tip + ln(rim/rip)*(Tip-Tp)/ln(rip/rp)\n",
    "display((sym.expand_log(Tg1) - sym.expand_log(Tg2)).simplify())\n",
    "\n",
    "Tg = Tg2\n",
    "\n",
    "fdiff = k/ri*(Tip-Tg)/2/h + k*(Tg - 2*Ti + Tip)/h/h\n",
    "fdiff += dk*(Tip-Tg)/2/h\n",
    "fdiff = fdiff.expand().collect(Ti).collect(Tp).collect(Tip)\n",
    "# fdiff.coeff(Ti).simplify()\n",
    "display(fdiff)\n",
    "display(Ti* fdiff.coeff(Ti).simplify())\n",
    "display(Tip* (fdiff.coeff(Tip)).simplify())\n",
    "display(Tp* fdiff.coeff(Tp).simplify())"
   ]
  },
  {
   "attachments": {},
   "cell_type": "markdown",
   "metadata": {},
   "source": [
    "## Quadratic extrapolation, 1st derivative"
   ]
  },
  {
   "attachments": {},
   "cell_type": "markdown",
   "metadata": {},
   "source": [
    "### North, Cartesian"
   ]
  },
  {
   "cell_type": "code",
   "execution_count": 25,
   "metadata": {},
   "outputs": [
    {
     "data": {
      "text/latex": [
       "$\\displaystyle T_{i} \\left(\\frac{1}{h} - \\frac{1}{h \\theta}\\right) + \\frac{T_{p}}{h \\theta^{2} + h \\theta} + T_{i-1} \\left(\\frac{\\theta}{- 2 h \\theta - 2 h} - \\frac{1}{- 2 h \\theta - 2 h} - \\frac{1}{2 h}\\right)$"
      ],
      "text/plain": [
       "T_i*(1/h - 1/(h*theta)) + T_p/(h*theta**2 + h*theta) + T_{i-1}*(theta/(-2*h*theta - 2*h) - 1/(-2*h*theta - 2*h) - 1/(2*h))"
      ]
     },
     "metadata": {},
     "output_type": "display_data"
    },
    {
     "data": {
      "text/latex": [
       "$\\displaystyle \\frac{T_{i} \\left(\\theta - 1\\right)}{h \\theta}$"
      ],
      "text/plain": [
       "T_i*(theta - 1)/(h*theta)"
      ]
     },
     "metadata": {},
     "output_type": "display_data"
    },
    {
     "data": {
      "text/latex": [
       "$\\displaystyle 0$"
      ],
      "text/plain": [
       "0"
      ]
     },
     "metadata": {},
     "output_type": "display_data"
    },
    {
     "data": {
      "text/latex": [
       "$\\displaystyle - \\frac{T_{i-1} \\theta}{h \\left(\\theta + 1\\right)}$"
      ],
      "text/plain": [
       "-T_{i-1}*theta/(h*(theta + 1))"
      ]
     },
     "metadata": {},
     "output_type": "display_data"
    },
    {
     "data": {
      "text/latex": [
       "$\\displaystyle \\frac{T_{p}}{h \\theta \\left(\\theta + 1\\right)}$"
      ],
      "text/plain": [
       "T_p/(h*theta*(theta + 1))"
      ]
     },
     "metadata": {},
     "output_type": "display_data"
    }
   ],
   "source": [
    "t1 = Tp  *(x-xi)*(x-xim) / (xp -xi)/(xp -xim)\n",
    "t2 = Ti  *(x-xp)*(x-xim) / (xi -xp)/(xi -xim)\n",
    "t3 = Tim *(x-xp)*(x-xi ) / (xim-xp)/(xim-xi )\n",
    "\n",
    "y = t1 + t2 + t3\n",
    "Tg = y.subs(x, xip)\n",
    "# Lock xi to 0, relate other coords to there\n",
    "Tg = Tg.subs(xi, 0)\n",
    "Tg = Tg.subs(xip, h)\n",
    "Tg = Tg.subs(xp, th*h)\n",
    "Tg = Tg.subs(xim, -h)\n",
    "\n",
    "fdiff = (Tg - Tim)/2/h\n",
    "fdiff = fdiff.expand().collect(Ti).collect(Tim).collect(Tp)\n",
    "\n",
    "display(fdiff)\n",
    "display(Ti* fdiff.coeff(Ti).simplify())\n",
    "display(Tip* (fdiff.coeff(Tip)).simplify())\n",
    "display(Tim* (fdiff.coeff(Tim)).simplify())\n",
    "display(Tp* fdiff.coeff(Tp).simplify())\n",
    "# fdiff = k/ri*(Tip-Tg)/2/h + k*(Tg - 2*Ti + Tip)/h/h\n",
    "# fdiff = fdiff.expand().collect(Ti).collect(Tp).collect(Tip)\n",
    "# # fdiff.coeff(Ti).simplify()\n",
    "# display(fdiff)\n",
    "# display(Ti* fdiff.coeff(Ti).simplify())\n",
    "# display(Tip* (fdiff.coeff(Tip) - k/h/ri/2 - k/h/h ).simplify())\n",
    "# display(Tp* fdiff.coeff(Tp).simplify())"
   ]
  },
  {
   "attachments": {},
   "cell_type": "markdown",
   "metadata": {},
   "source": [
    "$\\theta < dx$ : default to linear, not quadratic"
   ]
  },
  {
   "cell_type": "code",
   "execution_count": 24,
   "metadata": {},
   "outputs": [
    {
     "data": {
      "text/latex": [
       "$\\displaystyle \\frac{T_{p}}{h \\theta + h} + T_{i-1} \\left(- \\frac{\\theta}{- 2 h \\theta - 2 h} + \\frac{1}{- 2 h \\theta - 2 h} - \\frac{1}{2 h}\\right)$"
      ],
      "text/plain": [
       "T_p/(h*theta + h) + T_{i-1}*(-theta/(-2*h*theta - 2*h) + 1/(-2*h*theta - 2*h) - 1/(2*h))"
      ]
     },
     "metadata": {},
     "output_type": "display_data"
    },
    {
     "data": {
      "text/latex": [
       "$\\displaystyle 0$"
      ],
      "text/plain": [
       "0"
      ]
     },
     "metadata": {},
     "output_type": "display_data"
    },
    {
     "data": {
      "text/latex": [
       "$\\displaystyle 0$"
      ],
      "text/plain": [
       "0"
      ]
     },
     "metadata": {},
     "output_type": "display_data"
    },
    {
     "data": {
      "text/latex": [
       "$\\displaystyle - \\frac{T_{i-1}}{h \\left(\\theta + 1\\right)}$"
      ],
      "text/plain": [
       "-T_{i-1}/(h*(theta + 1))"
      ]
     },
     "metadata": {},
     "output_type": "display_data"
    },
    {
     "data": {
      "text/latex": [
       "$\\displaystyle \\frac{T_{p}}{h \\left(\\theta + 1\\right)}$"
      ],
      "text/plain": [
       "T_p/(h*(theta + 1))"
      ]
     },
     "metadata": {},
     "output_type": "display_data"
    }
   ],
   "source": [
    "# t1 = Tp  *(x-xi)*(x-xim) / (xp -xi)/(xp -xim)\n",
    "# t2 = Ti  *(x-xp)*(x-xim) / (xi -xp)/(xi -xim)\n",
    "# t3 = Tim *(x-xp)*(x-xi ) / (xim-xp)/(xim-xi )\n",
    "t1 = Tp *(x-xim) / (xp-xim)\n",
    "t2 = Tim*(x-xp) / (xim-xp)\n",
    "\n",
    "y = t1 + t2\n",
    "Tg = y.subs(x, xip)\n",
    "# Lock xi to 0, relate other coords to there\n",
    "Tg = Tg.subs(xi, 0)\n",
    "Tg = Tg.subs(xip, h)\n",
    "Tg = Tg.subs(xp, th*h)\n",
    "Tg = Tg.subs(xim, -h)\n",
    "\n",
    "fdiff = (Tg - Tim)/2/h\n",
    "fdiff = fdiff.expand().collect(Ti).collect(Tim).collect(Tp)\n",
    "\n",
    "display(fdiff)\n",
    "display(Ti* fdiff.coeff(Ti).simplify())\n",
    "display(Tip* (fdiff.coeff(Tip)).simplify())\n",
    "display(Tim* (fdiff.coeff(Tim)).simplify())\n",
    "display(Tp* fdiff.coeff(Tp).simplify())\n",
    "# fdiff = k/ri*(Tip-Tg)/2/h + k*(Tg - 2*Ti + Tip)/h/h\n",
    "# fdiff = fdiff.expand().collect(Ti).collect(Tp).collect(Tip)\n",
    "# # fdiff.coeff(Ti).simplify()\n",
    "# display(fdiff)\n",
    "# display(Ti* fdiff.coeff(Ti).simplify())\n",
    "# display(Tip* (fdiff.coeff(Tip) - k/h/ri/2 - k/h/h ).simplify())\n",
    "# display(Tp* fdiff.coeff(Tp).simplify())"
   ]
  },
  {
   "cell_type": "code",
   "execution_count": null,
   "metadata": {},
   "outputs": [],
   "source": []
  },
  {
   "attachments": {},
   "cell_type": "markdown",
   "metadata": {},
   "source": [
    "### West, Cartesian"
   ]
  },
  {
   "cell_type": "code",
   "execution_count": 9,
   "metadata": {},
   "outputs": [
    {
     "data": {
      "text/latex": [
       "$\\displaystyle T_{i} \\left(- \\frac{1}{h} + \\frac{1}{h \\theta}\\right) + \\frac{T_{p}}{- h \\theta^{2} - h \\theta} + \\frac{T_{i+1} \\theta}{2 h \\theta + 2 h} - \\frac{T_{i+1}}{2 h \\theta + 2 h} + \\frac{T_{i+1}}{2 h}$"
      ],
      "text/plain": [
       "T_i*(-1/h + 1/(h*theta)) + T_p/(-h*theta**2 - h*theta) + T_{i+1}*theta/(2*h*theta + 2*h) - T_{i+1}/(2*h*theta + 2*h) + T_{i+1}/(2*h)"
      ]
     },
     "metadata": {},
     "output_type": "display_data"
    },
    {
     "data": {
      "text/latex": [
       "$\\displaystyle \\frac{T_{i} \\left(1 - \\theta\\right)}{h \\theta}$"
      ],
      "text/plain": [
       "T_i*(1 - theta)/(h*theta)"
      ]
     },
     "metadata": {},
     "output_type": "display_data"
    },
    {
     "data": {
      "text/latex": [
       "$\\displaystyle \\frac{T_{i+1} \\theta}{h \\left(\\theta + 1\\right)}$"
      ],
      "text/plain": [
       "T_{i+1}*theta/(h*(theta + 1))"
      ]
     },
     "metadata": {},
     "output_type": "display_data"
    },
    {
     "data": {
      "text/latex": [
       "$\\displaystyle 0$"
      ],
      "text/plain": [
       "0"
      ]
     },
     "metadata": {},
     "output_type": "display_data"
    },
    {
     "data": {
      "text/latex": [
       "$\\displaystyle - \\frac{T_{p}}{h \\theta \\left(\\theta + 1\\right)}$"
      ],
      "text/plain": [
       "-T_p/(h*theta*(theta + 1))"
      ]
     },
     "metadata": {},
     "output_type": "display_data"
    }
   ],
   "source": [
    "t1 = Tp  *(x-xi)*(x-xip) / (xp -xi)/(xp -xip)\n",
    "t2 = Ti  *(x-xp)*(x-xip) / (xi -xp)/(xi -xip)\n",
    "t3 = Tip *(x-xp)*(x-xi ) / (xip-xp)/(xip-xi )\n",
    "\n",
    "y = t1 + t2 + t3\n",
    "Tg = y.subs(x, xim)\n",
    "# Lock xi to 0, relate other coords to there\n",
    "\n",
    "Tg = Tg.subs(xi, 0)\n",
    "Tg = Tg.subs(xip, h)\n",
    "Tg = Tg.subs(xp, -th*h)\n",
    "Tg = Tg.subs(xim, -h)\n",
    "Tg = Tg.expand().collect(Ti).collect(Tim).collect(Tp).collect(Tip)\n",
    "\n",
    "fdiff = (Tip - Tg)/2/h\n",
    "fdiff = fdiff.expand().collect(Ti).collect(Tim).collect(Tp)\n",
    "\n",
    "display(fdiff)\n",
    "display(Ti* fdiff.coeff(Ti).simplify())\n",
    "display(Tip* (fdiff.coeff(Tip)).simplify())\n",
    "display(Tim* (fdiff.coeff(Tim)).simplify())\n",
    "display(Tp* fdiff.coeff(Tp).simplify())\n",
    "# fdiff = k/ri*(Tip-Tg)/2/h + k*(Tg - 2*Ti + Tip)/h/h\n",
    "# fdiff = fdiff.expand().collect(Ti).collect(Tp).collect(Tip)\n",
    "# # fdiff.coeff(Ti).simplify()\n",
    "# display(fdiff)\n",
    "# display(Ti* fdiff.coeff(Ti).simplify())\n",
    "# display(Tip* (fdiff.coeff(Tip) - k/h/ri/2 - k/h/h ).simplify())\n",
    "# display(Tp* fdiff.coeff(Tp).simplify())"
   ]
  },
  {
   "attachments": {},
   "cell_type": "markdown",
   "metadata": {},
   "source": [
    "$\\theta < dx$ : default to linear, not quadratic"
   ]
  },
  {
   "cell_type": "code",
   "execution_count": 23,
   "metadata": {},
   "outputs": [
    {
     "data": {
      "text/latex": [
       "$\\displaystyle \\frac{T_{p}}{h \\theta - h} + \\frac{T_{i+1} \\theta}{- 2 h \\theta + 2 h} + \\frac{T_{i+1}}{- 2 h \\theta + 2 h} + \\frac{T_{i+1}}{2 h}$"
      ],
      "text/plain": [
       "T_p/(h*theta - h) + T_{i+1}*theta/(-2*h*theta + 2*h) + T_{i+1}/(-2*h*theta + 2*h) + T_{i+1}/(2*h)"
      ]
     },
     "metadata": {},
     "output_type": "display_data"
    },
    {
     "data": {
      "text/latex": [
       "$\\displaystyle 0$"
      ],
      "text/plain": [
       "0"
      ]
     },
     "metadata": {},
     "output_type": "display_data"
    },
    {
     "data": {
      "text/latex": [
       "$\\displaystyle - \\frac{T_{i+1}}{h \\left(\\theta - 1\\right)}$"
      ],
      "text/plain": [
       "-T_{i+1}/(h*(theta - 1))"
      ]
     },
     "metadata": {},
     "output_type": "display_data"
    },
    {
     "data": {
      "text/latex": [
       "$\\displaystyle 0$"
      ],
      "text/plain": [
       "0"
      ]
     },
     "metadata": {},
     "output_type": "display_data"
    },
    {
     "data": {
      "text/latex": [
       "$\\displaystyle \\frac{T_{p}}{h \\left(\\theta - 1\\right)}$"
      ],
      "text/plain": [
       "T_p/(h*(theta - 1))"
      ]
     },
     "metadata": {},
     "output_type": "display_data"
    }
   ],
   "source": [
    "# t1 = Tp  *(x-xi)*(x-xim) / (xp -xi)/(xp -xim)\n",
    "# t2 = Ti  *(x-xp)*(x-xim) / (xi -xp)/(xi -xim)\n",
    "# t3 = Tim *(x-xp)*(x-xi ) / (xim-xp)/(xim-xi )\n",
    "t1 = Tp *(x-xip) / (xp-xip)\n",
    "t2 = Tip*(x-xp) / (xip-xp)\n",
    "\n",
    "y = t1 + t2\n",
    "Tg = y.subs(x, xim)\n",
    "# Lock xi to 0, relate other coords to there\n",
    "Tg = Tg.subs(xi, 0)\n",
    "Tg = Tg.subs(xip, h)\n",
    "Tg = Tg.subs(xp, th*h)\n",
    "Tg = Tg.subs(xim, -h)\n",
    "\n",
    "fdiff = (Tip - Tg)/2/h\n",
    "fdiff = fdiff.expand().collect(Ti).collect(Tim).collect(Tp)\n",
    "\n",
    "display(fdiff)\n",
    "display(Ti* fdiff.coeff(Ti).simplify())\n",
    "display(Tip* (fdiff.coeff(Tip)).simplify())\n",
    "display(Tim* (fdiff.coeff(Tim)).simplify())\n",
    "display(Tp* fdiff.coeff(Tp).simplify())\n",
    "# fdiff = k/ri*(Tip-Tg)/2/h + k*(Tg - 2*Ti + Tip)/h/h\n",
    "# fdiff = fdiff.expand().collect(Ti).collect(Tp).collect(Tip)\n",
    "# # fdiff.coeff(Ti).simplify()\n",
    "# display(fdiff)\n",
    "# display(Ti* fdiff.coeff(Ti).simplify())\n",
    "# display(Tip* (fdiff.coeff(Tip) - k/h/ri/2 - k/h/h ).simplify())\n",
    "# display(Tp* fdiff.coeff(Tp).simplify())"
   ]
  },
  {
   "attachments": {},
   "cell_type": "markdown",
   "metadata": {},
   "source": [
    "### Cubic extrapolation in one dimension, one point\n"
   ]
  },
  {
   "cell_type": "code",
   "execution_count": 73,
   "metadata": {},
   "outputs": [],
   "source": [
    "xp, xi, xim, xim2 = sym.symbols(\"x_p x_i x_{i-1} x_{i-2}\")\n",
    "Tp, Ti, Tim, Tim2 = sym.symbols(\"T_p T_i T_{i-1} T_{i-2}\")\n",
    "x, T = sym.symbols(\"x T\")\n",
    "th, h = sym.symbols(\"theta h\")\n",
    "kp, km = sym.symbols(\"k^+ k^-\")"
   ]
  },
  {
   "cell_type": "code",
   "execution_count": 74,
   "metadata": {},
   "outputs": [
    {
     "data": {
      "text/latex": [
       "$\\displaystyle - \\frac{T_{i} \\left(x - x_{p}\\right) \\left(x - x_{i-1}\\right) \\left(x - x_{i-2}\\right)}{2 h^{3} \\theta} + \\frac{T_{p} \\left(x - x_{i}\\right) \\left(x - x_{i-1}\\right) \\left(x - x_{i-2}\\right)}{h^{3} \\theta \\left(\\theta + 1\\right) \\left(\\theta + 2\\right)} + \\frac{T_{i-1} \\left(x - x_{i}\\right) \\left(x - x_{p}\\right) \\left(x - x_{i-2}\\right)}{h^{3} \\left(\\theta + 1\\right)} + \\frac{T_{i-2} \\left(x - x_{i}\\right) \\left(x - x_{p}\\right) \\left(x - x_{i-1}\\right)}{2 h^{3} \\left(- \\theta - 2\\right)}$"
      ],
      "text/plain": [
       "-T_i*(x - x_p)*(x - x_{i-1})*(x - x_{i-2})/(2*h**3*theta) + T_p*(x - x_i)*(x - x_{i-1})*(x - x_{i-2})/(h**3*theta*(theta + 1)*(theta + 2)) + T_{i-1}*(x - x_i)*(x - x_p)*(x - x_{i-2})/(h**3*(theta + 1)) + T_{i-2}*(x - x_i)*(x - x_p)*(x - x_{i-1})/(2*h**3*(-theta - 2))"
      ]
     },
     "execution_count": 74,
     "metadata": {},
     "output_type": "execute_result"
    }
   ],
   "source": [
    "t1 = Tp  *(x-xi)*(x-xim)*(x-xim2) / (th*h*(th+1)*h*(th+2)*h)\n",
    "t2 = Ti  *(x-xp)*(x-xim)*(x-xim2) / (-th*h*h*2*h)\n",
    "t3 = Tim *(x-xp)*(x-xi )*(x-xim2) / ((th+1)*h*h*h)\n",
    "t4 = Tim2*(x-xp)*(x-xi )*(x-xim ) / (-(th+2)*h*2*h*h)\n",
    "\n",
    "y = t1 + t2 + t3 + t4\n",
    "y\n"
   ]
  },
  {
   "cell_type": "code",
   "execution_count": 75,
   "metadata": {},
   "outputs": [],
   "source": [
    "Tg = y.subs(x-xi, h)\n",
    "Tg = Tg.subs(x-xim, 2*h)\n",
    "Tg = Tg.subs(x-xim2, 3*h)\n",
    "Tg = Tg.subs(x-xp, (1-th)*h)"
   ]
  },
  {
   "cell_type": "code",
   "execution_count": 76,
   "metadata": {},
   "outputs": [
    {
     "data": {
      "text/latex": [
       "$\\displaystyle T_{i} \\left(\\frac{2 k^{+}}{h^{2}} - \\frac{3 k^{+}}{h^{2} \\theta} - \\frac{k^{-}}{h^{2}}\\right) + \\frac{6 T_{p} k^{+}}{h^{2} \\theta^{3} + 3 h^{2} \\theta^{2} + 2 h^{2} \\theta} + T_{i-1} \\left(- \\frac{3 k^{+} \\theta}{h^{2} \\theta + h^{2}} + \\frac{3 k^{+}}{h^{2} \\theta + h^{2}} + \\frac{k^{-}}{h^{2}}\\right) + T_{i-2} \\left(- \\frac{k^{+} \\theta}{- h^{2} \\theta - 2 h^{2}} + \\frac{k^{+}}{- h^{2} \\theta - 2 h^{2}}\\right)$"
      ],
      "text/plain": [
       "T_i*(2*k^+/h**2 - 3*k^+/(h**2*theta) - k^-/h**2) + 6*T_p*k^+/(h**2*theta**3 + 3*h**2*theta**2 + 2*h**2*theta) + T_{i-1}*(-3*k^+*theta/(h**2*theta + h**2) + 3*k^+/(h**2*theta + h**2) + k^-/h**2) + T_{i-2}*(-k^+*theta/(-h**2*theta - 2*h**2) + k^+/(-h**2*theta - 2*h**2))"
      ]
     },
     "execution_count": 76,
     "metadata": {},
     "output_type": "execute_result"
    }
   ],
   "source": [
    "fdiff = (kp*(Tg-Ti)/h - km*(Ti-Tim)/h)/h\n",
    "sym.collect(sym.collect(sym.collect(sym.expand(fdiff), Ti), Tim), Tim2)"
   ]
  },
  {
   "cell_type": "code",
   "execution_count": null,
   "metadata": {},
   "outputs": [],
   "source": []
  }
 ],
 "metadata": {
  "kernelspec": {
   "display_name": "base",
   "language": "python",
   "name": "python3"
  },
  "language_info": {
   "codemirror_mode": {
    "name": "ipython",
    "version": 3
   },
   "file_extension": ".py",
   "mimetype": "text/x-python",
   "name": "python",
   "nbconvert_exporter": "python",
   "pygments_lexer": "ipython3",
   "version": "3.10.11"
  },
  "orig_nbformat": 4,
  "vscode": {
   "interpreter": {
    "hash": "747b469bba3b977090fdf294eace6d1a2dbcc631bdb09a69d42cfe794851b684"
   }
  }
 },
 "nbformat": 4,
 "nbformat_minor": 2
}
